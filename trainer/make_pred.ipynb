{
 "metadata": {
  "language_info": {
   "codemirror_mode": {
    "name": "ipython",
    "version": 3
   },
   "file_extension": ".py",
   "mimetype": "text/x-python",
   "name": "python",
   "nbconvert_exporter": "python",
   "pygments_lexer": "ipython3",
   "version": "3.6.9-final"
  },
  "orig_nbformat": 2,
  "kernelspec": {
   "name": "python369jvsc74a57bd04cd7ab41f5fca4b9b44701077e38c5ffd31fe66a6cab21e0214b68d958d0e462",
   "display_name": "Python 3.6.9 64-bit"
  },
  "metadata": {
   "interpreter": {
    "hash": "4cd7ab41f5fca4b9b44701077e38c5ffd31fe66a6cab21e0214b68d958d0e462"
   }
  }
 },
 "nbformat": 4,
 "nbformat_minor": 2,
 "cells": [
  {
   "cell_type": "code",
   "execution_count": 6,
   "metadata": {},
   "outputs": [],
   "source": [
    "from pandas import read_csv\n",
    "from sklearn.model_selection import train_test_split\n",
    "from sklearn.metrics import classification_report\n",
    "from sklearn.metrics import confusion_matrix\n",
    "from sklearn.metrics import accuracy_score\n",
    "from sklearn.svm import SVC\n"
   ]
  },
  {
   "source": [
    "### Load Dataset and Split-out validation dataset"
   ],
   "cell_type": "markdown",
   "metadata": {}
  },
  {
   "cell_type": "code",
   "execution_count": 15,
   "metadata": {},
   "outputs": [],
   "source": [
    "url = \"/home/jos/tf_lab/Ultralight-SimplePose/generator_dataset/dataset_file1.csv\"\n",
    "data_title = ['0','1','2','3','4','5','6','7','8','9','10','11','12','13','14','15','16','res']\n",
    "\n",
    "dataset = read_csv(url, names=data_title)\n",
    "\n",
    "array = dataset.values\n",
    "\n",
    "X = array[:,[5,6,11,12,13,14,15,16]]\n",
    "y = array[:,len(data_title)-1]\n",
    "data_title = ['5','6','11','12','13','14','15','16','res']\n",
    "X_train, X_validation, Y_train, Y_validation = train_test_split(X, y, test_size=0.20, random_state=1, shuffle=True)"
   ]
  },
  {
   "source": [
    "### Make predictions on validation dataset"
   ],
   "cell_type": "markdown",
   "metadata": {}
  },
  {
   "cell_type": "code",
   "execution_count": 16,
   "metadata": {},
   "outputs": [],
   "source": [
    "model = SVC(gamma='auto')\n",
    "model.fit(X_train, Y_train)\n",
    "predictions = model.predict(X_validation)"
   ]
  },
  {
   "cell_type": "code",
   "execution_count": 17,
   "metadata": {},
   "outputs": [
    {
     "output_type": "stream",
     "name": "stdout",
     "text": [
      "[[115.6284 132.1956  12.978   19.656   76.934   76.5807 151.3159 151.3159]\n [ 88.1159 105.7515  39.5299  24.9836  90.7646  51.0738 150.5055 142.1914]\n [125.9049 119.9699  31.4136  24.6863  95.9628  98.9232 177.5489 182.4493]\n [109.945   72.286   59.7136  19.5403  47.5407  66.6685 146.6755 146.6755]\n [108.7924  88.4312  51.946   36.5945  51.8247  82.3283 118.1435 126.1853]\n [116.346  119.0038   9.9968  53.122   98.4955 102.0538 189.6016 185.4376]\n [ 43.3103  45.1405  40.6088  40.1142  47.5111  56.0617  83.9453  88.5817]\n [128.1257 128.1257  23.9353  14.5673 105.728   83.755  186.4354 179.1468]\n [ 47.4724  57.0761  71.0609  87.4057  59.5475  33.485   80.6486  99.9342]\n [115.9547 118.7215  10.4002  53.3413  99.2991 109.6092 190.5829 186.4168]\n [105.3494 113.6629  19.3565  39.2677  68.0967  62.4315 110.4724 109.5299]\n [ 53.8631  53.8631  57.3989  61.4205  60.0794  63.6859  94.7447 107.5265]\n [ 64.2582  53.0395 103.02    90.0359  41.2039  70.7016  99.9236 103.6548]\n [119.9375  97.3519  72.2764  37.3673  42.4128  67.2167 142.7393 132.5688]\n [104.466  112.7648  34.1443   9.8412  99.0875  87.9847 186.5216 164.7943]\n [108.217  112.8691  19.7491  44.0011  68.3038  67.984  110.7248 114.2695]\n [ 51.5472  54.8892  74.8851  87.3319  45.3632 126.9047  77.1145  98.0918]\n [108.2895 113.1025  19.8679  44.1692  68.2232  68.3334 111.0952 110.1668]\n [ 56.1083  53.5201  45.9689  53.7921  62.8185  62.8185  94.4204 107.0638]\n [ 91.4792 103.3871  24.6299  52.9388  72.0284  74.7205 135.3497 136.2961]\n [ 64.1051  50.4901  79.7644  70.22    44.4446  50.1873  78.6053  78.465 ]\n [105.7226  77.1168  56.5411  16.8016  47.4936  66.3661 145.6013 145.6013]\n [125.7831 129.0674  22.9081  26.5577  99.6039 107.5382 215.3976 199.4697]\n [111.3521 112.3766  31.5719   9.4727  92.0063  88.3766 186.8738 164.9366]\n [127.1192 131.5203  31.4262  24.4375 125.0337 127.6092 219.6183 222.963 ]\n [105.2831  71.1834  59.5206  19.9197  46.4517  66.6577 147.3634 152.6669]\n [ 68.869   56.9672  73.4483  53.7618   4.9153  59.9231  83.7063  80.4959]\n [125.1725 112.063   30.9909  24.0893  88.7373  91.453  177.2745 182.2405]\n [ 47.7267  54.4523  74.9167  90.6948  41.984   33.9008  80.3173  92.586 ]\n [113.5201 110.1936  28.7182  21.8186 154.5187 107.724  161.9627 190.1504]\n [124.279  121.8192  24.2259  14.662  104.5879  82.4929 185.9518 178.0744]\n [ 51.3327  60.0109  70.6721  46.393   59.9433  56.0385  96.2821  92.3002]\n [ 43.634   47.5517  37.7839  43.8602  48.3378  57.091   84.0654  88.8849]\n [120.8103 131.4768  22.5673  17.9553  77.6639  85.2686 152.0925 152.0925]]\n[1.]\n"
     ]
    }
   ],
   "source": [
    "print(X_validation)\n",
    "print(model.predict([[41.7551 ,74.1747,231.9391,255.3363,236.5764,235.0621,292.3115,273.7492]]))\n"
   ]
  },
  {
   "source": [
    "### Evaluate Predictions"
   ],
   "cell_type": "markdown",
   "metadata": {}
  },
  {
   "cell_type": "code",
   "execution_count": 18,
   "metadata": {},
   "outputs": [
    {
     "output_type": "stream",
     "name": "stdout",
     "text": [
      "accuracy score\n0.5588235294117647\nconfusion matrix\n[[11  0  0]\n [ 8  5  0]\n [ 7  0  3]]\nclassficiation report\n              precision    recall  f1-score   support\n\n         1.0       0.42      1.00      0.59        11\n         2.0       1.00      0.38      0.56        13\n         3.0       1.00      0.30      0.46        10\n\n    accuracy                           0.56        34\n   macro avg       0.81      0.56      0.54        34\nweighted avg       0.81      0.56      0.54        34\n\n"
     ]
    }
   ],
   "source": [
    "print('accuracy score')\n",
    "print(accuracy_score(Y_validation, predictions))\n",
    "print('confusion matrix')\n",
    "print(confusion_matrix(Y_validation, predictions))\n",
    "print('classficiation report')\n",
    "print(classification_report(Y_validation, predictions))"
   ]
  },
  {
   "cell_type": "code",
   "execution_count": null,
   "metadata": {},
   "outputs": [],
   "source": []
  }
 ]
}