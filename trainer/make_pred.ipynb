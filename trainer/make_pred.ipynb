{
 "metadata": {
  "language_info": {
   "codemirror_mode": {
    "name": "ipython",
    "version": 3
   },
   "file_extension": ".py",
   "mimetype": "text/x-python",
   "name": "python",
   "nbconvert_exporter": "python",
   "pygments_lexer": "ipython3",
   "version": "3.6.9-final"
  },
  "orig_nbformat": 2,
  "kernelspec": {
   "name": "python369jvsc74a57bd04cd7ab41f5fca4b9b44701077e38c5ffd31fe66a6cab21e0214b68d958d0e462",
   "display_name": "Python 3.6.9 64-bit"
  },
  "metadata": {
   "interpreter": {
    "hash": "4cd7ab41f5fca4b9b44701077e38c5ffd31fe66a6cab21e0214b68d958d0e462"
   }
  }
 },
 "nbformat": 4,
 "nbformat_minor": 2,
 "cells": [
  {
   "cell_type": "code",
   "execution_count": 2,
   "metadata": {},
   "outputs": [],
   "source": [
    "from pandas import read_csv\n",
    "from sklearn.model_selection import train_test_split\n",
    "from sklearn.metrics import classification_report\n",
    "from sklearn.metrics import confusion_matrix\n",
    "from sklearn.metrics import accuracy_score\n",
    "from sklearn.svm import SVC\n"
   ]
  },
  {
   "source": [
    "### Load Dataset and Split-out validation dataset"
   ],
   "cell_type": "markdown",
   "metadata": {}
  },
  {
   "cell_type": "code",
   "execution_count": 4,
   "metadata": {},
   "outputs": [],
   "source": [
    "url = \"/home/jos/tf_lab/Ultralight-SimplePose/generator_dataset/dataset_file.csv\"\n",
    "data_title = ['0','1','2','3','4','5','6','7','8','9','10','11','12','13','14','15','16','res']\n",
    "\n",
    "dataset = read_csv(url, names=data_title)\n",
    "\n",
    "array = dataset.values\n",
    "\n",
    "X = array[:,[5,6,11,12,13,14,15,16]]\n",
    "y = array[:,len(data_title)-1]\n",
    "data_title = ['5','6','11','12','13','14','15','16','res']\n",
    "X_train, X_validation, Y_train, Y_validation = train_test_split(X, y, test_size=0.20, random_state=1, shuffle=True)"
   ]
  },
  {
   "source": [
    "### Make predictions on validation dataset"
   ],
   "cell_type": "markdown",
   "metadata": {}
  },
  {
   "cell_type": "code",
   "execution_count": 6,
   "metadata": {},
   "outputs": [],
   "source": [
    "model = SVC(gamma='auto')\n",
    "model.fit(X_train, Y_train)\n",
    "predictions = model.predict(X_validation)"
   ]
  },
  {
   "cell_type": "code",
   "execution_count": 11,
   "metadata": {},
   "outputs": [
    {
     "output_type": "stream",
     "name": "stdout",
     "text": [
      "[[ 41.7551  74.1747 231.9391 255.3363 236.5764 235.0621 292.3115 273.7492]\n [126.3396 109.6242 127.8976 168.9488 158.8655 178.9569 230.6719 302.3842]\n [121.7402  97.7628 237.7176 244.4821 265.0718 131.6069 278.5171 269.8297]\n [102.3404 113.0053 221.9896 242.3485 219.6651 233.0389 253.5231 212.3748]\n [117.406  113.0722 131.9082 167.6861 176.866  186.2988 224.0956 312.863 ]\n [117.0039 115.1852 130.7091 166.8974 159.971  185.5429 259.365  307.1668]\n [110.7544 108.1486 140.1481 180.4322 164.1248 182.5469 232.1847 291.6873]\n [ 95.4478 142.7565 239.1567 202.937  116.8775 205.1141 266.5489 192.8158]\n [151.5395  76.841  236.6218 187.6363 136.7264 157.8965 251.3583 221.9837]\n [ 92.4195 132.7273 223.9507 246.1353  99.4397 218.1217 317.002  317.6871]\n [222.3048 229.0859  13.8051  98.7118 198.4756 247.9786 296.366  296.5753]\n [119.0374 124.6985 148.5729 135.4373 269.7224 275.0467 286.7575 292.3059]\n [113.6123 115.3772 137.3466 165.3847 178.8958 189.6218 240.759  284.9459]\n [ 82.3912 128.7574 135.1211 159.5466 266.7491 279.9151 275.2987 287.7666]\n [151.418  109.3777 188.8263 182.694  295.5938 293.3327 303.2578 303.2578]\n [112.7319 112.6567 233.9868 219.8133 228.4121 216.4352 137.9071 170.1657]\n [ 97.6778  98.9654 223.6051 221.3305 293.7291 283.1902 280.0465 214.2606]\n [ 98.3698  91.9638 303.4979 269.3897 315.6553 323.4535 335.7119 318.6325]\n [105.7374 125.5698 142.6013 207.9669 152.5995  99.6188 245.4991 259.1489]]\n[0.]\n"
     ]
    }
   ],
   "source": [
    "print(X_validation)\n",
    "print(model.predict([[41.7551 ,74.1747,231.9391,255.3363,236.5764,235.0621,292.3115,273.7492]]))\n"
   ]
  },
  {
   "source": [
    "### Evaluate Predictions"
   ],
   "cell_type": "markdown",
   "metadata": {}
  },
  {
   "cell_type": "code",
   "execution_count": 8,
   "metadata": {},
   "outputs": [
    {
     "output_type": "stream",
     "name": "stdout",
     "text": [
      "accuracy score\n",
      "0.42105263157894735\n",
      "confusion matrix\n",
      "[[ 8  0]\n",
      " [11  0]]\n",
      "classficiation report\n",
      "              precision    recall  f1-score   support\n",
      "\n",
      "         0.0       0.42      1.00      0.59         8\n",
      "         1.0       0.00      0.00      0.00        11\n",
      "\n",
      "    accuracy                           0.42        19\n",
      "   macro avg       0.21      0.50      0.30        19\n",
      "weighted avg       0.18      0.42      0.25        19\n",
      "\n",
      "/usr/local/lib/python3.6/dist-packages/sklearn/metrics/_classification.py:1245: UndefinedMetricWarning: Precision and F-score are ill-defined and being set to 0.0 in labels with no predicted samples. Use `zero_division` parameter to control this behavior.\n",
      "  _warn_prf(average, modifier, msg_start, len(result))\n",
      "/usr/local/lib/python3.6/dist-packages/sklearn/metrics/_classification.py:1245: UndefinedMetricWarning: Precision and F-score are ill-defined and being set to 0.0 in labels with no predicted samples. Use `zero_division` parameter to control this behavior.\n",
      "  _warn_prf(average, modifier, msg_start, len(result))\n",
      "/usr/local/lib/python3.6/dist-packages/sklearn/metrics/_classification.py:1245: UndefinedMetricWarning: Precision and F-score are ill-defined and being set to 0.0 in labels with no predicted samples. Use `zero_division` parameter to control this behavior.\n",
      "  _warn_prf(average, modifier, msg_start, len(result))\n"
     ]
    }
   ],
   "source": [
    "print('accuracy score')\n",
    "print(accuracy_score(Y_validation, predictions))\n",
    "print('confusion matrix')\n",
    "print(confusion_matrix(Y_validation, predictions))\n",
    "print('classficiation report')\n",
    "print(classification_report(Y_validation, predictions))"
   ]
  },
  {
   "cell_type": "code",
   "execution_count": null,
   "metadata": {},
   "outputs": [],
   "source": []
  }
 ]
}