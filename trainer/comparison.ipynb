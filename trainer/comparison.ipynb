{
 "metadata": {
  "language_info": {
   "codemirror_mode": {
    "name": "ipython",
    "version": 3
   },
   "file_extension": ".py",
   "mimetype": "text/x-python",
   "name": "python",
   "nbconvert_exporter": "python",
   "pygments_lexer": "ipython3",
   "version": "3.6.9-final"
  },
  "orig_nbformat": 2,
  "kernelspec": {
   "name": "python369jvsc74a57bd04cd7ab41f5fca4b9b44701077e38c5ffd31fe66a6cab21e0214b68d958d0e462",
   "display_name": "Python 3.6.9 64-bit"
  },
  "metadata": {
   "interpreter": {
    "hash": "4cd7ab41f5fca4b9b44701077e38c5ffd31fe66a6cab21e0214b68d958d0e462"
   }
  }
 },
 "nbformat": 4,
 "nbformat_minor": 2,
 "cells": [
  {
   "source": [
    "### SOURCE"
   ],
   "cell_type": "markdown",
   "metadata": {}
  },
  {
   "cell_type": "code",
   "execution_count": 39,
   "metadata": {},
   "outputs": [],
   "source": [
    "# Source code: https://machinelearningmastery.com/machine-learning-in-python-step-by-step/\n",
    "# Additional list of ML methods:\n",
    "## https://www.analyticsvidhya.com/blog/2017/09/common-machine-learning-algorithms/\n",
    "## https://scikit-learn.org/stable/auto_examples/classification/plot_classifier_comparison.html\n"
   ]
  },
  {
   "source": [
    "### IMPORT LIBRARY"
   ],
   "cell_type": "markdown",
   "metadata": {}
  },
  {
   "cell_type": "code",
   "execution_count": 40,
   "metadata": {},
   "outputs": [],
   "source": [
    "# Compare algorithms\n",
    "from pandas import read_csv\n",
    "from matplotlib import pyplot\n",
    "from sklearn.model_selection import train_test_split\n",
    "from sklearn.model_selection import cross_val_score\n",
    "from sklearn.model_selection import StratifiedKFold\n",
    "from sklearn.ensemble import AdaBoostClassifier\n",
    "from sklearn.linear_model import SGDClassifier\n",
    "from sklearn.neural_network import MLPClassifier\n",
    "from sklearn.ensemble import GradientBoostingClassifier\n",
    "from sklearn.ensemble import RandomForestClassifier\n",
    "from sklearn.tree import DecisionTreeClassifier\n",
    "from sklearn.neighbors import KNeighborsClassifier\n",
    "from sklearn.naive_bayes import GaussianNB\n",
    "from sklearn.svm import SVC\n",
    "from sklearn.metrics import classification_report\n",
    "from sklearn.metrics import confusion_matrix\n",
    "from sklearn.metrics import accuracy_score\n"
   ]
  },
  {
   "source": [
    "### INPUT DATASET"
   ],
   "cell_type": "markdown",
   "metadata": {}
  },
  {
   "cell_type": "code",
   "execution_count": 41,
   "metadata": {},
   "outputs": [],
   "source": [
    "url = \"/home/jos/tf_lab/Ultralight-SimplePose/generator_dataset/dataset_file_5.csv\"\n",
    "data_title = ['0','1','2','3','4','5','6','7','8','9','10','11','12','13','14','15','16','res']\n",
    "\n",
    "dataset = read_csv(url, names=data_title)\n",
    "# Split-out validation dataset\n",
    "array = dataset.values\n",
    "\n",
    "X = array[:,[5,6,11,12,13,14,15,16]]\n",
    "y = array[:,len(data_title)-1]\n",
    "data_title = ['5','6','11','12','13','14','15','16','res']\n",
    "# train_size?\n",
    "X_train, X_validation, Y_train, Y_validation = train_test_split(X, y, train_size=0.9999, shuffle=True)\n",
    "\n"
   ]
  },
  {
   "cell_type": "code",
   "execution_count": 42,
   "metadata": {},
   "outputs": [
    {
     "output_type": "stream",
     "name": "stdout",
     "text": [
      "[[0.538651 0.483628 0.28452  ... 0.452691 0.592162 0.66182 ]\n [0.5199   0.483651 0.284523 ... 0.465388 0.600193 0.652812]\n [0.596767 0.568739 0.109906 ... 0.462553 0.855831 0.859459]\n ...\n [0.534124 0.579558 0.119111 ... 0.454051 0.761631 0.848585]\n [0.480945 0.521212 0.113094 ... 0.307731 0.800766 0.854227]\n [0.400001 0.315817 0.530264 ... 0.36269  0.658853 0.573295]]\n"
     ]
    }
   ],
   "source": [
    "print(X_train)"
   ]
  },
  {
   "cell_type": "code",
   "execution_count": 43,
   "metadata": {},
   "outputs": [
    {
     "output_type": "stream",
     "name": "stdout",
     "text": [
      "[[0.644263 0.576595 0.207694 0.110253 0.350479 0.422962 0.840704 0.854296]]\n"
     ]
    }
   ],
   "source": [
    "print(X_validation)"
   ]
  },
  {
   "cell_type": "code",
   "execution_count": 44,
   "metadata": {},
   "outputs": [
    {
     "output_type": "stream",
     "name": "stdout",
     "text": [
      "[1. 1. 2. 1. 1. 1. 2. 3. 1. 2. 2. 2. 1. 3. 3. 2. 2. 1. 1. 1. 1. 1. 3. 2.\n 2. 3. 2. 3. 2. 1. 1. 1. 2. 2. 2. 3. 2. 3. 2. 3. 3. 2. 2. 3. 2. 1. 2. 1.\n 2. 3. 2. 3. 1. 2. 1. 1. 1. 1. 2. 2. 2. 3. 3. 3. 1. 3. 2. 2. 2. 3. 2. 1.\n 1. 1. 2. 2. 2. 3. 1. 3. 2. 1. 3. 2. 1. 1. 2. 3. 1. 1. 2. 2. 3. 2. 1. 3.\n 1. 3. 3. 3. 2. 2. 3. 2. 1. 2. 1. 1. 2. 3. 1. 2. 3. 2. 1. 2. 3. 1. 2. 1.\n 2. 3. 2. 3. 2. 2. 3. 3. 1. 3. 2. 1. 2. 2. 2. 2. 2. 2. 2. 2. 3. 3. 2. 2.\n 1. 1. 1. 2. 3. 2. 3. 2. 1. 1. 1. 1. 1. 2. 1. 3. 1. 2. 2. 2. 1. 3. 3. 1.\n 2. 2. 3. 1. 2. 2. 3. 1. 2. 2. 3. 2. 2. 3. 3. 1. 1. 3. 2. 2. 3. 2. 3. 3.\n 1. 1. 2. 2. 1. 1. 1. 3. 1. 3. 1. 1. 2. 3. 2. 1. 1. 1. 1. 3. 2. 1. 3. 3.\n 1. 1. 2. 1. 2. 2. 1. 1. 1. 1. 2. 1. 3. 2. 1. 2. 2. 3. 2. 2. 1. 1. 2. 3.\n 1. 2. 2. 3. 3. 2. 1. 3. 2. 1. 3. 2. 3. 1. 1. 2. 2. 1. 2. 2. 3. 2. 2. 1.\n 1. 3. 2. 1. 2. 2. 2. 3. 1. 1. 1. 1. 2. 2. 1. 2. 2. 2. 1. 1. 3. 1. 2. 1.\n 1. 3. 2. 2. 2. 3. 3. 2. 3. 1. 1. 1. 2. 1. 1. 2. 2. 2. 3. 1. 2. 3. 2. 3.\n 2. 1. 2. 3. 1. 1. 3. 1. 2. 1. 1. 2. 1. 1. 2. 2. 1. 2. 3. 1. 1. 3. 1. 2.\n 3. 1. 1. 3. 1. 3. 2. 1. 1. 2. 2. 1. 2. 1. 3. 3. 1. 3. 2. 1. 2. 2. 3. 2.\n 3. 1. 2. 2. 1. 2. 1. 2. 3. 2. 2. 2. 1. 2. 2. 2. 2. 2. 1. 2. 2. 1. 3. 1.\n 1. 2. 2. 2. 1. 3. 1. 2. 1. 1. 1. 2. 3. 2. 2. 2. 1. 3. 1. 1. 1. 3. 1. 3.\n 3. 1. 2. 3. 1. 1. 3. 2. 1. 2. 1. 3. 3. 2. 3. 2. 1. 2. 3. 3. 2. 2. 1. 1.\n 1. 2. 1. 1. 2. 1. 1. 1. 2. 1. 2. 2. 3. 1. 1. 2. 3. 1. 2. 2. 2. 3. 2. 2.\n 2. 3. 2. 3. 3. 1. 1. 3. 1. 1. 3. 2. 3. 3. 3. 1. 2. 3. 3. 2. 3. 2. 1. 3.\n 1. 2. 2. 2. 1. 3. 2. 2. 2. 1. 1. 2. 2. 3. 1. 3. 2. 1. 1. 1. 2. 2. 1. 3.\n 3. 2. 1. 3. 1. 1. 2. 1. 1. 1. 2. 1. 1. 2. 3. 3. 1. 3. 1. 3. 3. 2. 1. 2.\n 2. 3. 2. 2. 1. 3. 2. 2. 3. 1. 1. 2. 1. 1. 2. 2. 1. 2. 2. 3. 2. 3. 1. 2.\n 2. 1. 2. 1. 2. 2. 3. 2. 1. 1. 1. 3. 3. 3. 1. 2. 3. 1. 2. 3. 3. 3. 1. 2.\n 3. 1. 1. 2. 2. 3. 3. 1. 2. 1. 3. 2. 3. 1. 1. 3. 2. 1. 1. 2. 1. 2. 1. 1.\n 1. 1. 3. 1. 1. 3. 1. 1. 1. 3. 1. 3. 3. 2. 2. 2. 3. 1. 2. 1. 1. 2. 3. 3.\n 3. 3. 2. 2. 2. 1. 1. 2. 3. 2. 3. 1. 2. 1. 3. 2. 2. 1. 2. 1. 3. 1. 2. 1.\n 1. 2. 2. 3. 2. 3. 2. 1. 1. 3. 3. 1. 2. 1. 1. 2. 2. 1. 1. 2. 1. 1. 2. 2.\n 2. 2. 1. 1. 3. 3. 1. 1. 1. 2. 1. 2. 3. 1. 1. 1. 3. 2. 1. 1. 2. 2. 2. 1.\n 2. 2. 1. 3. 1. 1. 1. 2. 2. 3. 1. 3. 1. 2. 1. 1. 3. 1. 2. 2. 3. 3. 3. 1.\n 1. 1. 3. 2. 2. 1. 1. 3. 1. 1. 2. 1. 3. 2. 1. 3. 2. 3. 2. 3. 1. 2. 2. 3.\n 1. 3. 2. 3. 2. 2. 2. 1. 3. 2. 2. 3. 1. 1. 2. 1. 3. 1. 1. 1. 2. 3. 2. 3.\n 1. 2. 1. 2. 1. 1. 2. 1. 2. 1. 2. 2. 2. 2. 2. 3. 2. 3. 3. 1. 1. 3. 2. 2.\n 3. 3. 2. 1. 1. 3. 1. 1. 2. 1. 1. 2. 2. 1. 2. 3. 2. 3. 1.]\n"
     ]
    }
   ],
   "source": [
    "print(Y_train)"
   ]
  },
  {
   "cell_type": "code",
   "execution_count": 45,
   "metadata": {},
   "outputs": [
    {
     "output_type": "stream",
     "name": "stdout",
     "text": [
      "[2.]\n"
     ]
    }
   ],
   "source": [
    "print(Y_validation)"
   ]
  },
  {
   "source": [
    "### DEFINE MODEL"
   ],
   "cell_type": "markdown",
   "metadata": {}
  },
  {
   "cell_type": "code",
   "execution_count": 46,
   "metadata": {},
   "outputs": [],
   "source": [
    "\n",
    "# Spot Check Algorithms\n",
    "models = []\n",
    "models.append(('AB', AdaBoostClassifier()))\n",
    "models.append(('SGD', SGDClassifier()))\n",
    "models.append(('NNMLP', MLPClassifier(alpha=1, max_iter=1000)))\n",
    "models.append(('GB', GradientBoostingClassifier()))\n",
    "models.append(('RF', RandomForestClassifier()))\n",
    "models.append(('KNN', KNeighborsClassifier()))\n",
    "models.append(('CART', DecisionTreeClassifier()))\n",
    "models.append(('NB', GaussianNB()))\n",
    "models.append(('SVM', SVC(gamma='auto')))"
   ]
  },
  {
   "cell_type": "code",
   "execution_count": 47,
   "metadata": {},
   "outputs": [
    {
     "output_type": "stream",
     "name": "stdout",
     "text": [
      "AB : 0.995074 (0.003483)\n",
      "SGD : 0.990142 (0.004920)\n",
      "NNMLP : 0.859453 (0.011055)\n",
      "GB : 0.997537 (0.002463)\n",
      "RF : 0.998768 (0.002133)\n",
      "KNN : 0.997537 (0.002463)\n",
      "CART : 0.997537 (0.002463)\n",
      "NB : 0.997537 (0.002463)\n",
      "SVM : 0.997537 (0.002463)\n"
     ]
    },
    {
     "output_type": "display_data",
     "data": {
      "text/plain": "<Figure size 432x288 with 1 Axes>",
      "image/svg+xml": "<?xml version=\"1.0\" encoding=\"utf-8\" standalone=\"no\"?>\n<!DOCTYPE svg PUBLIC \"-//W3C//DTD SVG 1.1//EN\"\n  \"http://www.w3.org/Graphics/SVG/1.1/DTD/svg11.dtd\">\n<!-- Created with matplotlib (https://matplotlib.org/) -->\n<svg height=\"263.63625pt\" version=\"1.1\" viewBox=\"0 0 378.465625 263.63625\" width=\"378.465625pt\" xmlns=\"http://www.w3.org/2000/svg\" xmlns:xlink=\"http://www.w3.org/1999/xlink\">\n <metadata>\n  <rdf:RDF xmlns:cc=\"http://creativecommons.org/ns#\" xmlns:dc=\"http://purl.org/dc/elements/1.1/\" xmlns:rdf=\"http://www.w3.org/1999/02/22-rdf-syntax-ns#\">\n   <cc:Work>\n    <dc:type rdf:resource=\"http://purl.org/dc/dcmitype/StillImage\"/>\n    <dc:date>2021-04-26T08:48:48.251740</dc:date>\n    <dc:format>image/svg+xml</dc:format>\n    <dc:creator>\n     <cc:Agent>\n      <dc:title>Matplotlib v3.3.3, https://matplotlib.org/</dc:title>\n     </cc:Agent>\n    </dc:creator>\n   </cc:Work>\n  </rdf:RDF>\n </metadata>\n <defs>\n  <style type=\"text/css\">*{stroke-linecap:butt;stroke-linejoin:round;}</style>\n </defs>\n <g id=\"figure_1\">\n  <g id=\"patch_1\">\n   <path d=\"M 0 263.63625 \nL 378.465625 263.63625 \nL 378.465625 0 \nL 0 0 \nz\n\" style=\"fill:none;\"/>\n  </g>\n  <g id=\"axes_1\">\n   <g id=\"patch_2\">\n    <path d=\"M 36.465625 239.758125 \nL 371.265625 239.758125 \nL 371.265625 22.318125 \nL 36.465625 22.318125 \nz\n\" style=\"fill:#ffffff;\"/>\n   </g>\n   <g id=\"matplotlib.axis_1\">\n    <g id=\"xtick_1\">\n     <g id=\"line2d_1\">\n      <defs>\n       <path d=\"M 0 0 \nL 0 3.5 \n\" id=\"m5d75a797d9\" style=\"stroke:#000000;stroke-width:0.8;\"/>\n      </defs>\n      <g>\n       <use style=\"stroke:#000000;stroke-width:0.8;\" x=\"55.065625\" xlink:href=\"#m5d75a797d9\" y=\"239.758125\"/>\n      </g>\n     </g>\n     <g id=\"text_1\">\n      <!-- AB -->\n      <g transform=\"translate(48.214844 254.356563)scale(0.1 -0.1)\">\n       <defs>\n        <path d=\"M 34.1875 63.1875 \nL 20.796875 26.90625 \nL 47.609375 26.90625 \nz\nM 28.609375 72.90625 \nL 39.796875 72.90625 \nL 67.578125 0 \nL 57.328125 0 \nL 50.6875 18.703125 \nL 17.828125 18.703125 \nL 11.1875 0 \nL 0.78125 0 \nz\n\" id=\"DejaVuSans-65\"/>\n        <path d=\"M 19.671875 34.8125 \nL 19.671875 8.109375 \nL 35.5 8.109375 \nQ 43.453125 8.109375 47.28125 11.40625 \nQ 51.125 14.703125 51.125 21.484375 \nQ 51.125 28.328125 47.28125 31.5625 \nQ 43.453125 34.8125 35.5 34.8125 \nz\nM 19.671875 64.796875 \nL 19.671875 42.828125 \nL 34.28125 42.828125 \nQ 41.5 42.828125 45.03125 45.53125 \nQ 48.578125 48.25 48.578125 53.8125 \nQ 48.578125 59.328125 45.03125 62.0625 \nQ 41.5 64.796875 34.28125 64.796875 \nz\nM 9.8125 72.90625 \nL 35.015625 72.90625 \nQ 46.296875 72.90625 52.390625 68.21875 \nQ 58.5 63.53125 58.5 54.890625 \nQ 58.5 48.1875 55.375 44.234375 \nQ 52.25 40.28125 46.1875 39.3125 \nQ 53.46875 37.75 57.5 32.78125 \nQ 61.53125 27.828125 61.53125 20.40625 \nQ 61.53125 10.640625 54.890625 5.3125 \nQ 48.25 0 35.984375 0 \nL 9.8125 0 \nz\n\" id=\"DejaVuSans-66\"/>\n       </defs>\n       <use xlink:href=\"#DejaVuSans-65\"/>\n       <use x=\"68.408203\" xlink:href=\"#DejaVuSans-66\"/>\n      </g>\n     </g>\n    </g>\n    <g id=\"xtick_2\">\n     <g id=\"line2d_2\">\n      <g>\n       <use style=\"stroke:#000000;stroke-width:0.8;\" x=\"92.265625\" xlink:href=\"#m5d75a797d9\" y=\"239.758125\"/>\n      </g>\n     </g>\n     <g id=\"text_2\">\n      <!-- SGD -->\n      <g transform=\"translate(81.367188 254.356563)scale(0.1 -0.1)\">\n       <defs>\n        <path d=\"M 53.515625 70.515625 \nL 53.515625 60.890625 \nQ 47.90625 63.578125 42.921875 64.890625 \nQ 37.9375 66.21875 33.296875 66.21875 \nQ 25.25 66.21875 20.875 63.09375 \nQ 16.5 59.96875 16.5 54.203125 \nQ 16.5 49.359375 19.40625 46.890625 \nQ 22.3125 44.4375 30.421875 42.921875 \nL 36.375 41.703125 \nQ 47.40625 39.59375 52.65625 34.296875 \nQ 57.90625 29 57.90625 20.125 \nQ 57.90625 9.515625 50.796875 4.046875 \nQ 43.703125 -1.421875 29.984375 -1.421875 \nQ 24.8125 -1.421875 18.96875 -0.25 \nQ 13.140625 0.921875 6.890625 3.21875 \nL 6.890625 13.375 \nQ 12.890625 10.015625 18.65625 8.296875 \nQ 24.421875 6.59375 29.984375 6.59375 \nQ 38.421875 6.59375 43.015625 9.90625 \nQ 47.609375 13.234375 47.609375 19.390625 \nQ 47.609375 24.75 44.3125 27.78125 \nQ 41.015625 30.8125 33.5 32.328125 \nL 27.484375 33.5 \nQ 16.453125 35.6875 11.515625 40.375 \nQ 6.59375 45.0625 6.59375 53.421875 \nQ 6.59375 63.09375 13.40625 68.65625 \nQ 20.21875 74.21875 32.171875 74.21875 \nQ 37.3125 74.21875 42.625 73.28125 \nQ 47.953125 72.359375 53.515625 70.515625 \nz\n\" id=\"DejaVuSans-83\"/>\n        <path d=\"M 59.515625 10.40625 \nL 59.515625 29.984375 \nL 43.40625 29.984375 \nL 43.40625 38.09375 \nL 69.28125 38.09375 \nL 69.28125 6.78125 \nQ 63.578125 2.734375 56.6875 0.65625 \nQ 49.8125 -1.421875 42 -1.421875 \nQ 24.90625 -1.421875 15.25 8.5625 \nQ 5.609375 18.5625 5.609375 36.375 \nQ 5.609375 54.25 15.25 64.234375 \nQ 24.90625 74.21875 42 74.21875 \nQ 49.125 74.21875 55.546875 72.453125 \nQ 61.96875 70.703125 67.390625 67.28125 \nL 67.390625 56.78125 \nQ 61.921875 61.421875 55.765625 63.765625 \nQ 49.609375 66.109375 42.828125 66.109375 \nQ 29.4375 66.109375 22.71875 58.640625 \nQ 16.015625 51.171875 16.015625 36.375 \nQ 16.015625 21.625 22.71875 14.15625 \nQ 29.4375 6.6875 42.828125 6.6875 \nQ 48.046875 6.6875 52.140625 7.59375 \nQ 56.25 8.5 59.515625 10.40625 \nz\n\" id=\"DejaVuSans-71\"/>\n        <path d=\"M 19.671875 64.796875 \nL 19.671875 8.109375 \nL 31.59375 8.109375 \nQ 46.6875 8.109375 53.6875 14.9375 \nQ 60.6875 21.78125 60.6875 36.53125 \nQ 60.6875 51.171875 53.6875 57.984375 \nQ 46.6875 64.796875 31.59375 64.796875 \nz\nM 9.8125 72.90625 \nL 30.078125 72.90625 \nQ 51.265625 72.90625 61.171875 64.09375 \nQ 71.09375 55.28125 71.09375 36.53125 \nQ 71.09375 17.671875 61.125 8.828125 \nQ 51.171875 0 30.078125 0 \nL 9.8125 0 \nz\n\" id=\"DejaVuSans-68\"/>\n       </defs>\n       <use xlink:href=\"#DejaVuSans-83\"/>\n       <use x=\"63.476562\" xlink:href=\"#DejaVuSans-71\"/>\n       <use x=\"140.966797\" xlink:href=\"#DejaVuSans-68\"/>\n      </g>\n     </g>\n    </g>\n    <g id=\"xtick_3\">\n     <g id=\"line2d_3\">\n      <g>\n       <use style=\"stroke:#000000;stroke-width:0.8;\" x=\"129.465625\" xlink:href=\"#m5d75a797d9\" y=\"239.758125\"/>\n      </g>\n     </g>\n     <g id=\"text_3\">\n      <!-- NNMLP -->\n      <g transform=\"translate(111.869531 254.356563)scale(0.1 -0.1)\">\n       <defs>\n        <path d=\"M 9.8125 72.90625 \nL 23.09375 72.90625 \nL 55.421875 11.921875 \nL 55.421875 72.90625 \nL 64.984375 72.90625 \nL 64.984375 0 \nL 51.703125 0 \nL 19.390625 60.984375 \nL 19.390625 0 \nL 9.8125 0 \nz\n\" id=\"DejaVuSans-78\"/>\n        <path d=\"M 9.8125 72.90625 \nL 24.515625 72.90625 \nL 43.109375 23.296875 \nL 61.8125 72.90625 \nL 76.515625 72.90625 \nL 76.515625 0 \nL 66.890625 0 \nL 66.890625 64.015625 \nL 48.09375 14.015625 \nL 38.1875 14.015625 \nL 19.390625 64.015625 \nL 19.390625 0 \nL 9.8125 0 \nz\n\" id=\"DejaVuSans-77\"/>\n        <path d=\"M 9.8125 72.90625 \nL 19.671875 72.90625 \nL 19.671875 8.296875 \nL 55.171875 8.296875 \nL 55.171875 0 \nL 9.8125 0 \nz\n\" id=\"DejaVuSans-76\"/>\n        <path d=\"M 19.671875 64.796875 \nL 19.671875 37.40625 \nL 32.078125 37.40625 \nQ 38.96875 37.40625 42.71875 40.96875 \nQ 46.484375 44.53125 46.484375 51.125 \nQ 46.484375 57.671875 42.71875 61.234375 \nQ 38.96875 64.796875 32.078125 64.796875 \nz\nM 9.8125 72.90625 \nL 32.078125 72.90625 \nQ 44.34375 72.90625 50.609375 67.359375 \nQ 56.890625 61.8125 56.890625 51.125 \nQ 56.890625 40.328125 50.609375 34.8125 \nQ 44.34375 29.296875 32.078125 29.296875 \nL 19.671875 29.296875 \nL 19.671875 0 \nL 9.8125 0 \nz\n\" id=\"DejaVuSans-80\"/>\n       </defs>\n       <use xlink:href=\"#DejaVuSans-78\"/>\n       <use x=\"74.804688\" xlink:href=\"#DejaVuSans-78\"/>\n       <use x=\"149.609375\" xlink:href=\"#DejaVuSans-77\"/>\n       <use x=\"235.888672\" xlink:href=\"#DejaVuSans-76\"/>\n       <use x=\"291.601562\" xlink:href=\"#DejaVuSans-80\"/>\n      </g>\n     </g>\n    </g>\n    <g id=\"xtick_4\">\n     <g id=\"line2d_4\">\n      <g>\n       <use style=\"stroke:#000000;stroke-width:0.8;\" x=\"166.665625\" xlink:href=\"#m5d75a797d9\" y=\"239.758125\"/>\n      </g>\n     </g>\n     <g id=\"text_4\">\n      <!-- GB -->\n      <g transform=\"translate(159.360937 254.356563)scale(0.1 -0.1)\">\n       <use xlink:href=\"#DejaVuSans-71\"/>\n       <use x=\"77.490234\" xlink:href=\"#DejaVuSans-66\"/>\n      </g>\n     </g>\n    </g>\n    <g id=\"xtick_5\">\n     <g id=\"line2d_5\">\n      <g>\n       <use style=\"stroke:#000000;stroke-width:0.8;\" x=\"203.865625\" xlink:href=\"#m5d75a797d9\" y=\"239.758125\"/>\n      </g>\n     </g>\n     <g id=\"text_5\">\n      <!-- RF -->\n      <g transform=\"translate(197.515625 254.356563)scale(0.1 -0.1)\">\n       <defs>\n        <path d=\"M 44.390625 34.1875 \nQ 47.5625 33.109375 50.5625 29.59375 \nQ 53.5625 26.078125 56.59375 19.921875 \nL 66.609375 0 \nL 56 0 \nL 46.6875 18.703125 \nQ 43.0625 26.03125 39.671875 28.421875 \nQ 36.28125 30.8125 30.421875 30.8125 \nL 19.671875 30.8125 \nL 19.671875 0 \nL 9.8125 0 \nL 9.8125 72.90625 \nL 32.078125 72.90625 \nQ 44.578125 72.90625 50.734375 67.671875 \nQ 56.890625 62.453125 56.890625 51.90625 \nQ 56.890625 45.015625 53.6875 40.46875 \nQ 50.484375 35.9375 44.390625 34.1875 \nz\nM 19.671875 64.796875 \nL 19.671875 38.921875 \nL 32.078125 38.921875 \nQ 39.203125 38.921875 42.84375 42.21875 \nQ 46.484375 45.515625 46.484375 51.90625 \nQ 46.484375 58.296875 42.84375 61.546875 \nQ 39.203125 64.796875 32.078125 64.796875 \nz\n\" id=\"DejaVuSans-82\"/>\n        <path d=\"M 9.8125 72.90625 \nL 51.703125 72.90625 \nL 51.703125 64.59375 \nL 19.671875 64.59375 \nL 19.671875 43.109375 \nL 48.578125 43.109375 \nL 48.578125 34.8125 \nL 19.671875 34.8125 \nL 19.671875 0 \nL 9.8125 0 \nz\n\" id=\"DejaVuSans-70\"/>\n       </defs>\n       <use xlink:href=\"#DejaVuSans-82\"/>\n       <use x=\"69.482422\" xlink:href=\"#DejaVuSans-70\"/>\n      </g>\n     </g>\n    </g>\n    <g id=\"xtick_6\">\n     <g id=\"line2d_6\">\n      <g>\n       <use style=\"stroke:#000000;stroke-width:0.8;\" x=\"241.065625\" xlink:href=\"#m5d75a797d9\" y=\"239.758125\"/>\n      </g>\n     </g>\n     <g id=\"text_6\">\n      <!-- KNN -->\n      <g transform=\"translate(230.305469 254.356563)scale(0.1 -0.1)\">\n       <defs>\n        <path d=\"M 9.8125 72.90625 \nL 19.671875 72.90625 \nL 19.671875 42.09375 \nL 52.390625 72.90625 \nL 65.09375 72.90625 \nL 28.90625 38.921875 \nL 67.671875 0 \nL 54.6875 0 \nL 19.671875 35.109375 \nL 19.671875 0 \nL 9.8125 0 \nz\n\" id=\"DejaVuSans-75\"/>\n       </defs>\n       <use xlink:href=\"#DejaVuSans-75\"/>\n       <use x=\"65.576172\" xlink:href=\"#DejaVuSans-78\"/>\n       <use x=\"140.380859\" xlink:href=\"#DejaVuSans-78\"/>\n      </g>\n     </g>\n    </g>\n    <g id=\"xtick_7\">\n     <g id=\"line2d_7\">\n      <g>\n       <use style=\"stroke:#000000;stroke-width:0.8;\" x=\"278.265625\" xlink:href=\"#m5d75a797d9\" y=\"239.758125\"/>\n      </g>\n     </g>\n     <g id=\"text_7\">\n      <!-- CART -->\n      <g transform=\"translate(265.188281 254.356563)scale(0.1 -0.1)\">\n       <defs>\n        <path d=\"M 64.40625 67.28125 \nL 64.40625 56.890625 \nQ 59.421875 61.53125 53.78125 63.8125 \nQ 48.140625 66.109375 41.796875 66.109375 \nQ 29.296875 66.109375 22.65625 58.46875 \nQ 16.015625 50.828125 16.015625 36.375 \nQ 16.015625 21.96875 22.65625 14.328125 \nQ 29.296875 6.6875 41.796875 6.6875 \nQ 48.140625 6.6875 53.78125 8.984375 \nQ 59.421875 11.28125 64.40625 15.921875 \nL 64.40625 5.609375 \nQ 59.234375 2.09375 53.4375 0.328125 \nQ 47.65625 -1.421875 41.21875 -1.421875 \nQ 24.65625 -1.421875 15.125 8.703125 \nQ 5.609375 18.84375 5.609375 36.375 \nQ 5.609375 53.953125 15.125 64.078125 \nQ 24.65625 74.21875 41.21875 74.21875 \nQ 47.75 74.21875 53.53125 72.484375 \nQ 59.328125 70.75 64.40625 67.28125 \nz\n\" id=\"DejaVuSans-67\"/>\n        <path d=\"M -0.296875 72.90625 \nL 61.375 72.90625 \nL 61.375 64.59375 \nL 35.5 64.59375 \nL 35.5 0 \nL 25.59375 0 \nL 25.59375 64.59375 \nL -0.296875 64.59375 \nz\n\" id=\"DejaVuSans-84\"/>\n       </defs>\n       <use xlink:href=\"#DejaVuSans-67\"/>\n       <use x=\"69.824219\" xlink:href=\"#DejaVuSans-65\"/>\n       <use x=\"138.232422\" xlink:href=\"#DejaVuSans-82\"/>\n       <use x=\"200.464844\" xlink:href=\"#DejaVuSans-84\"/>\n      </g>\n     </g>\n    </g>\n    <g id=\"xtick_8\">\n     <g id=\"line2d_8\">\n      <g>\n       <use style=\"stroke:#000000;stroke-width:0.8;\" x=\"315.465625\" xlink:href=\"#m5d75a797d9\" y=\"239.758125\"/>\n      </g>\n     </g>\n     <g id=\"text_8\">\n      <!-- NB -->\n      <g transform=\"translate(308.294531 254.356563)scale(0.1 -0.1)\">\n       <use xlink:href=\"#DejaVuSans-78\"/>\n       <use x=\"74.804688\" xlink:href=\"#DejaVuSans-66\"/>\n      </g>\n     </g>\n    </g>\n    <g id=\"xtick_9\">\n     <g id=\"line2d_9\">\n      <g>\n       <use style=\"stroke:#000000;stroke-width:0.8;\" x=\"352.665625\" xlink:href=\"#m5d75a797d9\" y=\"239.758125\"/>\n      </g>\n     </g>\n     <g id=\"text_9\">\n      <!-- SVM -->\n      <g transform=\"translate(341.757031 254.356563)scale(0.1 -0.1)\">\n       <defs>\n        <path d=\"M 28.609375 0 \nL 0.78125 72.90625 \nL 11.078125 72.90625 \nL 34.1875 11.53125 \nL 57.328125 72.90625 \nL 67.578125 72.90625 \nL 39.796875 0 \nz\n\" id=\"DejaVuSans-86\"/>\n       </defs>\n       <use xlink:href=\"#DejaVuSans-83\"/>\n       <use x=\"63.476562\" xlink:href=\"#DejaVuSans-86\"/>\n       <use x=\"131.884766\" xlink:href=\"#DejaVuSans-77\"/>\n      </g>\n     </g>\n    </g>\n   </g>\n   <g id=\"matplotlib.axis_2\">\n    <g id=\"ytick_1\">\n     <g id=\"line2d_10\">\n      <defs>\n       <path d=\"M 0 0 \nL -3.5 0 \n\" id=\"m6ff2132129\" style=\"stroke:#000000;stroke-width:0.8;\"/>\n      </defs>\n      <g>\n       <use style=\"stroke:#000000;stroke-width:0.8;\" x=\"36.465625\" xlink:href=\"#m6ff2132129\" y=\"239.311767\"/>\n      </g>\n     </g>\n     <g id=\"text_10\">\n      <!-- 0.84 -->\n      <g transform=\"translate(7.2 243.110986)scale(0.1 -0.1)\">\n       <defs>\n        <path d=\"M 31.78125 66.40625 \nQ 24.171875 66.40625 20.328125 58.90625 \nQ 16.5 51.421875 16.5 36.375 \nQ 16.5 21.390625 20.328125 13.890625 \nQ 24.171875 6.390625 31.78125 6.390625 \nQ 39.453125 6.390625 43.28125 13.890625 \nQ 47.125 21.390625 47.125 36.375 \nQ 47.125 51.421875 43.28125 58.90625 \nQ 39.453125 66.40625 31.78125 66.40625 \nz\nM 31.78125 74.21875 \nQ 44.046875 74.21875 50.515625 64.515625 \nQ 56.984375 54.828125 56.984375 36.375 \nQ 56.984375 17.96875 50.515625 8.265625 \nQ 44.046875 -1.421875 31.78125 -1.421875 \nQ 19.53125 -1.421875 13.0625 8.265625 \nQ 6.59375 17.96875 6.59375 36.375 \nQ 6.59375 54.828125 13.0625 64.515625 \nQ 19.53125 74.21875 31.78125 74.21875 \nz\n\" id=\"DejaVuSans-48\"/>\n        <path d=\"M 10.6875 12.40625 \nL 21 12.40625 \nL 21 0 \nL 10.6875 0 \nz\n\" id=\"DejaVuSans-46\"/>\n        <path d=\"M 31.78125 34.625 \nQ 24.75 34.625 20.71875 30.859375 \nQ 16.703125 27.09375 16.703125 20.515625 \nQ 16.703125 13.921875 20.71875 10.15625 \nQ 24.75 6.390625 31.78125 6.390625 \nQ 38.8125 6.390625 42.859375 10.171875 \nQ 46.921875 13.96875 46.921875 20.515625 \nQ 46.921875 27.09375 42.890625 30.859375 \nQ 38.875 34.625 31.78125 34.625 \nz\nM 21.921875 38.8125 \nQ 15.578125 40.375 12.03125 44.71875 \nQ 8.5 49.078125 8.5 55.328125 \nQ 8.5 64.0625 14.71875 69.140625 \nQ 20.953125 74.21875 31.78125 74.21875 \nQ 42.671875 74.21875 48.875 69.140625 \nQ 55.078125 64.0625 55.078125 55.328125 \nQ 55.078125 49.078125 51.53125 44.71875 \nQ 48 40.375 41.703125 38.8125 \nQ 48.828125 37.15625 52.796875 32.3125 \nQ 56.78125 27.484375 56.78125 20.515625 \nQ 56.78125 9.90625 50.3125 4.234375 \nQ 43.84375 -1.421875 31.78125 -1.421875 \nQ 19.734375 -1.421875 13.25 4.234375 \nQ 6.78125 9.90625 6.78125 20.515625 \nQ 6.78125 27.484375 10.78125 32.3125 \nQ 14.796875 37.15625 21.921875 38.8125 \nz\nM 18.3125 54.390625 \nQ 18.3125 48.734375 21.84375 45.5625 \nQ 25.390625 42.390625 31.78125 42.390625 \nQ 38.140625 42.390625 41.71875 45.5625 \nQ 45.3125 48.734375 45.3125 54.390625 \nQ 45.3125 60.0625 41.71875 63.234375 \nQ 38.140625 66.40625 31.78125 66.40625 \nQ 25.390625 66.40625 21.84375 63.234375 \nQ 18.3125 60.0625 18.3125 54.390625 \nz\n\" id=\"DejaVuSans-56\"/>\n        <path d=\"M 37.796875 64.3125 \nL 12.890625 25.390625 \nL 37.796875 25.390625 \nz\nM 35.203125 72.90625 \nL 47.609375 72.90625 \nL 47.609375 25.390625 \nL 58.015625 25.390625 \nL 58.015625 17.1875 \nL 47.609375 17.1875 \nL 47.609375 0 \nL 37.796875 0 \nL 37.796875 17.1875 \nL 4.890625 17.1875 \nL 4.890625 26.703125 \nz\n\" id=\"DejaVuSans-52\"/>\n       </defs>\n       <use xlink:href=\"#DejaVuSans-48\"/>\n       <use x=\"63.623047\" xlink:href=\"#DejaVuSans-46\"/>\n       <use x=\"95.410156\" xlink:href=\"#DejaVuSans-56\"/>\n       <use x=\"159.033203\" xlink:href=\"#DejaVuSans-52\"/>\n      </g>\n     </g>\n    </g>\n    <g id=\"ytick_2\">\n     <g id=\"line2d_11\">\n      <g>\n       <use style=\"stroke:#000000;stroke-width:0.8;\" x=\"36.465625\" xlink:href=\"#m6ff2132129\" y=\"213.423016\"/>\n      </g>\n     </g>\n     <g id=\"text_11\">\n      <!-- 0.86 -->\n      <g transform=\"translate(7.2 217.222235)scale(0.1 -0.1)\">\n       <defs>\n        <path d=\"M 33.015625 40.375 \nQ 26.375 40.375 22.484375 35.828125 \nQ 18.609375 31.296875 18.609375 23.390625 \nQ 18.609375 15.53125 22.484375 10.953125 \nQ 26.375 6.390625 33.015625 6.390625 \nQ 39.65625 6.390625 43.53125 10.953125 \nQ 47.40625 15.53125 47.40625 23.390625 \nQ 47.40625 31.296875 43.53125 35.828125 \nQ 39.65625 40.375 33.015625 40.375 \nz\nM 52.59375 71.296875 \nL 52.59375 62.3125 \nQ 48.875 64.0625 45.09375 64.984375 \nQ 41.3125 65.921875 37.59375 65.921875 \nQ 27.828125 65.921875 22.671875 59.328125 \nQ 17.53125 52.734375 16.796875 39.40625 \nQ 19.671875 43.65625 24.015625 45.921875 \nQ 28.375 48.1875 33.59375 48.1875 \nQ 44.578125 48.1875 50.953125 41.515625 \nQ 57.328125 34.859375 57.328125 23.390625 \nQ 57.328125 12.15625 50.6875 5.359375 \nQ 44.046875 -1.421875 33.015625 -1.421875 \nQ 20.359375 -1.421875 13.671875 8.265625 \nQ 6.984375 17.96875 6.984375 36.375 \nQ 6.984375 53.65625 15.1875 63.9375 \nQ 23.390625 74.21875 37.203125 74.21875 \nQ 40.921875 74.21875 44.703125 73.484375 \nQ 48.484375 72.75 52.59375 71.296875 \nz\n\" id=\"DejaVuSans-54\"/>\n       </defs>\n       <use xlink:href=\"#DejaVuSans-48\"/>\n       <use x=\"63.623047\" xlink:href=\"#DejaVuSans-46\"/>\n       <use x=\"95.410156\" xlink:href=\"#DejaVuSans-56\"/>\n       <use x=\"159.033203\" xlink:href=\"#DejaVuSans-54\"/>\n      </g>\n     </g>\n    </g>\n    <g id=\"ytick_3\">\n     <g id=\"line2d_12\">\n      <g>\n       <use style=\"stroke:#000000;stroke-width:0.8;\" x=\"36.465625\" xlink:href=\"#m6ff2132129\" y=\"187.534266\"/>\n      </g>\n     </g>\n     <g id=\"text_12\">\n      <!-- 0.88 -->\n      <g transform=\"translate(7.2 191.333485)scale(0.1 -0.1)\">\n       <use xlink:href=\"#DejaVuSans-48\"/>\n       <use x=\"63.623047\" xlink:href=\"#DejaVuSans-46\"/>\n       <use x=\"95.410156\" xlink:href=\"#DejaVuSans-56\"/>\n       <use x=\"159.033203\" xlink:href=\"#DejaVuSans-56\"/>\n      </g>\n     </g>\n    </g>\n    <g id=\"ytick_4\">\n     <g id=\"line2d_13\">\n      <g>\n       <use style=\"stroke:#000000;stroke-width:0.8;\" x=\"36.465625\" xlink:href=\"#m6ff2132129\" y=\"161.645515\"/>\n      </g>\n     </g>\n     <g id=\"text_13\">\n      <!-- 0.90 -->\n      <g transform=\"translate(7.2 165.444734)scale(0.1 -0.1)\">\n       <defs>\n        <path d=\"M 10.984375 1.515625 \nL 10.984375 10.5 \nQ 14.703125 8.734375 18.5 7.8125 \nQ 22.3125 6.890625 25.984375 6.890625 \nQ 35.75 6.890625 40.890625 13.453125 \nQ 46.046875 20.015625 46.78125 33.40625 \nQ 43.953125 29.203125 39.59375 26.953125 \nQ 35.25 24.703125 29.984375 24.703125 \nQ 19.046875 24.703125 12.671875 31.3125 \nQ 6.296875 37.9375 6.296875 49.421875 \nQ 6.296875 60.640625 12.9375 67.421875 \nQ 19.578125 74.21875 30.609375 74.21875 \nQ 43.265625 74.21875 49.921875 64.515625 \nQ 56.59375 54.828125 56.59375 36.375 \nQ 56.59375 19.140625 48.40625 8.859375 \nQ 40.234375 -1.421875 26.421875 -1.421875 \nQ 22.703125 -1.421875 18.890625 -0.6875 \nQ 15.09375 0.046875 10.984375 1.515625 \nz\nM 30.609375 32.421875 \nQ 37.25 32.421875 41.125 36.953125 \nQ 45.015625 41.5 45.015625 49.421875 \nQ 45.015625 57.28125 41.125 61.84375 \nQ 37.25 66.40625 30.609375 66.40625 \nQ 23.96875 66.40625 20.09375 61.84375 \nQ 16.21875 57.28125 16.21875 49.421875 \nQ 16.21875 41.5 20.09375 36.953125 \nQ 23.96875 32.421875 30.609375 32.421875 \nz\n\" id=\"DejaVuSans-57\"/>\n       </defs>\n       <use xlink:href=\"#DejaVuSans-48\"/>\n       <use x=\"63.623047\" xlink:href=\"#DejaVuSans-46\"/>\n       <use x=\"95.410156\" xlink:href=\"#DejaVuSans-57\"/>\n       <use x=\"159.033203\" xlink:href=\"#DejaVuSans-48\"/>\n      </g>\n     </g>\n    </g>\n    <g id=\"ytick_5\">\n     <g id=\"line2d_14\">\n      <g>\n       <use style=\"stroke:#000000;stroke-width:0.8;\" x=\"36.465625\" xlink:href=\"#m6ff2132129\" y=\"135.756764\"/>\n      </g>\n     </g>\n     <g id=\"text_14\">\n      <!-- 0.92 -->\n      <g transform=\"translate(7.2 139.555983)scale(0.1 -0.1)\">\n       <defs>\n        <path d=\"M 19.1875 8.296875 \nL 53.609375 8.296875 \nL 53.609375 0 \nL 7.328125 0 \nL 7.328125 8.296875 \nQ 12.9375 14.109375 22.625 23.890625 \nQ 32.328125 33.6875 34.8125 36.53125 \nQ 39.546875 41.84375 41.421875 45.53125 \nQ 43.3125 49.21875 43.3125 52.78125 \nQ 43.3125 58.59375 39.234375 62.25 \nQ 35.15625 65.921875 28.609375 65.921875 \nQ 23.96875 65.921875 18.8125 64.3125 \nQ 13.671875 62.703125 7.8125 59.421875 \nL 7.8125 69.390625 \nQ 13.765625 71.78125 18.9375 73 \nQ 24.125 74.21875 28.421875 74.21875 \nQ 39.75 74.21875 46.484375 68.546875 \nQ 53.21875 62.890625 53.21875 53.421875 \nQ 53.21875 48.921875 51.53125 44.890625 \nQ 49.859375 40.875 45.40625 35.40625 \nQ 44.1875 33.984375 37.640625 27.21875 \nQ 31.109375 20.453125 19.1875 8.296875 \nz\n\" id=\"DejaVuSans-50\"/>\n       </defs>\n       <use xlink:href=\"#DejaVuSans-48\"/>\n       <use x=\"63.623047\" xlink:href=\"#DejaVuSans-46\"/>\n       <use x=\"95.410156\" xlink:href=\"#DejaVuSans-57\"/>\n       <use x=\"159.033203\" xlink:href=\"#DejaVuSans-50\"/>\n      </g>\n     </g>\n    </g>\n    <g id=\"ytick_6\">\n     <g id=\"line2d_15\">\n      <g>\n       <use style=\"stroke:#000000;stroke-width:0.8;\" x=\"36.465625\" xlink:href=\"#m6ff2132129\" y=\"109.868014\"/>\n      </g>\n     </g>\n     <g id=\"text_15\">\n      <!-- 0.94 -->\n      <g transform=\"translate(7.2 113.667232)scale(0.1 -0.1)\">\n       <use xlink:href=\"#DejaVuSans-48\"/>\n       <use x=\"63.623047\" xlink:href=\"#DejaVuSans-46\"/>\n       <use x=\"95.410156\" xlink:href=\"#DejaVuSans-57\"/>\n       <use x=\"159.033203\" xlink:href=\"#DejaVuSans-52\"/>\n      </g>\n     </g>\n    </g>\n    <g id=\"ytick_7\">\n     <g id=\"line2d_16\">\n      <g>\n       <use style=\"stroke:#000000;stroke-width:0.8;\" x=\"36.465625\" xlink:href=\"#m6ff2132129\" y=\"83.979263\"/>\n      </g>\n     </g>\n     <g id=\"text_16\">\n      <!-- 0.96 -->\n      <g transform=\"translate(7.2 87.778482)scale(0.1 -0.1)\">\n       <use xlink:href=\"#DejaVuSans-48\"/>\n       <use x=\"63.623047\" xlink:href=\"#DejaVuSans-46\"/>\n       <use x=\"95.410156\" xlink:href=\"#DejaVuSans-57\"/>\n       <use x=\"159.033203\" xlink:href=\"#DejaVuSans-54\"/>\n      </g>\n     </g>\n    </g>\n    <g id=\"ytick_8\">\n     <g id=\"line2d_17\">\n      <g>\n       <use style=\"stroke:#000000;stroke-width:0.8;\" x=\"36.465625\" xlink:href=\"#m6ff2132129\" y=\"58.090512\"/>\n      </g>\n     </g>\n     <g id=\"text_17\">\n      <!-- 0.98 -->\n      <g transform=\"translate(7.2 61.889731)scale(0.1 -0.1)\">\n       <use xlink:href=\"#DejaVuSans-48\"/>\n       <use x=\"63.623047\" xlink:href=\"#DejaVuSans-46\"/>\n       <use x=\"95.410156\" xlink:href=\"#DejaVuSans-57\"/>\n       <use x=\"159.033203\" xlink:href=\"#DejaVuSans-56\"/>\n      </g>\n     </g>\n    </g>\n    <g id=\"ytick_9\">\n     <g id=\"line2d_18\">\n      <g>\n       <use style=\"stroke:#000000;stroke-width:0.8;\" x=\"36.465625\" xlink:href=\"#m6ff2132129\" y=\"32.201761\"/>\n      </g>\n     </g>\n     <g id=\"text_18\">\n      <!-- 1.00 -->\n      <g transform=\"translate(7.2 36.00098)scale(0.1 -0.1)\">\n       <defs>\n        <path d=\"M 12.40625 8.296875 \nL 28.515625 8.296875 \nL 28.515625 63.921875 \nL 10.984375 60.40625 \nL 10.984375 69.390625 \nL 28.421875 72.90625 \nL 38.28125 72.90625 \nL 38.28125 8.296875 \nL 54.390625 8.296875 \nL 54.390625 0 \nL 12.40625 0 \nz\n\" id=\"DejaVuSans-49\"/>\n       </defs>\n       <use xlink:href=\"#DejaVuSans-49\"/>\n       <use x=\"63.623047\" xlink:href=\"#DejaVuSans-46\"/>\n       <use x=\"95.410156\" xlink:href=\"#DejaVuSans-48\"/>\n       <use x=\"159.033203\" xlink:href=\"#DejaVuSans-48\"/>\n      </g>\n     </g>\n    </g>\n   </g>\n   <g id=\"line2d_19\">\n    <path clip-path=\"url(#p60af48b240)\" d=\"M 45.765625 40.172436 \nL 64.365625 40.172436 \nL 64.365625 36.984166 \nL 45.765625 36.984166 \nL 45.765625 40.172436 \n\" style=\"fill:none;stroke:#000000;stroke-linecap:square;\"/>\n   </g>\n   <g id=\"line2d_20\">\n    <path clip-path=\"url(#p60af48b240)\" d=\"M 55.065625 40.172436 \nL 55.065625 40.172436 \n\" style=\"fill:none;stroke:#000000;stroke-linecap:square;\"/>\n   </g>\n   <g id=\"line2d_21\">\n    <path clip-path=\"url(#p60af48b240)\" d=\"M 55.065625 36.984166 \nL 55.065625 32.201761 \n\" style=\"fill:none;stroke:#000000;stroke-linecap:square;\"/>\n   </g>\n   <g id=\"line2d_22\">\n    <path clip-path=\"url(#p60af48b240)\" d=\"M 50.415625 40.172436 \nL 59.715625 40.172436 \n\" style=\"fill:none;stroke:#000000;stroke-linecap:square;\"/>\n   </g>\n   <g id=\"line2d_23\">\n    <path clip-path=\"url(#p60af48b240)\" d=\"M 50.415625 32.201761 \nL 59.715625 32.201761 \n\" style=\"fill:none;stroke:#000000;stroke-linecap:square;\"/>\n   </g>\n   <g id=\"line2d_24\">\n    <defs>\n     <path d=\"M 0 3 \nC 0.795609 3 1.55874 2.683901 2.12132 2.12132 \nC 2.683901 1.55874 3 0.795609 3 0 \nC 3 -0.795609 2.683901 -1.55874 2.12132 -2.12132 \nC 1.55874 -2.683901 0.795609 -3 0 -3 \nC -0.795609 -3 -1.55874 -2.683901 -2.12132 -2.12132 \nC -2.683901 -1.55874 -3 -0.795609 -3 0 \nC -3 0.795609 -2.683901 1.55874 -2.12132 2.12132 \nC -1.55874 2.683901 -0.795609 3 0 3 \nz\n\" id=\"m129e12b5d7\" style=\"stroke:#000000;\"/>\n    </defs>\n    <g clip-path=\"url(#p60af48b240)\">\n     <use style=\"fill-opacity:0;stroke:#000000;\" x=\"55.065625\" xlink:href=\"#m129e12b5d7\" y=\"44.954841\"/>\n    </g>\n   </g>\n   <g id=\"line2d_25\">\n    <path clip-path=\"url(#p60af48b240)\" d=\"M 82.965625 51.33138 \nL 101.565625 51.33138 \nL 101.565625 38.601976 \nL 82.965625 38.601976 \nL 82.965625 51.33138 \n\" style=\"fill:none;stroke:#000000;stroke-linecap:square;\"/>\n   </g>\n   <g id=\"line2d_26\">\n    <path clip-path=\"url(#p60af48b240)\" d=\"M 92.265625 51.33138 \nL 92.265625 51.33138 \n\" style=\"fill:none;stroke:#000000;stroke-linecap:square;\"/>\n   </g>\n   <g id=\"line2d_27\">\n    <path clip-path=\"url(#p60af48b240)\" d=\"M 92.265625 38.601976 \nL 92.265625 38.578301 \n\" style=\"fill:none;stroke:#000000;stroke-linecap:square;\"/>\n   </g>\n   <g id=\"line2d_28\">\n    <path clip-path=\"url(#p60af48b240)\" d=\"M 87.615625 51.33138 \nL 96.915625 51.33138 \n\" style=\"fill:none;stroke:#000000;stroke-linecap:square;\"/>\n   </g>\n   <g id=\"line2d_29\">\n    <path clip-path=\"url(#p60af48b240)\" d=\"M 87.615625 38.578301 \nL 96.915625 38.578301 \n\" style=\"fill:none;stroke:#000000;stroke-linecap:square;\"/>\n   </g>\n   <g id=\"line2d_30\"/>\n   <g id=\"line2d_31\">\n    <path clip-path=\"url(#p60af48b240)\" d=\"M 120.165625 225.092084 \nL 138.765625 225.092084 \nL 138.765625 206.159759 \nL 120.165625 206.159759 \nL 120.165625 225.092084 \n\" style=\"fill:none;stroke:#000000;stroke-linecap:square;\"/>\n   </g>\n   <g id=\"line2d_32\">\n    <path clip-path=\"url(#p60af48b240)\" d=\"M 129.465625 225.092084 \nL 129.465625 229.874489 \n\" style=\"fill:none;stroke:#000000;stroke-linecap:square;\"/>\n   </g>\n   <g id=\"line2d_33\">\n    <path clip-path=\"url(#p60af48b240)\" d=\"M 129.465625 206.159759 \nL 129.465625 192.404427 \n\" style=\"fill:none;stroke:#000000;stroke-linecap:square;\"/>\n   </g>\n   <g id=\"line2d_34\">\n    <path clip-path=\"url(#p60af48b240)\" d=\"M 124.815625 229.874489 \nL 134.115625 229.874489 \n\" style=\"fill:none;stroke:#000000;stroke-linecap:square;\"/>\n   </g>\n   <g id=\"line2d_35\">\n    <path clip-path=\"url(#p60af48b240)\" d=\"M 124.815625 192.404427 \nL 134.115625 192.404427 \n\" style=\"fill:none;stroke:#000000;stroke-linecap:square;\"/>\n   </g>\n   <g id=\"line2d_36\"/>\n   <g id=\"line2d_37\">\n    <path clip-path=\"url(#p60af48b240)\" d=\"M 157.365625 38.578301 \nL 175.965625 38.578301 \nL 175.965625 32.201761 \nL 157.365625 32.201761 \nL 157.365625 38.578301 \n\" style=\"fill:none;stroke:#000000;stroke-linecap:square;\"/>\n   </g>\n   <g id=\"line2d_38\">\n    <path clip-path=\"url(#p60af48b240)\" d=\"M 166.665625 38.578301 \nL 166.665625 38.578301 \n\" style=\"fill:none;stroke:#000000;stroke-linecap:square;\"/>\n   </g>\n   <g id=\"line2d_39\">\n    <path clip-path=\"url(#p60af48b240)\" d=\"M 166.665625 32.201761 \nL 166.665625 32.201761 \n\" style=\"fill:none;stroke:#000000;stroke-linecap:square;\"/>\n   </g>\n   <g id=\"line2d_40\">\n    <path clip-path=\"url(#p60af48b240)\" d=\"M 162.015625 38.578301 \nL 171.315625 38.578301 \n\" style=\"fill:none;stroke:#000000;stroke-linecap:square;\"/>\n   </g>\n   <g id=\"line2d_41\">\n    <path clip-path=\"url(#p60af48b240)\" d=\"M 162.015625 32.201761 \nL 171.315625 32.201761 \n\" style=\"fill:none;stroke:#000000;stroke-linecap:square;\"/>\n   </g>\n   <g id=\"line2d_42\"/>\n   <g id=\"line2d_43\">\n    <path clip-path=\"url(#p60af48b240)\" d=\"M 194.565625 33.795896 \nL 213.165625 33.795896 \nL 213.165625 32.201761 \nL 194.565625 32.201761 \nL 194.565625 33.795896 \n\" style=\"fill:none;stroke:#000000;stroke-linecap:square;\"/>\n   </g>\n   <g id=\"line2d_44\">\n    <path clip-path=\"url(#p60af48b240)\" d=\"M 203.865625 33.795896 \nL 203.865625 33.795896 \n\" style=\"fill:none;stroke:#000000;stroke-linecap:square;\"/>\n   </g>\n   <g id=\"line2d_45\">\n    <path clip-path=\"url(#p60af48b240)\" d=\"M 203.865625 32.201761 \nL 203.865625 32.201761 \n\" style=\"fill:none;stroke:#000000;stroke-linecap:square;\"/>\n   </g>\n   <g id=\"line2d_46\">\n    <path clip-path=\"url(#p60af48b240)\" d=\"M 199.215625 33.795896 \nL 208.515625 33.795896 \n\" style=\"fill:none;stroke:#000000;stroke-linecap:square;\"/>\n   </g>\n   <g id=\"line2d_47\">\n    <path clip-path=\"url(#p60af48b240)\" d=\"M 199.215625 32.201761 \nL 208.515625 32.201761 \n\" style=\"fill:none;stroke:#000000;stroke-linecap:square;\"/>\n   </g>\n   <g id=\"line2d_48\">\n    <g clip-path=\"url(#p60af48b240)\">\n     <use style=\"fill-opacity:0;stroke:#000000;\" x=\"203.865625\" xlink:href=\"#m129e12b5d7\" y=\"38.578301\"/>\n    </g>\n   </g>\n   <g id=\"line2d_49\">\n    <path clip-path=\"url(#p60af48b240)\" d=\"M 231.765625 38.578301 \nL 250.365625 38.578301 \nL 250.365625 32.201761 \nL 231.765625 32.201761 \nL 231.765625 38.578301 \n\" style=\"fill:none;stroke:#000000;stroke-linecap:square;\"/>\n   </g>\n   <g id=\"line2d_50\">\n    <path clip-path=\"url(#p60af48b240)\" d=\"M 241.065625 38.578301 \nL 241.065625 38.578301 \n\" style=\"fill:none;stroke:#000000;stroke-linecap:square;\"/>\n   </g>\n   <g id=\"line2d_51\">\n    <path clip-path=\"url(#p60af48b240)\" d=\"M 241.065625 32.201761 \nL 241.065625 32.201761 \n\" style=\"fill:none;stroke:#000000;stroke-linecap:square;\"/>\n   </g>\n   <g id=\"line2d_52\">\n    <path clip-path=\"url(#p60af48b240)\" d=\"M 236.415625 38.578301 \nL 245.715625 38.578301 \n\" style=\"fill:none;stroke:#000000;stroke-linecap:square;\"/>\n   </g>\n   <g id=\"line2d_53\">\n    <path clip-path=\"url(#p60af48b240)\" d=\"M 236.415625 32.201761 \nL 245.715625 32.201761 \n\" style=\"fill:none;stroke:#000000;stroke-linecap:square;\"/>\n   </g>\n   <g id=\"line2d_54\"/>\n   <g id=\"line2d_55\">\n    <path clip-path=\"url(#p60af48b240)\" d=\"M 268.965625 38.578301 \nL 287.565625 38.578301 \nL 287.565625 32.201761 \nL 268.965625 32.201761 \nL 268.965625 38.578301 \n\" style=\"fill:none;stroke:#000000;stroke-linecap:square;\"/>\n   </g>\n   <g id=\"line2d_56\">\n    <path clip-path=\"url(#p60af48b240)\" d=\"M 278.265625 38.578301 \nL 278.265625 38.578301 \n\" style=\"fill:none;stroke:#000000;stroke-linecap:square;\"/>\n   </g>\n   <g id=\"line2d_57\">\n    <path clip-path=\"url(#p60af48b240)\" d=\"M 278.265625 32.201761 \nL 278.265625 32.201761 \n\" style=\"fill:none;stroke:#000000;stroke-linecap:square;\"/>\n   </g>\n   <g id=\"line2d_58\">\n    <path clip-path=\"url(#p60af48b240)\" d=\"M 273.615625 38.578301 \nL 282.915625 38.578301 \n\" style=\"fill:none;stroke:#000000;stroke-linecap:square;\"/>\n   </g>\n   <g id=\"line2d_59\">\n    <path clip-path=\"url(#p60af48b240)\" d=\"M 273.615625 32.201761 \nL 282.915625 32.201761 \n\" style=\"fill:none;stroke:#000000;stroke-linecap:square;\"/>\n   </g>\n   <g id=\"line2d_60\"/>\n   <g id=\"line2d_61\">\n    <path clip-path=\"url(#p60af48b240)\" d=\"M 306.165625 38.578301 \nL 324.765625 38.578301 \nL 324.765625 32.201761 \nL 306.165625 32.201761 \nL 306.165625 38.578301 \n\" style=\"fill:none;stroke:#000000;stroke-linecap:square;\"/>\n   </g>\n   <g id=\"line2d_62\">\n    <path clip-path=\"url(#p60af48b240)\" d=\"M 315.465625 38.578301 \nL 315.465625 38.578301 \n\" style=\"fill:none;stroke:#000000;stroke-linecap:square;\"/>\n   </g>\n   <g id=\"line2d_63\">\n    <path clip-path=\"url(#p60af48b240)\" d=\"M 315.465625 32.201761 \nL 315.465625 32.201761 \n\" style=\"fill:none;stroke:#000000;stroke-linecap:square;\"/>\n   </g>\n   <g id=\"line2d_64\">\n    <path clip-path=\"url(#p60af48b240)\" d=\"M 310.815625 38.578301 \nL 320.115625 38.578301 \n\" style=\"fill:none;stroke:#000000;stroke-linecap:square;\"/>\n   </g>\n   <g id=\"line2d_65\">\n    <path clip-path=\"url(#p60af48b240)\" d=\"M 310.815625 32.201761 \nL 320.115625 32.201761 \n\" style=\"fill:none;stroke:#000000;stroke-linecap:square;\"/>\n   </g>\n   <g id=\"line2d_66\"/>\n   <g id=\"line2d_67\">\n    <path clip-path=\"url(#p60af48b240)\" d=\"M 343.365625 38.578301 \nL 361.965625 38.578301 \nL 361.965625 32.201761 \nL 343.365625 32.201761 \nL 343.365625 38.578301 \n\" style=\"fill:none;stroke:#000000;stroke-linecap:square;\"/>\n   </g>\n   <g id=\"line2d_68\">\n    <path clip-path=\"url(#p60af48b240)\" d=\"M 352.665625 38.578301 \nL 352.665625 38.578301 \n\" style=\"fill:none;stroke:#000000;stroke-linecap:square;\"/>\n   </g>\n   <g id=\"line2d_69\">\n    <path clip-path=\"url(#p60af48b240)\" d=\"M 352.665625 32.201761 \nL 352.665625 32.201761 \n\" style=\"fill:none;stroke:#000000;stroke-linecap:square;\"/>\n   </g>\n   <g id=\"line2d_70\">\n    <path clip-path=\"url(#p60af48b240)\" d=\"M 348.015625 38.578301 \nL 357.315625 38.578301 \n\" style=\"fill:none;stroke:#000000;stroke-linecap:square;\"/>\n   </g>\n   <g id=\"line2d_71\">\n    <path clip-path=\"url(#p60af48b240)\" d=\"M 348.015625 32.201761 \nL 357.315625 32.201761 \n\" style=\"fill:none;stroke:#000000;stroke-linecap:square;\"/>\n   </g>\n   <g id=\"line2d_72\"/>\n   <g id=\"line2d_73\">\n    <path clip-path=\"url(#p60af48b240)\" d=\"M 45.765625 38.578301 \nL 64.365625 38.578301 \n\" style=\"fill:none;stroke:#ff7f0e;stroke-linecap:square;\"/>\n   </g>\n   <g id=\"line2d_74\">\n    <path clip-path=\"url(#p60af48b240)\" d=\"M 82.965625 44.970624 \nL 101.565625 44.970624 \n\" style=\"fill:none;stroke:#ff7f0e;stroke-linecap:square;\"/>\n   </g>\n   <g id=\"line2d_75\">\n    <path clip-path=\"url(#p60af48b240)\" d=\"M 120.165625 217.121409 \nL 138.765625 217.121409 \n\" style=\"fill:none;stroke:#ff7f0e;stroke-linecap:square;\"/>\n   </g>\n   <g id=\"line2d_76\">\n    <path clip-path=\"url(#p60af48b240)\" d=\"M 157.365625 35.390031 \nL 175.965625 35.390031 \n\" style=\"fill:none;stroke:#ff7f0e;stroke-linecap:square;\"/>\n   </g>\n   <g id=\"line2d_77\">\n    <path clip-path=\"url(#p60af48b240)\" d=\"M 194.565625 32.201761 \nL 213.165625 32.201761 \n\" style=\"fill:none;stroke:#ff7f0e;stroke-linecap:square;\"/>\n   </g>\n   <g id=\"line2d_78\">\n    <path clip-path=\"url(#p60af48b240)\" d=\"M 231.765625 35.390031 \nL 250.365625 35.390031 \n\" style=\"fill:none;stroke:#ff7f0e;stroke-linecap:square;\"/>\n   </g>\n   <g id=\"line2d_79\">\n    <path clip-path=\"url(#p60af48b240)\" d=\"M 268.965625 35.390031 \nL 287.565625 35.390031 \n\" style=\"fill:none;stroke:#ff7f0e;stroke-linecap:square;\"/>\n   </g>\n   <g id=\"line2d_80\">\n    <path clip-path=\"url(#p60af48b240)\" d=\"M 306.165625 35.390031 \nL 324.765625 35.390031 \n\" style=\"fill:none;stroke:#ff7f0e;stroke-linecap:square;\"/>\n   </g>\n   <g id=\"line2d_81\">\n    <path clip-path=\"url(#p60af48b240)\" d=\"M 343.365625 35.390031 \nL 361.965625 35.390031 \n\" style=\"fill:none;stroke:#ff7f0e;stroke-linecap:square;\"/>\n   </g>\n   <g id=\"patch_3\">\n    <path d=\"M 36.465625 239.758125 \nL 36.465625 22.318125 \n\" style=\"fill:none;stroke:#000000;stroke-linecap:square;stroke-linejoin:miter;stroke-width:0.8;\"/>\n   </g>\n   <g id=\"patch_4\">\n    <path d=\"M 371.265625 239.758125 \nL 371.265625 22.318125 \n\" style=\"fill:none;stroke:#000000;stroke-linecap:square;stroke-linejoin:miter;stroke-width:0.8;\"/>\n   </g>\n   <g id=\"patch_5\">\n    <path d=\"M 36.465625 239.758125 \nL 371.265625 239.758125 \n\" style=\"fill:none;stroke:#000000;stroke-linecap:square;stroke-linejoin:miter;stroke-width:0.8;\"/>\n   </g>\n   <g id=\"patch_6\">\n    <path d=\"M 36.465625 22.318125 \nL 371.265625 22.318125 \n\" style=\"fill:none;stroke:#000000;stroke-linecap:square;stroke-linejoin:miter;stroke-width:0.8;\"/>\n   </g>\n   <g id=\"text_19\">\n    <!-- Algorithm Comparsion -->\n    <g transform=\"translate(136.650625 16.318125)scale(0.12 -0.12)\">\n     <defs>\n      <path d=\"M 9.421875 75.984375 \nL 18.40625 75.984375 \nL 18.40625 0 \nL 9.421875 0 \nz\n\" id=\"DejaVuSans-108\"/>\n      <path d=\"M 45.40625 27.984375 \nQ 45.40625 37.75 41.375 43.109375 \nQ 37.359375 48.484375 30.078125 48.484375 \nQ 22.859375 48.484375 18.828125 43.109375 \nQ 14.796875 37.75 14.796875 27.984375 \nQ 14.796875 18.265625 18.828125 12.890625 \nQ 22.859375 7.515625 30.078125 7.515625 \nQ 37.359375 7.515625 41.375 12.890625 \nQ 45.40625 18.265625 45.40625 27.984375 \nz\nM 54.390625 6.78125 \nQ 54.390625 -7.171875 48.1875 -13.984375 \nQ 42 -20.796875 29.203125 -20.796875 \nQ 24.46875 -20.796875 20.265625 -20.09375 \nQ 16.0625 -19.390625 12.109375 -17.921875 \nL 12.109375 -9.1875 \nQ 16.0625 -11.328125 19.921875 -12.34375 \nQ 23.78125 -13.375 27.78125 -13.375 \nQ 36.625 -13.375 41.015625 -8.765625 \nQ 45.40625 -4.15625 45.40625 5.171875 \nL 45.40625 9.625 \nQ 42.625 4.78125 38.28125 2.390625 \nQ 33.9375 0 27.875 0 \nQ 17.828125 0 11.671875 7.65625 \nQ 5.515625 15.328125 5.515625 27.984375 \nQ 5.515625 40.671875 11.671875 48.328125 \nQ 17.828125 56 27.875 56 \nQ 33.9375 56 38.28125 53.609375 \nQ 42.625 51.21875 45.40625 46.390625 \nL 45.40625 54.6875 \nL 54.390625 54.6875 \nz\n\" id=\"DejaVuSans-103\"/>\n      <path d=\"M 30.609375 48.390625 \nQ 23.390625 48.390625 19.1875 42.75 \nQ 14.984375 37.109375 14.984375 27.296875 \nQ 14.984375 17.484375 19.15625 11.84375 \nQ 23.34375 6.203125 30.609375 6.203125 \nQ 37.796875 6.203125 41.984375 11.859375 \nQ 46.1875 17.53125 46.1875 27.296875 \nQ 46.1875 37.015625 41.984375 42.703125 \nQ 37.796875 48.390625 30.609375 48.390625 \nz\nM 30.609375 56 \nQ 42.328125 56 49.015625 48.375 \nQ 55.71875 40.765625 55.71875 27.296875 \nQ 55.71875 13.875 49.015625 6.21875 \nQ 42.328125 -1.421875 30.609375 -1.421875 \nQ 18.84375 -1.421875 12.171875 6.21875 \nQ 5.515625 13.875 5.515625 27.296875 \nQ 5.515625 40.765625 12.171875 48.375 \nQ 18.84375 56 30.609375 56 \nz\n\" id=\"DejaVuSans-111\"/>\n      <path d=\"M 41.109375 46.296875 \nQ 39.59375 47.171875 37.8125 47.578125 \nQ 36.03125 48 33.890625 48 \nQ 26.265625 48 22.1875 43.046875 \nQ 18.109375 38.09375 18.109375 28.8125 \nL 18.109375 0 \nL 9.078125 0 \nL 9.078125 54.6875 \nL 18.109375 54.6875 \nL 18.109375 46.1875 \nQ 20.953125 51.171875 25.484375 53.578125 \nQ 30.03125 56 36.53125 56 \nQ 37.453125 56 38.578125 55.875 \nQ 39.703125 55.765625 41.0625 55.515625 \nz\n\" id=\"DejaVuSans-114\"/>\n      <path d=\"M 9.421875 54.6875 \nL 18.40625 54.6875 \nL 18.40625 0 \nL 9.421875 0 \nz\nM 9.421875 75.984375 \nL 18.40625 75.984375 \nL 18.40625 64.59375 \nL 9.421875 64.59375 \nz\n\" id=\"DejaVuSans-105\"/>\n      <path d=\"M 18.3125 70.21875 \nL 18.3125 54.6875 \nL 36.8125 54.6875 \nL 36.8125 47.703125 \nL 18.3125 47.703125 \nL 18.3125 18.015625 \nQ 18.3125 11.328125 20.140625 9.421875 \nQ 21.96875 7.515625 27.59375 7.515625 \nL 36.8125 7.515625 \nL 36.8125 0 \nL 27.59375 0 \nQ 17.1875 0 13.234375 3.875 \nQ 9.28125 7.765625 9.28125 18.015625 \nL 9.28125 47.703125 \nL 2.6875 47.703125 \nL 2.6875 54.6875 \nL 9.28125 54.6875 \nL 9.28125 70.21875 \nz\n\" id=\"DejaVuSans-116\"/>\n      <path d=\"M 54.890625 33.015625 \nL 54.890625 0 \nL 45.90625 0 \nL 45.90625 32.71875 \nQ 45.90625 40.484375 42.875 44.328125 \nQ 39.84375 48.1875 33.796875 48.1875 \nQ 26.515625 48.1875 22.3125 43.546875 \nQ 18.109375 38.921875 18.109375 30.90625 \nL 18.109375 0 \nL 9.078125 0 \nL 9.078125 75.984375 \nL 18.109375 75.984375 \nL 18.109375 46.1875 \nQ 21.34375 51.125 25.703125 53.5625 \nQ 30.078125 56 35.796875 56 \nQ 45.21875 56 50.046875 50.171875 \nQ 54.890625 44.34375 54.890625 33.015625 \nz\n\" id=\"DejaVuSans-104\"/>\n      <path d=\"M 52 44.1875 \nQ 55.375 50.25 60.0625 53.125 \nQ 64.75 56 71.09375 56 \nQ 79.640625 56 84.28125 50.015625 \nQ 88.921875 44.046875 88.921875 33.015625 \nL 88.921875 0 \nL 79.890625 0 \nL 79.890625 32.71875 \nQ 79.890625 40.578125 77.09375 44.375 \nQ 74.3125 48.1875 68.609375 48.1875 \nQ 61.625 48.1875 57.5625 43.546875 \nQ 53.515625 38.921875 53.515625 30.90625 \nL 53.515625 0 \nL 44.484375 0 \nL 44.484375 32.71875 \nQ 44.484375 40.625 41.703125 44.40625 \nQ 38.921875 48.1875 33.109375 48.1875 \nQ 26.21875 48.1875 22.15625 43.53125 \nQ 18.109375 38.875 18.109375 30.90625 \nL 18.109375 0 \nL 9.078125 0 \nL 9.078125 54.6875 \nL 18.109375 54.6875 \nL 18.109375 46.1875 \nQ 21.1875 51.21875 25.484375 53.609375 \nQ 29.78125 56 35.6875 56 \nQ 41.65625 56 45.828125 52.96875 \nQ 50 49.953125 52 44.1875 \nz\n\" id=\"DejaVuSans-109\"/>\n      <path id=\"DejaVuSans-32\"/>\n      <path d=\"M 18.109375 8.203125 \nL 18.109375 -20.796875 \nL 9.078125 -20.796875 \nL 9.078125 54.6875 \nL 18.109375 54.6875 \nL 18.109375 46.390625 \nQ 20.953125 51.265625 25.265625 53.625 \nQ 29.59375 56 35.59375 56 \nQ 45.5625 56 51.78125 48.09375 \nQ 58.015625 40.1875 58.015625 27.296875 \nQ 58.015625 14.40625 51.78125 6.484375 \nQ 45.5625 -1.421875 35.59375 -1.421875 \nQ 29.59375 -1.421875 25.265625 0.953125 \nQ 20.953125 3.328125 18.109375 8.203125 \nz\nM 48.6875 27.296875 \nQ 48.6875 37.203125 44.609375 42.84375 \nQ 40.53125 48.484375 33.40625 48.484375 \nQ 26.265625 48.484375 22.1875 42.84375 \nQ 18.109375 37.203125 18.109375 27.296875 \nQ 18.109375 17.390625 22.1875 11.75 \nQ 26.265625 6.109375 33.40625 6.109375 \nQ 40.53125 6.109375 44.609375 11.75 \nQ 48.6875 17.390625 48.6875 27.296875 \nz\n\" id=\"DejaVuSans-112\"/>\n      <path d=\"M 34.28125 27.484375 \nQ 23.390625 27.484375 19.1875 25 \nQ 14.984375 22.515625 14.984375 16.5 \nQ 14.984375 11.71875 18.140625 8.90625 \nQ 21.296875 6.109375 26.703125 6.109375 \nQ 34.1875 6.109375 38.703125 11.40625 \nQ 43.21875 16.703125 43.21875 25.484375 \nL 43.21875 27.484375 \nz\nM 52.203125 31.203125 \nL 52.203125 0 \nL 43.21875 0 \nL 43.21875 8.296875 \nQ 40.140625 3.328125 35.546875 0.953125 \nQ 30.953125 -1.421875 24.3125 -1.421875 \nQ 15.921875 -1.421875 10.953125 3.296875 \nQ 6 8.015625 6 15.921875 \nQ 6 25.140625 12.171875 29.828125 \nQ 18.359375 34.515625 30.609375 34.515625 \nL 43.21875 34.515625 \nL 43.21875 35.40625 \nQ 43.21875 41.609375 39.140625 45 \nQ 35.0625 48.390625 27.6875 48.390625 \nQ 23 48.390625 18.546875 47.265625 \nQ 14.109375 46.140625 10.015625 43.890625 \nL 10.015625 52.203125 \nQ 14.9375 54.109375 19.578125 55.046875 \nQ 24.21875 56 28.609375 56 \nQ 40.484375 56 46.34375 49.84375 \nQ 52.203125 43.703125 52.203125 31.203125 \nz\n\" id=\"DejaVuSans-97\"/>\n      <path d=\"M 44.28125 53.078125 \nL 44.28125 44.578125 \nQ 40.484375 46.53125 36.375 47.5 \nQ 32.28125 48.484375 27.875 48.484375 \nQ 21.1875 48.484375 17.84375 46.4375 \nQ 14.5 44.390625 14.5 40.28125 \nQ 14.5 37.15625 16.890625 35.375 \nQ 19.28125 33.59375 26.515625 31.984375 \nL 29.59375 31.296875 \nQ 39.15625 29.25 43.1875 25.515625 \nQ 47.21875 21.78125 47.21875 15.09375 \nQ 47.21875 7.46875 41.1875 3.015625 \nQ 35.15625 -1.421875 24.609375 -1.421875 \nQ 20.21875 -1.421875 15.453125 -0.5625 \nQ 10.6875 0.296875 5.421875 2 \nL 5.421875 11.28125 \nQ 10.40625 8.6875 15.234375 7.390625 \nQ 20.0625 6.109375 24.8125 6.109375 \nQ 31.15625 6.109375 34.5625 8.28125 \nQ 37.984375 10.453125 37.984375 14.40625 \nQ 37.984375 18.0625 35.515625 20.015625 \nQ 33.0625 21.96875 24.703125 23.78125 \nL 21.578125 24.515625 \nQ 13.234375 26.265625 9.515625 29.90625 \nQ 5.8125 33.546875 5.8125 39.890625 \nQ 5.8125 47.609375 11.28125 51.796875 \nQ 16.75 56 26.8125 56 \nQ 31.78125 56 36.171875 55.265625 \nQ 40.578125 54.546875 44.28125 53.078125 \nz\n\" id=\"DejaVuSans-115\"/>\n      <path d=\"M 54.890625 33.015625 \nL 54.890625 0 \nL 45.90625 0 \nL 45.90625 32.71875 \nQ 45.90625 40.484375 42.875 44.328125 \nQ 39.84375 48.1875 33.796875 48.1875 \nQ 26.515625 48.1875 22.3125 43.546875 \nQ 18.109375 38.921875 18.109375 30.90625 \nL 18.109375 0 \nL 9.078125 0 \nL 9.078125 54.6875 \nL 18.109375 54.6875 \nL 18.109375 46.1875 \nQ 21.34375 51.125 25.703125 53.5625 \nQ 30.078125 56 35.796875 56 \nQ 45.21875 56 50.046875 50.171875 \nQ 54.890625 44.34375 54.890625 33.015625 \nz\n\" id=\"DejaVuSans-110\"/>\n     </defs>\n     <use xlink:href=\"#DejaVuSans-65\"/>\n     <use x=\"68.408203\" xlink:href=\"#DejaVuSans-108\"/>\n     <use x=\"96.191406\" xlink:href=\"#DejaVuSans-103\"/>\n     <use x=\"159.667969\" xlink:href=\"#DejaVuSans-111\"/>\n     <use x=\"220.849609\" xlink:href=\"#DejaVuSans-114\"/>\n     <use x=\"261.962891\" xlink:href=\"#DejaVuSans-105\"/>\n     <use x=\"289.746094\" xlink:href=\"#DejaVuSans-116\"/>\n     <use x=\"328.955078\" xlink:href=\"#DejaVuSans-104\"/>\n     <use x=\"392.333984\" xlink:href=\"#DejaVuSans-109\"/>\n     <use x=\"489.746094\" xlink:href=\"#DejaVuSans-32\"/>\n     <use x=\"521.533203\" xlink:href=\"#DejaVuSans-67\"/>\n     <use x=\"591.357422\" xlink:href=\"#DejaVuSans-111\"/>\n     <use x=\"652.539062\" xlink:href=\"#DejaVuSans-109\"/>\n     <use x=\"749.951172\" xlink:href=\"#DejaVuSans-112\"/>\n     <use x=\"813.427734\" xlink:href=\"#DejaVuSans-97\"/>\n     <use x=\"874.707031\" xlink:href=\"#DejaVuSans-114\"/>\n     <use x=\"915.820312\" xlink:href=\"#DejaVuSans-115\"/>\n     <use x=\"967.919922\" xlink:href=\"#DejaVuSans-105\"/>\n     <use x=\"995.703125\" xlink:href=\"#DejaVuSans-111\"/>\n     <use x=\"1056.884766\" xlink:href=\"#DejaVuSans-110\"/>\n    </g>\n   </g>\n  </g>\n </g>\n <defs>\n  <clipPath id=\"p60af48b240\">\n   <rect height=\"217.44\" width=\"334.8\" x=\"36.465625\" y=\"22.318125\"/>\n  </clipPath>\n </defs>\n</svg>\n",
      "image/png": "[encoded data removed]"
     },
     "metadata": {
      "needs_background": "light"
     }
    }
   ],
   "source": [
    "# evaluate each model in Turn\n",
    "results = []\n",
    "names = []\n",
    "selectedName = \"\"\n",
    "selectedModel = \"\"\n",
    "largestAccuracy = 0\n",
    "# kfold ?\n",
    "# cek apakah X_train dan Y_train di pisah lagi\n",
    "\n",
    "for name,model in models:\n",
    "    kfold = StratifiedKFold(n_splits=4, random_state=1, shuffle=True)\n",
    "    cv_results = cross_val_score(model, X_train, Y_train, cv=kfold, scoring='accuracy')\n",
    "    results.append(cv_results)\n",
    "    names.append(name)\n",
    "    print('%s : %f (%f)' % (name, cv_results.mean(), cv_results.std()))\n",
    "\n",
    "\n",
    "    ## ??\n",
    "    predictions = model.predict(X_validation_2)\n",
    "    accuracy = accuracy_score(Y_validation_2, predictions)\n",
    "    confuse_maker = confusion_matrix(Y_validation_2, predictions)\n",
    "    raport = classification_report(Y_validation_2, predictions)\n",
    "\n",
    "    print(accuracy)\n",
    "    print(confuse_maker)\n",
    "    print(raport)\n",
    "\n",
    "\n",
    "# Comparison\n",
    "pyplot.boxplot(results, labels = names)\n",
    "pyplot.title('Algorithm Comparsion')\n",
    "pyplot.show()\n",
    "\n",
    "\n",
    "\n"
   ]
  },
  {
   "source": [
    "### Re-Input Dataset"
   ],
   "cell_type": "markdown",
   "metadata": {}
  },
  {
   "cell_type": "code",
   "execution_count": 48,
   "metadata": {},
   "outputs": [],
   "source": [
    "url = \"/home/jos/tf_lab/Ultralight-SimplePose/generator_dataset/dataset_file_5.csv\"\n",
    "data_title = ['0','1','2','3','4','5','6','7','8','9','10','11','12','13','14','15','16','res']\n",
    "\n",
    "dataset = read_csv(url, names=data_title)\n",
    "# Split-out validation dataset\n",
    "array = dataset.values\n",
    "\n",
    "X = array[:,[5,6,11,12,13,14,15,16]]\n",
    "y = array[:,len(data_title)-1]\n",
    "data_title = ['5','6','11','12','13','14','15','16','res']\n",
    "X_train_2, X_validation_2, Y_train_2, Y_validation_2 = train_test_split(X, y, test_size=0.99)"
   ]
  },
  {
   "cell_type": "code",
   "execution_count": 49,
   "metadata": {},
   "outputs": [
    {
     "output_type": "stream",
     "name": "stdout",
     "text": [
      "[[0.424756 0.308667 0.5379   0.333379 0.224773 0.34469  0.682949 0.584155]\n [0.5616   0.468567 0.3125   0.285984 0.463563 0.47947  0.673144 0.634597]\n [0.519688 0.482751 0.285784 0.342747 0.467512 0.454673 0.629085 0.673269]\n [0.484251 0.494309 0.129781 0.176826 0.402286 0.285399 0.788918 0.833522]\n [0.390706 0.250241 0.559628 0.48771  0.243445 0.367702 0.624489 0.667204]\n [0.604008 0.575903 0.109222 0.109222 0.425547 0.451106 0.853794 0.853794]\n [0.426539 0.317797 0.532732 0.350361 0.197641 0.303954 0.627061 0.569654]\n [0.635778 0.569391 0.20313  0.07326  0.354674 0.383778 0.837407 0.851729]]\n"
     ]
    }
   ],
   "source": [
    "print(X_train_2)"
   ]
  },
  {
   "cell_type": "code",
   "execution_count": 50,
   "metadata": {},
   "outputs": [
    {
     "output_type": "stream",
     "name": "stdout",
     "text": [
      "[[0.620072 0.546071 0.055229 ... 0.432214 0.831162 0.777855]\n [0.399864 0.317047 0.533191 ... 0.373755 0.660157 0.575421]\n [0.469043 0.499781 0.106585 ... 0.210714 0.735246 0.743495]\n ...\n [0.576711 0.470924 0.32784  ... 0.451091 0.655809 0.641306]\n [0.484848 0.524881 0.109114 ... 0.282797 0.797605 0.84393 ]\n [0.537423 0.483201 0.298361 ... 0.451413 0.595336 0.655648]]\n"
     ]
    }
   ],
   "source": [
    "print(X_validation_2)"
   ]
  },
  {
   "cell_type": "code",
   "execution_count": 51,
   "metadata": {},
   "outputs": [
    {
     "output_type": "stream",
     "name": "stdout",
     "text": [
      "[1. 1. 1. 3. 1. 2. 1. 2.]\n"
     ]
    }
   ],
   "source": [
    "print(Y_train_2)"
   ]
  },
  {
   "cell_type": "code",
   "execution_count": 52,
   "metadata": {},
   "outputs": [
    {
     "output_type": "stream",
     "name": "stdout",
     "text": [
      "[2. 1. 3. 2. 3. 3. 3. 2. 1. 3. 2. 2. 3. 1. 2. 1. 1. 2. 3. 1. 2. 3. 3. 3.\n 1. 3. 2. 1. 1. 3. 2. 1. 2. 3. 1. 2. 1. 2. 1. 2. 2. 2. 2. 1. 3. 2. 2. 2.\n 2. 3. 3. 2. 1. 3. 3. 1. 3. 2. 1. 2. 3. 1. 3. 2. 2. 1. 3. 2. 3. 3. 2. 2.\n 2. 3. 1. 1. 2. 3. 2. 2. 1. 3. 2. 1. 3. 3. 3. 1. 2. 2. 2. 2. 2. 1. 3. 1.\n 2. 3. 2. 1. 3. 1. 3. 2. 1. 1. 2. 2. 1. 1. 2. 1. 2. 2. 2. 2. 2. 1. 1. 3.\n 1. 1. 3. 2. 3. 1. 2. 2. 1. 1. 2. 1. 2. 3. 2. 3. 2. 3. 2. 2. 1. 2. 1. 1.\n 3. 2. 1. 1. 1. 2. 1. 2. 2. 2. 2. 1. 2. 1. 1. 1. 3. 3. 1. 1. 2. 1. 1. 3.\n 1. 3. 2. 1. 2. 1. 3. 2. 1. 1. 1. 3. 2. 2. 1. 1. 2. 1. 3. 1. 1. 3. 3. 2.\n 3. 1. 3. 2. 1. 2. 1. 2. 2. 3. 3. 1. 1. 1. 1. 3. 2. 2. 2. 1. 2. 2. 2. 1.\n 1. 1. 1. 1. 2. 3. 2. 1. 1. 1. 1. 2. 1. 1. 2. 1. 3. 2. 1. 1. 2. 2. 1. 3.\n 3. 1. 2. 1. 2. 2. 3. 3. 3. 2. 3. 1. 1. 3. 2. 1. 3. 1. 2. 1. 2. 1. 3. 1.\n 3. 1. 3. 3. 1. 2. 3. 2. 3. 3. 1. 1. 1. 2. 1. 2. 2. 3. 2. 3. 3. 1. 2. 3.\n 2. 2. 3. 1. 3. 1. 2. 2. 3. 2. 3. 3. 1. 3. 1. 2. 1. 1. 1. 2. 1. 2. 3. 1.\n 3. 3. 1. 3. 1. 2. 2. 1. 2. 1. 2. 2. 3. 1. 2. 3. 2. 3. 2. 2. 1. 3. 3. 2.\n 1. 1. 1. 1. 1. 1. 2. 1. 2. 3. 2. 3. 2. 3. 1. 1. 1. 3. 1. 2. 3. 2. 2. 2.\n 2. 1. 2. 2. 1. 1. 1. 2. 2. 1. 2. 2. 3. 1. 1. 2. 1. 1. 2. 1. 3. 2. 1. 3.\n 2. 2. 3. 1. 1. 2. 1. 3. 2. 2. 3. 2. 3. 1. 2. 1. 3. 1. 2. 3. 3. 2. 1. 1.\n 1. 1. 3. 1. 2. 2. 1. 2. 2. 1. 1. 2. 3. 2. 1. 2. 2. 1. 2. 2. 3. 2. 3. 2.\n 1. 2. 3. 2. 2. 2. 3. 2. 3. 3. 2. 1. 3. 3. 2. 2. 2. 3. 1. 3. 2. 2. 3. 1.\n 3. 1. 2. 1. 2. 1. 1. 2. 2. 2. 3. 1. 1. 2. 1. 3. 1. 1. 1. 1. 1. 2. 3. 1.\n 1. 2. 3. 2. 1. 1. 3. 2. 3. 2. 1. 3. 1. 1. 2. 1. 1. 3. 2. 2. 2. 3. 2. 3.\n 2. 2. 3. 1. 1. 1. 2. 1. 2. 1. 1. 1. 3. 1. 3. 2. 1. 2. 2. 1. 2. 2. 1. 1.\n 2. 1. 1. 2. 1. 1. 3. 1. 2. 3. 1. 3. 1. 1. 1. 3. 2. 3. 1. 3. 1. 1. 1. 3.\n 3. 3. 1. 2. 2. 1. 2. 1. 1. 1. 2. 1. 1. 2. 1. 2. 1. 2. 2. 3. 2. 1. 1. 1.\n 2. 1. 1. 2. 1. 1. 2. 1. 1. 3. 2. 2. 2. 1. 2. 2. 3. 2. 2. 2. 2. 3. 1. 2.\n 3. 2. 3. 3. 1. 1. 3. 1. 2. 3. 1. 2. 1. 3. 2. 1. 3. 1. 3. 1. 2. 2. 2. 2.\n 1. 2. 1. 2. 3. 3. 1. 2. 2. 2. 2. 1. 3. 2. 2. 2. 2. 1. 2. 2. 1. 2. 1. 1.\n 3. 3. 2. 1. 1. 1. 2. 2. 1. 1. 2. 1. 1. 2. 3. 2. 2. 2. 2. 2. 3. 2. 3. 3.\n 2. 2. 3. 3. 3. 2. 1. 2. 1. 2. 3. 3. 1. 1. 1. 3. 1. 2. 1. 2. 1. 2. 1. 1.\n 2. 3. 2. 1. 2. 2. 2. 2. 3. 1. 2. 3. 3. 2. 2. 3. 1. 2. 3. 3. 1. 1. 2. 3.\n 2. 2. 1. 1. 1. 1. 3. 1. 3. 1. 2. 1. 3. 3. 3. 3. 1. 1. 1. 2. 3. 3. 1. 2.\n 2. 2. 2. 1. 1. 2. 2. 2. 3. 1. 1. 2. 2. 3. 2. 2. 2. 3. 2. 2. 2. 2. 2. 3.\n 2. 1. 3. 2. 2. 2. 2. 2. 1. 2. 1. 1. 3. 2. 3. 1. 1. 1. 2. 1. 1. 1. 1. 2.\n 3. 3. 3. 2. 3. 3. 3. 1. 3. 1. 3. 1.]\n"
     ]
    }
   ],
   "source": [
    "print(Y_validation_2)"
   ]
  },
  {
   "cell_type": "code",
   "execution_count": 53,
   "metadata": {},
   "outputs": [
    {
     "output_type": "stream",
     "name": "stdout",
     "text": [
      "\n",
      "Prediction step\n",
      "\n",
      "name =  AB\n",
      "0.9975124378109452\n",
      "[[296   0   0]\n",
      " [  0 308   0]\n",
      " [  2   0 198]]\n",
      "              precision    recall  f1-score   support\n",
      "\n",
      "         1.0       0.99      1.00      1.00       296\n",
      "         2.0       1.00      1.00      1.00       308\n",
      "         3.0       1.00      0.99      0.99       200\n",
      "\n",
      "    accuracy                           1.00       804\n",
      "   macro avg       1.00      1.00      1.00       804\n",
      "weighted avg       1.00      1.00      1.00       804\n",
      "\n",
      "\n",
      "name =  SGD\n",
      "0.9950248756218906\n",
      "[[296   0   0]\n",
      " [  0 306   2]\n",
      " [  0   2 198]]\n",
      "              precision    recall  f1-score   support\n",
      "\n",
      "         1.0       1.00      1.00      1.00       296\n",
      "         2.0       0.99      0.99      0.99       308\n",
      "         3.0       0.99      0.99      0.99       200\n",
      "\n",
      "    accuracy                           1.00       804\n",
      "   macro avg       0.99      0.99      0.99       804\n",
      "weighted avg       1.00      1.00      1.00       804\n",
      "\n",
      "\n",
      "name =  NNMLP\n",
      "0.8793532338308457\n",
      "[[296   0   0]\n",
      " [  0 308   0]\n",
      " [  2  95 103]]\n",
      "              precision    recall  f1-score   support\n",
      "\n",
      "         1.0       0.99      1.00      1.00       296\n",
      "         2.0       0.76      1.00      0.87       308\n",
      "         3.0       1.00      0.52      0.68       200\n",
      "\n",
      "    accuracy                           0.88       804\n",
      "   macro avg       0.92      0.84      0.85       804\n",
      "weighted avg       0.91      0.88      0.87       804\n",
      "\n",
      "\n",
      "name =  GB\n",
      "1.0\n",
      "[[296   0   0]\n",
      " [  0 308   0]\n",
      " [  0   0 200]]\n",
      "              precision    recall  f1-score   support\n",
      "\n",
      "         1.0       1.00      1.00      1.00       296\n",
      "         2.0       1.00      1.00      1.00       308\n",
      "         3.0       1.00      1.00      1.00       200\n",
      "\n",
      "    accuracy                           1.00       804\n",
      "   macro avg       1.00      1.00      1.00       804\n",
      "weighted avg       1.00      1.00      1.00       804\n",
      "\n",
      "\n",
      "name =  RF\n",
      "1.0\n",
      "[[296   0   0]\n",
      " [  0 308   0]\n",
      " [  0   0 200]]\n",
      "              precision    recall  f1-score   support\n",
      "\n",
      "         1.0       1.00      1.00      1.00       296\n",
      "         2.0       1.00      1.00      1.00       308\n",
      "         3.0       1.00      1.00      1.00       200\n",
      "\n",
      "    accuracy                           1.00       804\n",
      "   macro avg       1.00      1.00      1.00       804\n",
      "weighted avg       1.00      1.00      1.00       804\n",
      "\n",
      "\n",
      "name =  KNN\n",
      "0.9975124378109452\n",
      "[[296   0   0]\n",
      " [  0 308   0]\n",
      " [  0   2 198]]\n",
      "              precision    recall  f1-score   support\n",
      "\n",
      "         1.0       1.00      1.00      1.00       296\n",
      "         2.0       0.99      1.00      1.00       308\n",
      "         3.0       1.00      0.99      0.99       200\n",
      "\n",
      "    accuracy                           1.00       804\n",
      "   macro avg       1.00      1.00      1.00       804\n",
      "weighted avg       1.00      1.00      1.00       804\n",
      "\n",
      "\n",
      "name =  CART\n",
      "1.0\n",
      "[[296   0   0]\n",
      " [  0 308   0]\n",
      " [  0   0 200]]\n",
      "              precision    recall  f1-score   support\n",
      "\n",
      "         1.0       1.00      1.00      1.00       296\n",
      "         2.0       1.00      1.00      1.00       308\n",
      "         3.0       1.00      1.00      1.00       200\n",
      "\n",
      "    accuracy                           1.00       804\n",
      "   macro avg       1.00      1.00      1.00       804\n",
      "weighted avg       1.00      1.00      1.00       804\n",
      "\n",
      "\n",
      "name =  NB\n",
      "0.9987562189054726\n",
      "[[296   0   0]\n",
      " [  0 308   0]\n",
      " [  1   0 199]]\n",
      "              precision    recall  f1-score   support\n",
      "\n",
      "         1.0       1.00      1.00      1.00       296\n",
      "         2.0       1.00      1.00      1.00       308\n",
      "         3.0       1.00      0.99      1.00       200\n",
      "\n",
      "    accuracy                           1.00       804\n",
      "   macro avg       1.00      1.00      1.00       804\n",
      "weighted avg       1.00      1.00      1.00       804\n",
      "\n",
      "\n",
      "name =  SVM\n",
      "0.9975124378109452\n",
      "[[296   0   0]\n",
      " [  0 308   0]\n",
      " [  0   2 198]]\n",
      "              precision    recall  f1-score   support\n",
      "\n",
      "         1.0       1.00      1.00      1.00       296\n",
      "         2.0       0.99      1.00      1.00       308\n",
      "         3.0       1.00      0.99      0.99       200\n",
      "\n",
      "    accuracy                           1.00       804\n",
      "   macro avg       1.00      1.00      1.00       804\n",
      "weighted avg       1.00      1.00      1.00       804\n",
      "\n"
     ]
    }
   ],
   "source": [
    "print()\n",
    "print('Prediction step')\n",
    "for name, model in models:\n",
    "    print()\n",
    "    print('name = ',name)\n",
    "    # model.fit(X_train, Y_train) ? \n",
    "    # optimized_parameters = model.get_params(deep=True)\n",
    "    predictions = model.predict(X_validation_2)\n",
    "    accuracy = accuracy_score(Y_validation_2, predictions)\n",
    "    confuse_maker = confusion_matrix(Y_validation_2, predictions)\n",
    "    raport = classification_report(Y_validation_2, predictions)\n",
    "\n",
    "    print(accuracy)\n",
    "    print(confuse_maker)\n",
    "    print(raport)\n",
    "    # print('optimized_parameters',optimized_parameters)"
   ]
  },
  {
   "source": [
    "# ~~~~~~~~~~~~~~~~~~~"
   ],
   "cell_type": "markdown",
   "metadata": {}
  },
  {
   "cell_type": "code",
   "execution_count": null,
   "metadata": {},
   "outputs": [],
   "source": [
    "\n",
    "\n",
    "n = len(data_title)-1;\n",
    "currentlargestAccuracy_perReducedSize = largestAccuracy;\n",
    "current_combinations_removedColumnIndex_Sets = list();\n",
    "current_X_train = X_train.copy();\n",
    "bestlargestAccuracy_perReducedSize = largestAccuracy;\n",
    "best_combinations_removedColumnIndex_Sets = list();\n",
    "best_X_train = X_train.copy();\n",
    "initial_column_index = list(range(0,len(data_title)-1))\n",
    "r = 1;\n",
    "copy_of_data_title = data_title.copy();\n",
    "for iteration in range(1, len(data_title)-1):\n",
    "\n",
    "\tlargestAccuracy_sameReducedSize = 0;\n",
    "\tselectedSet_combinations_removedColumnIndex = list();\n",
    "\t\n",
    "\t# find combinations in a set (n_C_r)\n",
    "\t# start with the next largest number of input parameters = n-1\n",
    "\t# (if a better accuracy is obtained, then reduce the number of input parameters (from the current best combination), until the accuracy is not improved anymore, etc)\n",
    "\t# source code: https://www.baeldung.com/java-combinations-algorithm\n",
    "\t\n",
    "\tcombinations_removedColumnIndex_Sets = list();\n",
    "\tcombination = [None] * r\n",
    "    # initialize with lowest lexicographic combination\n",
    "\tfor i in range(0, r):\n",
    "\t\tcombination[i] = i;\n",
    "\t\n",
    "\twhile combination[r-1] < n:\n",
    "\t\tcombinations_removedColumnIndex_Sets += [combination.copy()]\n",
    "\t\t\n",
    "\t\t# generate next combination in lexicographic order\n",
    "\t\tt = r - 1;\n",
    "\t\twhile t != 0 and combination[t] == n - r + t:\n",
    "\t\t\tt -= 1;\n",
    "\t\tcombination[t] += 1;\n",
    "\t\tfor i in range(t+1, r):\n",
    "\t\t\tcombination[i] = combination[i-1] + 1;\n",
    "\t\n",
    "\tkfold = StratifiedKFold(n_splits=10, random_state=random_value, shuffle=True)\n",
    "\tfor i in range(0, len(combinations_removedColumnIndex_Sets)):\n",
    "\n",
    "\t\trandom_seed = random.seed(random_value);\n",
    "\n",
    "\t\tprint(\"i = \", i, \"; len(combinations_removedColumnIndex_Sets) = \", len(combinations_removedColumnIndex_Sets));\n",
    "\t\treduced_X_train = current_X_train.copy()\n",
    "\t\treduced_X_train = np.delete(reduced_X_train,combinations_removedColumnIndex_Sets[i][0],1);\n",
    "\n",
    "\t\t# Retest accuracy with the reduced data\n",
    "\t\tcv_results = cross_val_score(model, reduced_X_train, Y_train, cv=kfold, scoring='accuracy')\n",
    "\t\toptimized_parameters = model.get_params(deep=True)\n",
    "\t\tresults.append(cv_results)\n",
    "\t\tnames.append(name)\n",
    "\t\tif (cv_results.mean() > largestAccuracy_sameReducedSize):\n",
    "\t\t\tlargestAccuracy_sameReducedSize = cv_results.mean();\n",
    "\t\t\tselectedSet_combinations_removedColumnIndex = i;\n",
    "\n",
    "\tcurrentlargestAccuracy_perReducedSize = largestAccuracy_sameReducedSize;\n",
    "\tcurrent_X_train = np.delete(current_X_train,combinations_removedColumnIndex_Sets[selectedSet_combinations_removedColumnIndex][0],1);\n",
    "\tcurrent_combinations_removedColumnIndex_Sets += [initial_column_index[combinations_removedColumnIndex_Sets[selectedSet_combinations_removedColumnIndex][0]]];\n",
    "\tdel initial_column_index[combinations_removedColumnIndex_Sets[selectedSet_combinations_removedColumnIndex][0]];\n",
    "\tdel copy_of_data_title[combinations_removedColumnIndex_Sets[selectedSet_combinations_removedColumnIndex][0]];\n",
    "\tprint(\"currentlargestAccuracy_perReducedSize, data_title: \", currentlargestAccuracy_perReducedSize, \"; \", copy_of_data_title, \"(\", initial_column_index, \")\");\n",
    "\tn -= 1;\n",
    "\n",
    "\tif largestAccuracy_sameReducedSize >= bestlargestAccuracy_perReducedSize:\n",
    "\t\tbestlargestAccuracy_perReducedSize = currentlargestAccuracy_perReducedSize;\n",
    "\t\tbest_X_train = current_X_train.copy();\n",
    "\t\tbest_combinations_removedColumnIndex_Sets = current_combinations_removedColumnIndex_Sets.copy();\n",
    "\t\tdata_title = copy_of_data_title.copy();"
   ]
  },
  {
   "cell_type": "code",
   "execution_count": null,
   "metadata": {},
   "outputs": [],
   "source": [
    "\n",
    "# Obtain input data combination with the best accuracy\n",
    "best_combinations_removedColumnIndex_Sets.sort();\n",
    "X_train = best_X_train.copy()\n",
    "for j in range(len(best_combinations_removedColumnIndex_Sets)-1,-1,-1):\n",
    "\tX_validation = np.delete(X_validation,best_combinations_removedColumnIndex_Sets[j],1);\n",
    "\n",
    "# Retrain model (using important input data)\n",
    "kfold = StratifiedKFold(n_splits=10, random_state=random_value, shuffle=True);\n",
    "cv_results = cross_val_score(model, X_train, Y_train, cv=kfold, scoring='accuracy');\n",
    "optimized_parameters = model.get_params(deep=True);\n",
    "results.append(cv_results);\n",
    "names.append(name);\n",
    "print('%s: %f (%f)' % (name, cv_results.mean(), cv_results.std()));\n",
    "print();\n",
    "\n",
    "print(\"data_title:\");\n",
    "print(data_title);\n",
    "print();\n",
    "\n",
    "print()\n",
    "print('Prediction step')\n",
    "# Make predictions on validation dataset\n",
    "print()\n",
    "print('selectedName = ',selectedName)\n",
    "selectedModel.fit(X_train, Y_train)\n",
    "predictions = selectedModel.predict(X_validation)\n",
    "\n",
    "\n",
    "# Evaluate predictions\n",
    "print(accuracy_score(Y_validation, predictions))\n",
    "print(confusion_matrix(Y_validation, predictions))\n",
    "print(classification_report(Y_validation, predictions))\n"
   ]
  }
 ]
}