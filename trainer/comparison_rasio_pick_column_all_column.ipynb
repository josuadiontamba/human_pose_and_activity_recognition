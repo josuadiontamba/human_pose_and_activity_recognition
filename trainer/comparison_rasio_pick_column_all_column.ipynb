{
 "metadata": {
  "language_info": {
   "codemirror_mode": {
    "name": "ipython",
    "version": 3
   },
   "file_extension": ".py",
   "mimetype": "text/x-python",
   "name": "python",
   "nbconvert_exporter": "python",
   "pygments_lexer": "ipython3",
   "version": "3.6.9-final"
  },
  "orig_nbformat": 2,
  "kernelspec": {
   "name": "python369jvsc74a57bd030295c5bec572e859485b1ffa5e89b8b3e2022ef6e3e739c1ac40f143a557caf",
   "display_name": "Python 3.6.9 64-bit"
  },
  "metadata": {
   "interpreter": {
    "hash": "30295c5bec572e859485b1ffa5e89b8b3e2022ef6e3e739c1ac40f143a557caf"
   }
  }
 },
 "nbformat": 4,
 "nbformat_minor": 2,
 "cells": [
  {
   "source": [
    "# Compare All Classification Algorithm"
   ],
   "cell_type": "markdown",
   "metadata": {}
  },
  {
   "source": [
    "### SOURCE and Note\n",
    "- [kfold](https://www.tensorflow.org/tensorboard/image_summaries)\n",
    "- Dont use 99 % dataset, became overfit"
   ],
   "cell_type": "markdown",
   "metadata": {}
  },
  {
   "source": [
    "## Import Library"
   ],
   "cell_type": "markdown",
   "metadata": {}
  },
  {
   "cell_type": "code",
   "execution_count": 1,
   "metadata": {},
   "outputs": [],
   "source": [
    "from pandas import read_csv\n",
    "from matplotlib import pyplot\n",
    "\n",
    "from sklearn.model_selection import train_test_split, cross_val_score, StratifiedKFold\n",
    "\n",
    "\n",
    "from sklearn.metrics import classification_report, confusion_matrix, accuracy_score\n",
    "\n",
    "from sklearn.ensemble import AdaBoostClassifier\n",
    "from sklearn.ensemble import GradientBoostingClassifier\n",
    "from sklearn.ensemble import RandomForestClassifier\n",
    "\n",
    "from sklearn.tree import DecisionTreeClassifier\n",
    "\n",
    "from sklearn.linear_model import SGDClassifier\n",
    "\n",
    "from sklearn.naive_bayes import GaussianNB\n",
    "\n",
    "from sklearn.svm import SVC\n",
    "\n",
    "from sklearn.neural_network import MLPClassifier\n",
    "\n",
    "from sklearn.neighbors import KNeighborsClassifier\n",
    "\n"
   ]
  },
  {
   "source": [
    "## Input Dataset"
   ],
   "cell_type": "markdown",
   "metadata": {}
  },
  {
   "cell_type": "code",
   "execution_count": 2,
   "metadata": {},
   "outputs": [],
   "source": [
    "url = \"/home/jos/tf_lab/Ultralight-SimplePose/generator_dataset/dataset_file_5.csv\"\n",
    "# url = \"dataset_file_5.csv\"\n",
    "\n",
    "data_title = ['0','1','2','3','4','5','6','7','8','9','10','11','12','13','14','15','16','res']\n",
    "\n",
    "dataset = read_csv(url, names=data_title)\n",
    "array = dataset.values\n",
    "\n",
    "X = array[:,:-1]\n",
    "y = array[:,len(data_title)-1]\n",
    "X_train, X_validation, Y_train, Y_validation = train_test_split(X, y, test_size=0.2, shuffle=True)"
   ]
  },
  {
   "source": [
    "### Print"
   ],
   "cell_type": "markdown",
   "metadata": {}
  },
  {
   "cell_type": "code",
   "execution_count": 3,
   "metadata": {},
   "outputs": [
    {
     "output_type": "execute_result",
     "data": {
      "text/plain": [
       "array([[0.677361, 0.706271, 0.710177, ..., 0.44274 , 0.833802, 0.837428],\n",
       "       [0.616573, 0.68694 , 0.681059, ..., 0.221813, 0.734143, 0.742444],\n",
       "       [0.597007, 0.625438, 0.625438, ..., 0.378516, 0.814998, 0.775116],\n",
       "       ...,\n",
       "       [0.40123 , 0.479084, 0.493286, ..., 0.475319, 0.675394, 0.636844],\n",
       "       [0.763632, 0.799725, 0.799579, ..., 0.42795 , 0.82501 , 0.803306],\n",
       "       [0.71791 , 0.753149, 0.753149, ..., 0.466114, 0.779191, 0.831927]])"
      ]
     },
     "metadata": {},
     "execution_count": 3
    }
   ],
   "source": [
    "X_train"
   ]
  },
  {
   "cell_type": "code",
   "execution_count": 4,
   "metadata": {},
   "outputs": [
    {
     "output_type": "execute_result",
     "data": {
      "text/plain": [
       "array([[0.718649, 0.753802, 0.754532, ..., 0.456686, 0.766441, 0.854383],\n",
       "       [0.432323, 0.509481, 0.492192, ..., 0.477597, 0.674163, 0.635614],\n",
       "       [0.798736, 0.83503 , 0.83503 , ..., 0.450387, 0.76594 , 0.825341],\n",
       "       ...,\n",
       "       [0.469996, 0.521619, 0.539431, ..., 0.349757, 0.659002, 0.598643],\n",
       "       [0.559258, 0.608657, 0.578868, ..., 0.368401, 0.641143, 0.681526],\n",
       "       [0.559026, 0.58799 , 0.578327, ..., 0.368207, 0.621653, 0.676733]])"
      ]
     },
     "metadata": {},
     "execution_count": 4
    }
   ],
   "source": [
    "X_validation"
   ]
  },
  {
   "cell_type": "code",
   "execution_count": 5,
   "metadata": {},
   "outputs": [
    {
     "output_type": "execute_result",
     "data": {
      "text/plain": [
       "array([2., 3., 3., 2., 3., 3., 1., 1., 3., 2., 1., 2., 2., 3., 2., 2., 1.,\n",
       "       3., 3., 2., 1., 1., 1., 2., 2., 2., 2., 3., 3., 1., 2., 1., 3., 1.,\n",
       "       3., 2., 2., 3., 1., 3., 2., 1., 1., 3., 1., 3., 1., 1., 2., 2., 1.,\n",
       "       1., 1., 3., 1., 3., 2., 3., 3., 3., 2., 2., 1., 2., 2., 1., 1., 1.,\n",
       "       2., 1., 2., 2., 2., 2., 1., 2., 1., 3., 2., 3., 1., 2., 2., 1., 2.,\n",
       "       1., 3., 1., 2., 3., 3., 1., 2., 2., 2., 3., 3., 1., 3., 3., 1., 1.,\n",
       "       2., 2., 2., 3., 2., 2., 1., 1., 2., 2., 2., 2., 1., 2., 3., 3., 3.,\n",
       "       2., 2., 1., 3., 2., 3., 1., 1., 1., 1., 1., 3., 1., 1., 2., 1., 2.,\n",
       "       1., 3., 2., 1., 2., 3., 2., 3., 3., 2., 3., 3., 1., 1., 1., 2., 3.,\n",
       "       1., 2., 2., 1., 1., 1., 2., 2., 3., 3., 1., 1., 1., 1., 2., 2., 3.,\n",
       "       2., 1., 2., 1., 1., 1., 3., 2., 2., 1., 3., 2., 2., 3., 1., 2., 2.,\n",
       "       2., 1., 1., 3., 2., 1., 2., 2., 2., 1., 3., 2., 1., 2., 1., 2., 1.,\n",
       "       2., 1., 1., 3., 1., 3., 2., 2., 2., 1., 1., 2., 3., 2., 1., 2., 3.,\n",
       "       2., 1., 3., 2., 1., 2., 2., 2., 2., 1., 2., 3., 3., 1., 3., 1., 3.,\n",
       "       3., 3., 1., 2., 3., 3., 1., 1., 2., 1., 1., 2., 1., 2., 2., 2., 1.,\n",
       "       2., 1., 2., 2., 2., 3., 1., 1., 2., 3., 2., 2., 2., 1., 3., 1., 2.,\n",
       "       1., 2., 3., 2., 2., 2., 2., 3., 2., 2., 1., 2., 1., 3., 1., 1., 3.,\n",
       "       1., 3., 1., 3., 2., 2., 2., 3., 3., 2., 1., 2., 1., 1., 3., 3., 1.,\n",
       "       1., 2., 2., 2., 1., 1., 2., 3., 2., 1., 1., 3., 3., 2., 2., 1., 2.,\n",
       "       1., 3., 2., 3., 3., 2., 2., 1., 3., 2., 1., 1., 1., 1., 1., 1., 1.,\n",
       "       2., 2., 2., 2., 3., 1., 2., 3., 2., 2., 1., 2., 2., 1., 1., 3., 2.,\n",
       "       2., 1., 2., 3., 1., 1., 3., 2., 2., 2., 2., 1., 1., 3., 3., 2., 2.,\n",
       "       3., 2., 1., 2., 3., 2., 1., 1., 3., 1., 3., 1., 1., 2., 1., 2., 2.,\n",
       "       2., 2., 2., 3., 1., 2., 2., 3., 2., 2., 2., 1., 1., 1., 1., 2., 1.,\n",
       "       1., 3., 2., 2., 1., 1., 3., 1., 1., 2., 1., 2., 2., 1., 1., 2., 3.,\n",
       "       2., 2., 3., 3., 3., 1., 1., 3., 2., 3., 2., 1., 1., 2., 1., 3., 1.,\n",
       "       1., 1., 3., 3., 2., 1., 1., 2., 3., 1., 2., 1., 3., 2., 3., 1., 2.,\n",
       "       2., 3., 2., 1., 1., 2., 1., 1., 2., 2., 3., 3., 1., 1., 1., 3., 2.,\n",
       "       1., 1., 1., 2., 2., 1., 3., 3., 1., 2., 2., 1., 3., 1., 3., 2., 1.,\n",
       "       2., 3., 3., 1., 1., 3., 2., 3., 3., 3., 3., 1., 2., 1., 3., 2., 2.,\n",
       "       2., 1., 1., 1., 2., 2., 2., 1., 3., 2., 1., 3., 1., 3., 2., 1., 1.,\n",
       "       3., 1., 1., 3., 2., 2., 2., 2., 1., 2., 2., 2., 2., 1., 3., 2., 2.,\n",
       "       1., 1., 1., 3., 2., 2., 1., 2., 1., 1., 3., 2., 2., 1., 1., 1., 1.,\n",
       "       2., 2., 1., 1., 2., 3., 2., 2., 2., 1., 1., 3., 1., 2., 2., 1., 3.,\n",
       "       2., 2., 1., 1., 1., 3., 2., 2., 1., 3., 3., 2., 2., 2., 1., 1., 1.,\n",
       "       1., 1., 1., 2., 3., 1., 2., 2., 1., 2., 2., 2., 1., 2., 1., 2., 3.,\n",
       "       1., 2., 1., 1., 2., 3., 2., 2., 1., 2., 3., 2., 2., 3., 2., 2., 1.,\n",
       "       1., 2., 2., 3., 3., 1., 3., 1., 3., 3., 2., 3., 2., 3., 3., 1., 2.,\n",
       "       1., 2., 2.])"
      ]
     },
     "metadata": {},
     "execution_count": 5
    }
   ],
   "source": [
    "Y_train"
   ]
  },
  {
   "cell_type": "code",
   "execution_count": 6,
   "metadata": {},
   "outputs": [
    {
     "output_type": "execute_result",
     "data": {
      "text/plain": [
       "array([2., 1., 2., 2., 2., 3., 2., 1., 3., 3., 1., 3., 3., 2., 1., 1., 1.,\n",
       "       1., 3., 3., 1., 3., 3., 3., 1., 3., 2., 1., 1., 1., 3., 1., 2., 1.,\n",
       "       2., 2., 1., 3., 3., 3., 2., 1., 1., 1., 2., 1., 1., 2., 2., 1., 3.,\n",
       "       1., 2., 1., 1., 1., 2., 1., 2., 3., 1., 2., 3., 1., 1., 2., 2., 2.,\n",
       "       2., 1., 2., 2., 2., 2., 3., 2., 2., 2., 1., 3., 2., 3., 1., 2., 1.,\n",
       "       3., 3., 3., 1., 2., 3., 3., 3., 2., 2., 2., 1., 3., 1., 1., 3., 1.,\n",
       "       1., 3., 3., 1., 2., 1., 3., 3., 1., 3., 1., 1., 1., 2., 2., 3., 1.,\n",
       "       3., 3., 2., 1., 3., 3., 2., 2., 2., 1., 2., 2., 1., 1., 1., 1., 1.,\n",
       "       2., 2., 3., 2., 3., 2., 1., 2., 3., 3., 1., 2., 1., 1., 1., 2., 3.,\n",
       "       3., 1., 1., 1., 1., 2., 3., 1., 1., 1.])"
      ]
     },
     "metadata": {},
     "execution_count": 6
    }
   ],
   "source": [
    "Y_validation"
   ]
  },
  {
   "source": [
    "## Training"
   ],
   "cell_type": "markdown",
   "metadata": {}
  },
  {
   "source": [
    "### Load Model to List"
   ],
   "cell_type": "markdown",
   "metadata": {}
  },
  {
   "cell_type": "code",
   "execution_count": 7,
   "metadata": {},
   "outputs": [],
   "source": [
    "# Spot Check Algorithms\n",
    "models = []\n",
    "models.append(('AB', AdaBoostClassifier()))\n",
    "models.append(('SGD', SGDClassifier()))\n",
    "models.append(('NNMLP', MLPClassifier(alpha=1, max_iter=1000)))\n",
    "models.append(('GB', GradientBoostingClassifier()))\n",
    "models.append(('RF', RandomForestClassifier()))\n",
    "models.append(('KNN', KNeighborsClassifier()))\n",
    "models.append(('CART', DecisionTreeClassifier()))\n",
    "models.append(('NB', GaussianNB()))\n",
    "models.append(('SVM', SVC(gamma='auto')))"
   ]
  },
  {
   "cell_type": "code",
   "execution_count": 8,
   "metadata": {},
   "outputs": [
    {
     "output_type": "stream",
     "name": "stdout",
     "text": [
      "AB :  [1.         1.         1.         1.         0.98461538 1.\n",
      " 1.         1.         1.         1.        ]\n",
      "SGD :  [1.         0.98461538 0.98461538 0.98461538 0.98461538 1.\n",
      " 1.         1.         1.         1.        ]\n",
      "NNMLP :  [1.         1.         0.98461538 0.98461538 0.98461538 1.\n",
      " 1.         1.         1.         1.        ]\n",
      "GB :  [1.         1.         1.         0.98461538 0.98461538 1.\n",
      " 0.98461538 1.         1.         1.        ]\n",
      "RF :  [1.         1.         1.         1.         0.98461538 1.\n",
      " 1.         1.         1.         1.        ]\n",
      "KNN :  [1.         1.         0.98461538 1.         0.98461538 1.\n",
      " 1.         1.         1.         1.        ]\n",
      "CART :  [1.         1.         1.         1.         0.98461538 1.\n",
      " 1.         1.         1.         1.        ]\n",
      "NB :  [1.         1.         0.98461538 1.         0.96923077 1.\n",
      " 1.         1.         1.         1.        ]\n",
      "SVM :  [1.         1.         0.98461538 0.98461538 0.98461538 1.\n",
      " 1.         1.         1.         1.        ]\n"
     ]
    }
   ],
   "source": [
    "results = []\n",
    "names = []\n",
    "for name, model in models:\n",
    "    # print(name,'-',model)\n",
    "    kfold = StratifiedKFold(n_splits = 10, random_state = 1, shuffle=True)\n",
    "    cv_results = cross_val_score(model, X_train, Y_train, cv=kfold, scoring='accuracy')\n",
    "    results.append(cv_results)\n",
    "    names.append(name)\n",
    "    print(name,': ',cv_results)\n"
   ]
  },
  {
   "cell_type": "code",
   "execution_count": 9,
   "metadata": {},
   "outputs": [
    {
     "output_type": "stream",
     "name": "stdout",
     "text": [
      "AB : \t\t0.998462 \t\t 0.004615\nSGD : \t\t0.993846 \t\t 0.007537\nNNMLP : \t\t0.995385 \t\t 0.007050\nGB : \t\t0.995385 \t\t 0.007050\nRF : \t\t0.998462 \t\t 0.004615\nKNN : \t\t0.996923 \t\t 0.006154\nCART : \t\t0.998462 \t\t 0.004615\nNB : \t\t0.995385 \t\t 0.009851\nSVM : \t\t0.995385 \t\t 0.007050\n"
     ]
    }
   ],
   "source": [
    "for i in range(len(results)):\n",
    "    # print(type(results[i]))\n",
    "    print('%s : \\t\\t%f \\t\\t %f' %(names[i], results[i].mean(), results[i].std() ))\n",
    "    # print(names[i],' : \\n',results[i])"
   ]
  },
  {
   "cell_type": "code",
   "execution_count": 10,
   "metadata": {},
   "outputs": [
    {
     "output_type": "display_data",
     "data": {
      "text/plain": "<Figure size 432x288 with 1 Axes>",
      "image/svg+xml": "<?xml version=\"1.0\" encoding=\"utf-8\" standalone=\"no\"?>\n<!DOCTYPE svg PUBLIC \"-//W3C//DTD SVG 1.1//EN\"\n  \"http://www.w3.org/Graphics/SVG/1.1/DTD/svg11.dtd\">\n<!-- Created with matplotlib (https://matplotlib.org/) -->\n<svg height=\"263.63625pt\" version=\"1.1\" viewBox=\"0 0 384.828125 263.63625\" width=\"384.828125pt\" xmlns=\"http://www.w3.org/2000/svg\" xmlns:xlink=\"http://www.w3.org/1999/xlink\">\n <metadata>\n  <rdf:RDF xmlns:cc=\"http://creativecommons.org/ns#\" xmlns:dc=\"http://purl.org/dc/elements/1.1/\" xmlns:rdf=\"http://www.w3.org/1999/02/22-rdf-syntax-ns#\">\n   <cc:Work>\n    <dc:type rdf:resource=\"http://purl.org/dc/dcmitype/StillImage\"/>\n    <dc:date>2021-04-29T16:22:38.773246</dc:date>\n    <dc:format>image/svg+xml</dc:format>\n    <dc:creator>\n     <cc:Agent>\n      <dc:title>Matplotlib v3.3.3, https://matplotlib.org/</dc:title>\n     </cc:Agent>\n    </dc:creator>\n   </cc:Work>\n  </rdf:RDF>\n </metadata>\n <defs>\n  <style type=\"text/css\">*{stroke-linecap:butt;stroke-linejoin:round;}</style>\n </defs>\n <g id=\"figure_1\">\n  <g id=\"patch_1\">\n   <path d=\"M 0 263.63625 \nL 384.828125 263.63625 \nL 384.828125 0 \nL 0 0 \nz\n\" style=\"fill:none;\"/>\n  </g>\n  <g id=\"axes_1\">\n   <g id=\"patch_2\">\n    <path d=\"M 42.828125 239.758125 \nL 377.628125 239.758125 \nL 377.628125 22.318125 \nL 42.828125 22.318125 \nz\n\" style=\"fill:#ffffff;\"/>\n   </g>\n   <g id=\"matplotlib.axis_1\">\n    <g id=\"xtick_1\">\n     <g id=\"line2d_1\">\n      <defs>\n       <path d=\"M 0 0 \nL 0 3.5 \n\" id=\"mf93d68e64b\" style=\"stroke:#000000;stroke-width:0.8;\"/>\n      </defs>\n      <g>\n       <use style=\"stroke:#000000;stroke-width:0.8;\" x=\"61.428125\" xlink:href=\"#mf93d68e64b\" y=\"239.758125\"/>\n      </g>\n     </g>\n     <g id=\"text_1\">\n      <!-- AB -->\n      <g transform=\"translate(54.577344 254.356563)scale(0.1 -0.1)\">\n       <defs>\n        <path d=\"M 34.1875 63.1875 \nL 20.796875 26.90625 \nL 47.609375 26.90625 \nz\nM 28.609375 72.90625 \nL 39.796875 72.90625 \nL 67.578125 0 \nL 57.328125 0 \nL 50.6875 18.703125 \nL 17.828125 18.703125 \nL 11.1875 0 \nL 0.78125 0 \nz\n\" id=\"DejaVuSans-65\"/>\n        <path d=\"M 19.671875 34.8125 \nL 19.671875 8.109375 \nL 35.5 8.109375 \nQ 43.453125 8.109375 47.28125 11.40625 \nQ 51.125 14.703125 51.125 21.484375 \nQ 51.125 28.328125 47.28125 31.5625 \nQ 43.453125 34.8125 35.5 34.8125 \nz\nM 19.671875 64.796875 \nL 19.671875 42.828125 \nL 34.28125 42.828125 \nQ 41.5 42.828125 45.03125 45.53125 \nQ 48.578125 48.25 48.578125 53.8125 \nQ 48.578125 59.328125 45.03125 62.0625 \nQ 41.5 64.796875 34.28125 64.796875 \nz\nM 9.8125 72.90625 \nL 35.015625 72.90625 \nQ 46.296875 72.90625 52.390625 68.21875 \nQ 58.5 63.53125 58.5 54.890625 \nQ 58.5 48.1875 55.375 44.234375 \nQ 52.25 40.28125 46.1875 39.3125 \nQ 53.46875 37.75 57.5 32.78125 \nQ 61.53125 27.828125 61.53125 20.40625 \nQ 61.53125 10.640625 54.890625 5.3125 \nQ 48.25 0 35.984375 0 \nL 9.8125 0 \nz\n\" id=\"DejaVuSans-66\"/>\n       </defs>\n       <use xlink:href=\"#DejaVuSans-65\"/>\n       <use x=\"68.408203\" xlink:href=\"#DejaVuSans-66\"/>\n      </g>\n     </g>\n    </g>\n    <g id=\"xtick_2\">\n     <g id=\"line2d_2\">\n      <g>\n       <use style=\"stroke:#000000;stroke-width:0.8;\" x=\"98.628125\" xlink:href=\"#mf93d68e64b\" y=\"239.758125\"/>\n      </g>\n     </g>\n     <g id=\"text_2\">\n      <!-- SGD -->\n      <g transform=\"translate(87.729687 254.356563)scale(0.1 -0.1)\">\n       <defs>\n        <path d=\"M 53.515625 70.515625 \nL 53.515625 60.890625 \nQ 47.90625 63.578125 42.921875 64.890625 \nQ 37.9375 66.21875 33.296875 66.21875 \nQ 25.25 66.21875 20.875 63.09375 \nQ 16.5 59.96875 16.5 54.203125 \nQ 16.5 49.359375 19.40625 46.890625 \nQ 22.3125 44.4375 30.421875 42.921875 \nL 36.375 41.703125 \nQ 47.40625 39.59375 52.65625 34.296875 \nQ 57.90625 29 57.90625 20.125 \nQ 57.90625 9.515625 50.796875 4.046875 \nQ 43.703125 -1.421875 29.984375 -1.421875 \nQ 24.8125 -1.421875 18.96875 -0.25 \nQ 13.140625 0.921875 6.890625 3.21875 \nL 6.890625 13.375 \nQ 12.890625 10.015625 18.65625 8.296875 \nQ 24.421875 6.59375 29.984375 6.59375 \nQ 38.421875 6.59375 43.015625 9.90625 \nQ 47.609375 13.234375 47.609375 19.390625 \nQ 47.609375 24.75 44.3125 27.78125 \nQ 41.015625 30.8125 33.5 32.328125 \nL 27.484375 33.5 \nQ 16.453125 35.6875 11.515625 40.375 \nQ 6.59375 45.0625 6.59375 53.421875 \nQ 6.59375 63.09375 13.40625 68.65625 \nQ 20.21875 74.21875 32.171875 74.21875 \nQ 37.3125 74.21875 42.625 73.28125 \nQ 47.953125 72.359375 53.515625 70.515625 \nz\n\" id=\"DejaVuSans-83\"/>\n        <path d=\"M 59.515625 10.40625 \nL 59.515625 29.984375 \nL 43.40625 29.984375 \nL 43.40625 38.09375 \nL 69.28125 38.09375 \nL 69.28125 6.78125 \nQ 63.578125 2.734375 56.6875 0.65625 \nQ 49.8125 -1.421875 42 -1.421875 \nQ 24.90625 -1.421875 15.25 8.5625 \nQ 5.609375 18.5625 5.609375 36.375 \nQ 5.609375 54.25 15.25 64.234375 \nQ 24.90625 74.21875 42 74.21875 \nQ 49.125 74.21875 55.546875 72.453125 \nQ 61.96875 70.703125 67.390625 67.28125 \nL 67.390625 56.78125 \nQ 61.921875 61.421875 55.765625 63.765625 \nQ 49.609375 66.109375 42.828125 66.109375 \nQ 29.4375 66.109375 22.71875 58.640625 \nQ 16.015625 51.171875 16.015625 36.375 \nQ 16.015625 21.625 22.71875 14.15625 \nQ 29.4375 6.6875 42.828125 6.6875 \nQ 48.046875 6.6875 52.140625 7.59375 \nQ 56.25 8.5 59.515625 10.40625 \nz\n\" id=\"DejaVuSans-71\"/>\n        <path d=\"M 19.671875 64.796875 \nL 19.671875 8.109375 \nL 31.59375 8.109375 \nQ 46.6875 8.109375 53.6875 14.9375 \nQ 60.6875 21.78125 60.6875 36.53125 \nQ 60.6875 51.171875 53.6875 57.984375 \nQ 46.6875 64.796875 31.59375 64.796875 \nz\nM 9.8125 72.90625 \nL 30.078125 72.90625 \nQ 51.265625 72.90625 61.171875 64.09375 \nQ 71.09375 55.28125 71.09375 36.53125 \nQ 71.09375 17.671875 61.125 8.828125 \nQ 51.171875 0 30.078125 0 \nL 9.8125 0 \nz\n\" id=\"DejaVuSans-68\"/>\n       </defs>\n       <use xlink:href=\"#DejaVuSans-83\"/>\n       <use x=\"63.476562\" xlink:href=\"#DejaVuSans-71\"/>\n       <use x=\"140.966797\" xlink:href=\"#DejaVuSans-68\"/>\n      </g>\n     </g>\n    </g>\n    <g id=\"xtick_3\">\n     <g id=\"line2d_3\">\n      <g>\n       <use style=\"stroke:#000000;stroke-width:0.8;\" x=\"135.828125\" xlink:href=\"#mf93d68e64b\" y=\"239.758125\"/>\n      </g>\n     </g>\n     <g id=\"text_3\">\n      <!-- NNMLP -->\n      <g transform=\"translate(118.232031 254.356563)scale(0.1 -0.1)\">\n       <defs>\n        <path d=\"M 9.8125 72.90625 \nL 23.09375 72.90625 \nL 55.421875 11.921875 \nL 55.421875 72.90625 \nL 64.984375 72.90625 \nL 64.984375 0 \nL 51.703125 0 \nL 19.390625 60.984375 \nL 19.390625 0 \nL 9.8125 0 \nz\n\" id=\"DejaVuSans-78\"/>\n        <path d=\"M 9.8125 72.90625 \nL 24.515625 72.90625 \nL 43.109375 23.296875 \nL 61.8125 72.90625 \nL 76.515625 72.90625 \nL 76.515625 0 \nL 66.890625 0 \nL 66.890625 64.015625 \nL 48.09375 14.015625 \nL 38.1875 14.015625 \nL 19.390625 64.015625 \nL 19.390625 0 \nL 9.8125 0 \nz\n\" id=\"DejaVuSans-77\"/>\n        <path d=\"M 9.8125 72.90625 \nL 19.671875 72.90625 \nL 19.671875 8.296875 \nL 55.171875 8.296875 \nL 55.171875 0 \nL 9.8125 0 \nz\n\" id=\"DejaVuSans-76\"/>\n        <path d=\"M 19.671875 64.796875 \nL 19.671875 37.40625 \nL 32.078125 37.40625 \nQ 38.96875 37.40625 42.71875 40.96875 \nQ 46.484375 44.53125 46.484375 51.125 \nQ 46.484375 57.671875 42.71875 61.234375 \nQ 38.96875 64.796875 32.078125 64.796875 \nz\nM 9.8125 72.90625 \nL 32.078125 72.90625 \nQ 44.34375 72.90625 50.609375 67.359375 \nQ 56.890625 61.8125 56.890625 51.125 \nQ 56.890625 40.328125 50.609375 34.8125 \nQ 44.34375 29.296875 32.078125 29.296875 \nL 19.671875 29.296875 \nL 19.671875 0 \nL 9.8125 0 \nz\n\" id=\"DejaVuSans-80\"/>\n       </defs>\n       <use xlink:href=\"#DejaVuSans-78\"/>\n       <use x=\"74.804688\" xlink:href=\"#DejaVuSans-78\"/>\n       <use x=\"149.609375\" xlink:href=\"#DejaVuSans-77\"/>\n       <use x=\"235.888672\" xlink:href=\"#DejaVuSans-76\"/>\n       <use x=\"291.601562\" xlink:href=\"#DejaVuSans-80\"/>\n      </g>\n     </g>\n    </g>\n    <g id=\"xtick_4\">\n     <g id=\"line2d_4\">\n      <g>\n       <use style=\"stroke:#000000;stroke-width:0.8;\" x=\"173.028125\" xlink:href=\"#mf93d68e64b\" y=\"239.758125\"/>\n      </g>\n     </g>\n     <g id=\"text_4\">\n      <!-- GB -->\n      <g transform=\"translate(165.723437 254.356563)scale(0.1 -0.1)\">\n       <use xlink:href=\"#DejaVuSans-71\"/>\n       <use x=\"77.490234\" xlink:href=\"#DejaVuSans-66\"/>\n      </g>\n     </g>\n    </g>\n    <g id=\"xtick_5\">\n     <g id=\"line2d_5\">\n      <g>\n       <use style=\"stroke:#000000;stroke-width:0.8;\" x=\"210.228125\" xlink:href=\"#mf93d68e64b\" y=\"239.758125\"/>\n      </g>\n     </g>\n     <g id=\"text_5\">\n      <!-- RF -->\n      <g transform=\"translate(203.878125 254.356563)scale(0.1 -0.1)\">\n       <defs>\n        <path d=\"M 44.390625 34.1875 \nQ 47.5625 33.109375 50.5625 29.59375 \nQ 53.5625 26.078125 56.59375 19.921875 \nL 66.609375 0 \nL 56 0 \nL 46.6875 18.703125 \nQ 43.0625 26.03125 39.671875 28.421875 \nQ 36.28125 30.8125 30.421875 30.8125 \nL 19.671875 30.8125 \nL 19.671875 0 \nL 9.8125 0 \nL 9.8125 72.90625 \nL 32.078125 72.90625 \nQ 44.578125 72.90625 50.734375 67.671875 \nQ 56.890625 62.453125 56.890625 51.90625 \nQ 56.890625 45.015625 53.6875 40.46875 \nQ 50.484375 35.9375 44.390625 34.1875 \nz\nM 19.671875 64.796875 \nL 19.671875 38.921875 \nL 32.078125 38.921875 \nQ 39.203125 38.921875 42.84375 42.21875 \nQ 46.484375 45.515625 46.484375 51.90625 \nQ 46.484375 58.296875 42.84375 61.546875 \nQ 39.203125 64.796875 32.078125 64.796875 \nz\n\" id=\"DejaVuSans-82\"/>\n        <path d=\"M 9.8125 72.90625 \nL 51.703125 72.90625 \nL 51.703125 64.59375 \nL 19.671875 64.59375 \nL 19.671875 43.109375 \nL 48.578125 43.109375 \nL 48.578125 34.8125 \nL 19.671875 34.8125 \nL 19.671875 0 \nL 9.8125 0 \nz\n\" id=\"DejaVuSans-70\"/>\n       </defs>\n       <use xlink:href=\"#DejaVuSans-82\"/>\n       <use x=\"69.482422\" xlink:href=\"#DejaVuSans-70\"/>\n      </g>\n     </g>\n    </g>\n    <g id=\"xtick_6\">\n     <g id=\"line2d_6\">\n      <g>\n       <use style=\"stroke:#000000;stroke-width:0.8;\" x=\"247.428125\" xlink:href=\"#mf93d68e64b\" y=\"239.758125\"/>\n      </g>\n     </g>\n     <g id=\"text_6\">\n      <!-- KNN -->\n      <g transform=\"translate(236.667969 254.356563)scale(0.1 -0.1)\">\n       <defs>\n        <path d=\"M 9.8125 72.90625 \nL 19.671875 72.90625 \nL 19.671875 42.09375 \nL 52.390625 72.90625 \nL 65.09375 72.90625 \nL 28.90625 38.921875 \nL 67.671875 0 \nL 54.6875 0 \nL 19.671875 35.109375 \nL 19.671875 0 \nL 9.8125 0 \nz\n\" id=\"DejaVuSans-75\"/>\n       </defs>\n       <use xlink:href=\"#DejaVuSans-75\"/>\n       <use x=\"65.576172\" xlink:href=\"#DejaVuSans-78\"/>\n       <use x=\"140.380859\" xlink:href=\"#DejaVuSans-78\"/>\n      </g>\n     </g>\n    </g>\n    <g id=\"xtick_7\">\n     <g id=\"line2d_7\">\n      <g>\n       <use style=\"stroke:#000000;stroke-width:0.8;\" x=\"284.628125\" xlink:href=\"#mf93d68e64b\" y=\"239.758125\"/>\n      </g>\n     </g>\n     <g id=\"text_7\">\n      <!-- CART -->\n      <g transform=\"translate(271.550781 254.356563)scale(0.1 -0.1)\">\n       <defs>\n        <path d=\"M 64.40625 67.28125 \nL 64.40625 56.890625 \nQ 59.421875 61.53125 53.78125 63.8125 \nQ 48.140625 66.109375 41.796875 66.109375 \nQ 29.296875 66.109375 22.65625 58.46875 \nQ 16.015625 50.828125 16.015625 36.375 \nQ 16.015625 21.96875 22.65625 14.328125 \nQ 29.296875 6.6875 41.796875 6.6875 \nQ 48.140625 6.6875 53.78125 8.984375 \nQ 59.421875 11.28125 64.40625 15.921875 \nL 64.40625 5.609375 \nQ 59.234375 2.09375 53.4375 0.328125 \nQ 47.65625 -1.421875 41.21875 -1.421875 \nQ 24.65625 -1.421875 15.125 8.703125 \nQ 5.609375 18.84375 5.609375 36.375 \nQ 5.609375 53.953125 15.125 64.078125 \nQ 24.65625 74.21875 41.21875 74.21875 \nQ 47.75 74.21875 53.53125 72.484375 \nQ 59.328125 70.75 64.40625 67.28125 \nz\n\" id=\"DejaVuSans-67\"/>\n        <path d=\"M -0.296875 72.90625 \nL 61.375 72.90625 \nL 61.375 64.59375 \nL 35.5 64.59375 \nL 35.5 0 \nL 25.59375 0 \nL 25.59375 64.59375 \nL -0.296875 64.59375 \nz\n\" id=\"DejaVuSans-84\"/>\n       </defs>\n       <use xlink:href=\"#DejaVuSans-67\"/>\n       <use x=\"69.824219\" xlink:href=\"#DejaVuSans-65\"/>\n       <use x=\"138.232422\" xlink:href=\"#DejaVuSans-82\"/>\n       <use x=\"200.464844\" xlink:href=\"#DejaVuSans-84\"/>\n      </g>\n     </g>\n    </g>\n    <g id=\"xtick_8\">\n     <g id=\"line2d_8\">\n      <g>\n       <use style=\"stroke:#000000;stroke-width:0.8;\" x=\"321.828125\" xlink:href=\"#mf93d68e64b\" y=\"239.758125\"/>\n      </g>\n     </g>\n     <g id=\"text_8\">\n      <!-- NB -->\n      <g transform=\"translate(314.657031 254.356563)scale(0.1 -0.1)\">\n       <use xlink:href=\"#DejaVuSans-78\"/>\n       <use x=\"74.804688\" xlink:href=\"#DejaVuSans-66\"/>\n      </g>\n     </g>\n    </g>\n    <g id=\"xtick_9\">\n     <g id=\"line2d_9\">\n      <g>\n       <use style=\"stroke:#000000;stroke-width:0.8;\" x=\"359.028125\" xlink:href=\"#mf93d68e64b\" y=\"239.758125\"/>\n      </g>\n     </g>\n     <g id=\"text_9\">\n      <!-- SVM -->\n      <g transform=\"translate(348.119531 254.356563)scale(0.1 -0.1)\">\n       <defs>\n        <path d=\"M 28.609375 0 \nL 0.78125 72.90625 \nL 11.078125 72.90625 \nL 34.1875 11.53125 \nL 57.328125 72.90625 \nL 67.578125 72.90625 \nL 39.796875 0 \nz\n\" id=\"DejaVuSans-86\"/>\n       </defs>\n       <use xlink:href=\"#DejaVuSans-83\"/>\n       <use x=\"63.476562\" xlink:href=\"#DejaVuSans-86\"/>\n       <use x=\"131.884766\" xlink:href=\"#DejaVuSans-77\"/>\n      </g>\n     </g>\n    </g>\n   </g>\n   <g id=\"matplotlib.axis_2\">\n    <g id=\"ytick_1\">\n     <g id=\"line2d_10\">\n      <defs>\n       <path d=\"M 0 0 \nL -3.5 0 \n\" id=\"meab632c4a2\" style=\"stroke:#000000;stroke-width:0.8;\"/>\n      </defs>\n      <g>\n       <use style=\"stroke:#000000;stroke-width:0.8;\" x=\"42.828125\" xlink:href=\"#meab632c4a2\" y=\"224.93267\"/>\n      </g>\n     </g>\n     <g id=\"text_10\">\n      <!-- 0.970 -->\n      <g transform=\"translate(7.2 228.731889)scale(0.1 -0.1)\">\n       <defs>\n        <path d=\"M 31.78125 66.40625 \nQ 24.171875 66.40625 20.328125 58.90625 \nQ 16.5 51.421875 16.5 36.375 \nQ 16.5 21.390625 20.328125 13.890625 \nQ 24.171875 6.390625 31.78125 6.390625 \nQ 39.453125 6.390625 43.28125 13.890625 \nQ 47.125 21.390625 47.125 36.375 \nQ 47.125 51.421875 43.28125 58.90625 \nQ 39.453125 66.40625 31.78125 66.40625 \nz\nM 31.78125 74.21875 \nQ 44.046875 74.21875 50.515625 64.515625 \nQ 56.984375 54.828125 56.984375 36.375 \nQ 56.984375 17.96875 50.515625 8.265625 \nQ 44.046875 -1.421875 31.78125 -1.421875 \nQ 19.53125 -1.421875 13.0625 8.265625 \nQ 6.59375 17.96875 6.59375 36.375 \nQ 6.59375 54.828125 13.0625 64.515625 \nQ 19.53125 74.21875 31.78125 74.21875 \nz\n\" id=\"DejaVuSans-48\"/>\n        <path d=\"M 10.6875 12.40625 \nL 21 12.40625 \nL 21 0 \nL 10.6875 0 \nz\n\" id=\"DejaVuSans-46\"/>\n        <path d=\"M 10.984375 1.515625 \nL 10.984375 10.5 \nQ 14.703125 8.734375 18.5 7.8125 \nQ 22.3125 6.890625 25.984375 6.890625 \nQ 35.75 6.890625 40.890625 13.453125 \nQ 46.046875 20.015625 46.78125 33.40625 \nQ 43.953125 29.203125 39.59375 26.953125 \nQ 35.25 24.703125 29.984375 24.703125 \nQ 19.046875 24.703125 12.671875 31.3125 \nQ 6.296875 37.9375 6.296875 49.421875 \nQ 6.296875 60.640625 12.9375 67.421875 \nQ 19.578125 74.21875 30.609375 74.21875 \nQ 43.265625 74.21875 49.921875 64.515625 \nQ 56.59375 54.828125 56.59375 36.375 \nQ 56.59375 19.140625 48.40625 8.859375 \nQ 40.234375 -1.421875 26.421875 -1.421875 \nQ 22.703125 -1.421875 18.890625 -0.6875 \nQ 15.09375 0.046875 10.984375 1.515625 \nz\nM 30.609375 32.421875 \nQ 37.25 32.421875 41.125 36.953125 \nQ 45.015625 41.5 45.015625 49.421875 \nQ 45.015625 57.28125 41.125 61.84375 \nQ 37.25 66.40625 30.609375 66.40625 \nQ 23.96875 66.40625 20.09375 61.84375 \nQ 16.21875 57.28125 16.21875 49.421875 \nQ 16.21875 41.5 20.09375 36.953125 \nQ 23.96875 32.421875 30.609375 32.421875 \nz\n\" id=\"DejaVuSans-57\"/>\n        <path d=\"M 8.203125 72.90625 \nL 55.078125 72.90625 \nL 55.078125 68.703125 \nL 28.609375 0 \nL 18.3125 0 \nL 43.21875 64.59375 \nL 8.203125 64.59375 \nz\n\" id=\"DejaVuSans-55\"/>\n       </defs>\n       <use xlink:href=\"#DejaVuSans-48\"/>\n       <use x=\"63.623047\" xlink:href=\"#DejaVuSans-46\"/>\n       <use x=\"95.410156\" xlink:href=\"#DejaVuSans-57\"/>\n       <use x=\"159.033203\" xlink:href=\"#DejaVuSans-55\"/>\n       <use x=\"222.65625\" xlink:href=\"#DejaVuSans-48\"/>\n      </g>\n     </g>\n    </g>\n    <g id=\"ytick_2\">\n     <g id=\"line2d_11\">\n      <g>\n       <use style=\"stroke:#000000;stroke-width:0.8;\" x=\"42.828125\" xlink:href=\"#meab632c4a2\" y=\"192.810852\"/>\n      </g>\n     </g>\n     <g id=\"text_11\">\n      <!-- 0.975 -->\n      <g transform=\"translate(7.2 196.610071)scale(0.1 -0.1)\">\n       <defs>\n        <path d=\"M 10.796875 72.90625 \nL 49.515625 72.90625 \nL 49.515625 64.59375 \nL 19.828125 64.59375 \nL 19.828125 46.734375 \nQ 21.96875 47.46875 24.109375 47.828125 \nQ 26.265625 48.1875 28.421875 48.1875 \nQ 40.625 48.1875 47.75 41.5 \nQ 54.890625 34.8125 54.890625 23.390625 \nQ 54.890625 11.625 47.5625 5.09375 \nQ 40.234375 -1.421875 26.90625 -1.421875 \nQ 22.3125 -1.421875 17.546875 -0.640625 \nQ 12.796875 0.140625 7.71875 1.703125 \nL 7.71875 11.625 \nQ 12.109375 9.234375 16.796875 8.0625 \nQ 21.484375 6.890625 26.703125 6.890625 \nQ 35.15625 6.890625 40.078125 11.328125 \nQ 45.015625 15.765625 45.015625 23.390625 \nQ 45.015625 31 40.078125 35.4375 \nQ 35.15625 39.890625 26.703125 39.890625 \nQ 22.75 39.890625 18.8125 39.015625 \nQ 14.890625 38.140625 10.796875 36.28125 \nz\n\" id=\"DejaVuSans-53\"/>\n       </defs>\n       <use xlink:href=\"#DejaVuSans-48\"/>\n       <use x=\"63.623047\" xlink:href=\"#DejaVuSans-46\"/>\n       <use x=\"95.410156\" xlink:href=\"#DejaVuSans-57\"/>\n       <use x=\"159.033203\" xlink:href=\"#DejaVuSans-55\"/>\n       <use x=\"222.65625\" xlink:href=\"#DejaVuSans-53\"/>\n      </g>\n     </g>\n    </g>\n    <g id=\"ytick_3\">\n     <g id=\"line2d_12\">\n      <g>\n       <use style=\"stroke:#000000;stroke-width:0.8;\" x=\"42.828125\" xlink:href=\"#meab632c4a2\" y=\"160.689034\"/>\n      </g>\n     </g>\n     <g id=\"text_12\">\n      <!-- 0.980 -->\n      <g transform=\"translate(7.2 164.488253)scale(0.1 -0.1)\">\n       <defs>\n        <path d=\"M 31.78125 34.625 \nQ 24.75 34.625 20.71875 30.859375 \nQ 16.703125 27.09375 16.703125 20.515625 \nQ 16.703125 13.921875 20.71875 10.15625 \nQ 24.75 6.390625 31.78125 6.390625 \nQ 38.8125 6.390625 42.859375 10.171875 \nQ 46.921875 13.96875 46.921875 20.515625 \nQ 46.921875 27.09375 42.890625 30.859375 \nQ 38.875 34.625 31.78125 34.625 \nz\nM 21.921875 38.8125 \nQ 15.578125 40.375 12.03125 44.71875 \nQ 8.5 49.078125 8.5 55.328125 \nQ 8.5 64.0625 14.71875 69.140625 \nQ 20.953125 74.21875 31.78125 74.21875 \nQ 42.671875 74.21875 48.875 69.140625 \nQ 55.078125 64.0625 55.078125 55.328125 \nQ 55.078125 49.078125 51.53125 44.71875 \nQ 48 40.375 41.703125 38.8125 \nQ 48.828125 37.15625 52.796875 32.3125 \nQ 56.78125 27.484375 56.78125 20.515625 \nQ 56.78125 9.90625 50.3125 4.234375 \nQ 43.84375 -1.421875 31.78125 -1.421875 \nQ 19.734375 -1.421875 13.25 4.234375 \nQ 6.78125 9.90625 6.78125 20.515625 \nQ 6.78125 27.484375 10.78125 32.3125 \nQ 14.796875 37.15625 21.921875 38.8125 \nz\nM 18.3125 54.390625 \nQ 18.3125 48.734375 21.84375 45.5625 \nQ 25.390625 42.390625 31.78125 42.390625 \nQ 38.140625 42.390625 41.71875 45.5625 \nQ 45.3125 48.734375 45.3125 54.390625 \nQ 45.3125 60.0625 41.71875 63.234375 \nQ 38.140625 66.40625 31.78125 66.40625 \nQ 25.390625 66.40625 21.84375 63.234375 \nQ 18.3125 60.0625 18.3125 54.390625 \nz\n\" id=\"DejaVuSans-56\"/>\n       </defs>\n       <use xlink:href=\"#DejaVuSans-48\"/>\n       <use x=\"63.623047\" xlink:href=\"#DejaVuSans-46\"/>\n       <use x=\"95.410156\" xlink:href=\"#DejaVuSans-57\"/>\n       <use x=\"159.033203\" xlink:href=\"#DejaVuSans-56\"/>\n       <use x=\"222.65625\" xlink:href=\"#DejaVuSans-48\"/>\n      </g>\n     </g>\n    </g>\n    <g id=\"ytick_4\">\n     <g id=\"line2d_13\">\n      <g>\n       <use style=\"stroke:#000000;stroke-width:0.8;\" x=\"42.828125\" xlink:href=\"#meab632c4a2\" y=\"128.567216\"/>\n      </g>\n     </g>\n     <g id=\"text_13\">\n      <!-- 0.985 -->\n      <g transform=\"translate(7.2 132.366435)scale(0.1 -0.1)\">\n       <use xlink:href=\"#DejaVuSans-48\"/>\n       <use x=\"63.623047\" xlink:href=\"#DejaVuSans-46\"/>\n       <use x=\"95.410156\" xlink:href=\"#DejaVuSans-57\"/>\n       <use x=\"159.033203\" xlink:href=\"#DejaVuSans-56\"/>\n       <use x=\"222.65625\" xlink:href=\"#DejaVuSans-53\"/>\n      </g>\n     </g>\n    </g>\n    <g id=\"ytick_5\">\n     <g id=\"line2d_14\">\n      <g>\n       <use style=\"stroke:#000000;stroke-width:0.8;\" x=\"42.828125\" xlink:href=\"#meab632c4a2\" y=\"96.445398\"/>\n      </g>\n     </g>\n     <g id=\"text_14\">\n      <!-- 0.990 -->\n      <g transform=\"translate(7.2 100.244616)scale(0.1 -0.1)\">\n       <use xlink:href=\"#DejaVuSans-48\"/>\n       <use x=\"63.623047\" xlink:href=\"#DejaVuSans-46\"/>\n       <use x=\"95.410156\" xlink:href=\"#DejaVuSans-57\"/>\n       <use x=\"159.033203\" xlink:href=\"#DejaVuSans-57\"/>\n       <use x=\"222.65625\" xlink:href=\"#DejaVuSans-48\"/>\n      </g>\n     </g>\n    </g>\n    <g id=\"ytick_6\">\n     <g id=\"line2d_15\">\n      <g>\n       <use style=\"stroke:#000000;stroke-width:0.8;\" x=\"42.828125\" xlink:href=\"#meab632c4a2\" y=\"64.32358\"/>\n      </g>\n     </g>\n     <g id=\"text_15\">\n      <!-- 0.995 -->\n      <g transform=\"translate(7.2 68.122798)scale(0.1 -0.1)\">\n       <use xlink:href=\"#DejaVuSans-48\"/>\n       <use x=\"63.623047\" xlink:href=\"#DejaVuSans-46\"/>\n       <use x=\"95.410156\" xlink:href=\"#DejaVuSans-57\"/>\n       <use x=\"159.033203\" xlink:href=\"#DejaVuSans-57\"/>\n       <use x=\"222.65625\" xlink:href=\"#DejaVuSans-53\"/>\n      </g>\n     </g>\n    </g>\n    <g id=\"ytick_7\">\n     <g id=\"line2d_16\">\n      <g>\n       <use style=\"stroke:#000000;stroke-width:0.8;\" x=\"42.828125\" xlink:href=\"#meab632c4a2\" y=\"32.201761\"/>\n      </g>\n     </g>\n     <g id=\"text_16\">\n      <!-- 1.000 -->\n      <g transform=\"translate(7.2 36.00098)scale(0.1 -0.1)\">\n       <defs>\n        <path d=\"M 12.40625 8.296875 \nL 28.515625 8.296875 \nL 28.515625 63.921875 \nL 10.984375 60.40625 \nL 10.984375 69.390625 \nL 28.421875 72.90625 \nL 38.28125 72.90625 \nL 38.28125 8.296875 \nL 54.390625 8.296875 \nL 54.390625 0 \nL 12.40625 0 \nz\n\" id=\"DejaVuSans-49\"/>\n       </defs>\n       <use xlink:href=\"#DejaVuSans-49\"/>\n       <use x=\"63.623047\" xlink:href=\"#DejaVuSans-46\"/>\n       <use x=\"95.410156\" xlink:href=\"#DejaVuSans-48\"/>\n       <use x=\"159.033203\" xlink:href=\"#DejaVuSans-48\"/>\n       <use x=\"222.65625\" xlink:href=\"#DejaVuSans-48\"/>\n      </g>\n     </g>\n    </g>\n   </g>\n   <g id=\"line2d_17\">\n    <path clip-path=\"url(#p769424f9a4)\" d=\"M 52.128125 32.201761 \nL 70.728125 32.201761 \nL 70.728125 32.201761 \nL 52.128125 32.201761 \nL 52.128125 32.201761 \n\" style=\"fill:none;stroke:#000000;stroke-linecap:square;\"/>\n   </g>\n   <g id=\"line2d_18\">\n    <path clip-path=\"url(#p769424f9a4)\" d=\"M 61.428125 32.201761 \nL 61.428125 32.201761 \n\" style=\"fill:none;stroke:#000000;stroke-linecap:square;\"/>\n   </g>\n   <g id=\"line2d_19\">\n    <path clip-path=\"url(#p769424f9a4)\" d=\"M 61.428125 32.201761 \nL 61.428125 32.201761 \n\" style=\"fill:none;stroke:#000000;stroke-linecap:square;\"/>\n   </g>\n   <g id=\"line2d_20\">\n    <path clip-path=\"url(#p769424f9a4)\" d=\"M 56.778125 32.201761 \nL 66.078125 32.201761 \n\" style=\"fill:none;stroke:#000000;stroke-linecap:square;\"/>\n   </g>\n   <g id=\"line2d_21\">\n    <path clip-path=\"url(#p769424f9a4)\" d=\"M 56.778125 32.201761 \nL 66.078125 32.201761 \n\" style=\"fill:none;stroke:#000000;stroke-linecap:square;\"/>\n   </g>\n   <g id=\"line2d_22\">\n    <defs>\n     <path d=\"M 0 3 \nC 0.795609 3 1.55874 2.683901 2.12132 2.12132 \nC 2.683901 1.55874 3 0.795609 3 0 \nC 3 -0.795609 2.683901 -1.55874 2.12132 -2.12132 \nC 1.55874 -2.683901 0.795609 -3 0 -3 \nC -0.795609 -3 -1.55874 -2.683901 -2.12132 -2.12132 \nC -2.683901 -1.55874 -3 -0.795609 -3 0 \nC -3 0.795609 -2.683901 1.55874 -2.12132 2.12132 \nC -1.55874 2.683901 -0.795609 3 0 3 \nz\n\" id=\"m80109b515a\" style=\"stroke:#000000;\"/>\n    </defs>\n    <g clip-path=\"url(#p769424f9a4)\">\n     <use style=\"fill-opacity:0;stroke:#000000;\" x=\"61.428125\" xlink:href=\"#m80109b515a\" y=\"131.038125\"/>\n    </g>\n   </g>\n   <g id=\"line2d_23\">\n    <path clip-path=\"url(#p769424f9a4)\" d=\"M 89.328125 131.038125 \nL 107.928125 131.038125 \nL 107.928125 32.201761 \nL 89.328125 32.201761 \nL 89.328125 131.038125 \n\" style=\"fill:none;stroke:#000000;stroke-linecap:square;\"/>\n   </g>\n   <g id=\"line2d_24\">\n    <path clip-path=\"url(#p769424f9a4)\" d=\"M 98.628125 131.038125 \nL 98.628125 131.038125 \n\" style=\"fill:none;stroke:#000000;stroke-linecap:square;\"/>\n   </g>\n   <g id=\"line2d_25\">\n    <path clip-path=\"url(#p769424f9a4)\" d=\"M 98.628125 32.201761 \nL 98.628125 32.201761 \n\" style=\"fill:none;stroke:#000000;stroke-linecap:square;\"/>\n   </g>\n   <g id=\"line2d_26\">\n    <path clip-path=\"url(#p769424f9a4)\" d=\"M 93.978125 131.038125 \nL 103.278125 131.038125 \n\" style=\"fill:none;stroke:#000000;stroke-linecap:square;\"/>\n   </g>\n   <g id=\"line2d_27\">\n    <path clip-path=\"url(#p769424f9a4)\" d=\"M 93.978125 32.201761 \nL 103.278125 32.201761 \n\" style=\"fill:none;stroke:#000000;stroke-linecap:square;\"/>\n   </g>\n   <g id=\"line2d_28\"/>\n   <g id=\"line2d_29\">\n    <path clip-path=\"url(#p769424f9a4)\" d=\"M 126.528125 106.329034 \nL 145.128125 106.329034 \nL 145.128125 32.201761 \nL 126.528125 32.201761 \nL 126.528125 106.329034 \n\" style=\"fill:none;stroke:#000000;stroke-linecap:square;\"/>\n   </g>\n   <g id=\"line2d_30\">\n    <path clip-path=\"url(#p769424f9a4)\" d=\"M 135.828125 106.329034 \nL 135.828125 131.038125 \n\" style=\"fill:none;stroke:#000000;stroke-linecap:square;\"/>\n   </g>\n   <g id=\"line2d_31\">\n    <path clip-path=\"url(#p769424f9a4)\" d=\"M 135.828125 32.201761 \nL 135.828125 32.201761 \n\" style=\"fill:none;stroke:#000000;stroke-linecap:square;\"/>\n   </g>\n   <g id=\"line2d_32\">\n    <path clip-path=\"url(#p769424f9a4)\" d=\"M 131.178125 131.038125 \nL 140.478125 131.038125 \n\" style=\"fill:none;stroke:#000000;stroke-linecap:square;\"/>\n   </g>\n   <g id=\"line2d_33\">\n    <path clip-path=\"url(#p769424f9a4)\" d=\"M 131.178125 32.201761 \nL 140.478125 32.201761 \n\" style=\"fill:none;stroke:#000000;stroke-linecap:square;\"/>\n   </g>\n   <g id=\"line2d_34\"/>\n   <g id=\"line2d_35\">\n    <path clip-path=\"url(#p769424f9a4)\" d=\"M 163.728125 106.329034 \nL 182.328125 106.329034 \nL 182.328125 32.201761 \nL 163.728125 32.201761 \nL 163.728125 106.329034 \n\" style=\"fill:none;stroke:#000000;stroke-linecap:square;\"/>\n   </g>\n   <g id=\"line2d_36\">\n    <path clip-path=\"url(#p769424f9a4)\" d=\"M 173.028125 106.329034 \nL 173.028125 131.038125 \n\" style=\"fill:none;stroke:#000000;stroke-linecap:square;\"/>\n   </g>\n   <g id=\"line2d_37\">\n    <path clip-path=\"url(#p769424f9a4)\" d=\"M 173.028125 32.201761 \nL 173.028125 32.201761 \n\" style=\"fill:none;stroke:#000000;stroke-linecap:square;\"/>\n   </g>\n   <g id=\"line2d_38\">\n    <path clip-path=\"url(#p769424f9a4)\" d=\"M 168.378125 131.038125 \nL 177.678125 131.038125 \n\" style=\"fill:none;stroke:#000000;stroke-linecap:square;\"/>\n   </g>\n   <g id=\"line2d_39\">\n    <path clip-path=\"url(#p769424f9a4)\" d=\"M 168.378125 32.201761 \nL 177.678125 32.201761 \n\" style=\"fill:none;stroke:#000000;stroke-linecap:square;\"/>\n   </g>\n   <g id=\"line2d_40\"/>\n   <g id=\"line2d_41\">\n    <path clip-path=\"url(#p769424f9a4)\" d=\"M 200.928125 32.201761 \nL 219.528125 32.201761 \nL 219.528125 32.201761 \nL 200.928125 32.201761 \nL 200.928125 32.201761 \n\" style=\"fill:none;stroke:#000000;stroke-linecap:square;\"/>\n   </g>\n   <g id=\"line2d_42\">\n    <path clip-path=\"url(#p769424f9a4)\" d=\"M 210.228125 32.201761 \nL 210.228125 32.201761 \n\" style=\"fill:none;stroke:#000000;stroke-linecap:square;\"/>\n   </g>\n   <g id=\"line2d_43\">\n    <path clip-path=\"url(#p769424f9a4)\" d=\"M 210.228125 32.201761 \nL 210.228125 32.201761 \n\" style=\"fill:none;stroke:#000000;stroke-linecap:square;\"/>\n   </g>\n   <g id=\"line2d_44\">\n    <path clip-path=\"url(#p769424f9a4)\" d=\"M 205.578125 32.201761 \nL 214.878125 32.201761 \n\" style=\"fill:none;stroke:#000000;stroke-linecap:square;\"/>\n   </g>\n   <g id=\"line2d_45\">\n    <path clip-path=\"url(#p769424f9a4)\" d=\"M 205.578125 32.201761 \nL 214.878125 32.201761 \n\" style=\"fill:none;stroke:#000000;stroke-linecap:square;\"/>\n   </g>\n   <g id=\"line2d_46\">\n    <g clip-path=\"url(#p769424f9a4)\">\n     <use style=\"fill-opacity:0;stroke:#000000;\" x=\"210.228125\" xlink:href=\"#m80109b515a\" y=\"131.038125\"/>\n    </g>\n   </g>\n   <g id=\"line2d_47\">\n    <path clip-path=\"url(#p769424f9a4)\" d=\"M 238.128125 32.201761 \nL 256.728125 32.201761 \nL 256.728125 32.201761 \nL 238.128125 32.201761 \nL 238.128125 32.201761 \n\" style=\"fill:none;stroke:#000000;stroke-linecap:square;\"/>\n   </g>\n   <g id=\"line2d_48\">\n    <path clip-path=\"url(#p769424f9a4)\" d=\"M 247.428125 32.201761 \nL 247.428125 32.201761 \n\" style=\"fill:none;stroke:#000000;stroke-linecap:square;\"/>\n   </g>\n   <g id=\"line2d_49\">\n    <path clip-path=\"url(#p769424f9a4)\" d=\"M 247.428125 32.201761 \nL 247.428125 32.201761 \n\" style=\"fill:none;stroke:#000000;stroke-linecap:square;\"/>\n   </g>\n   <g id=\"line2d_50\">\n    <path clip-path=\"url(#p769424f9a4)\" d=\"M 242.778125 32.201761 \nL 252.078125 32.201761 \n\" style=\"fill:none;stroke:#000000;stroke-linecap:square;\"/>\n   </g>\n   <g id=\"line2d_51\">\n    <path clip-path=\"url(#p769424f9a4)\" d=\"M 242.778125 32.201761 \nL 252.078125 32.201761 \n\" style=\"fill:none;stroke:#000000;stroke-linecap:square;\"/>\n   </g>\n   <g id=\"line2d_52\">\n    <g clip-path=\"url(#p769424f9a4)\">\n     <use style=\"fill-opacity:0;stroke:#000000;\" x=\"247.428125\" xlink:href=\"#m80109b515a\" y=\"131.038125\"/>\n     <use style=\"fill-opacity:0;stroke:#000000;\" x=\"247.428125\" xlink:href=\"#m80109b515a\" y=\"131.038125\"/>\n    </g>\n   </g>\n   <g id=\"line2d_53\">\n    <path clip-path=\"url(#p769424f9a4)\" d=\"M 275.328125 32.201761 \nL 293.928125 32.201761 \nL 293.928125 32.201761 \nL 275.328125 32.201761 \nL 275.328125 32.201761 \n\" style=\"fill:none;stroke:#000000;stroke-linecap:square;\"/>\n   </g>\n   <g id=\"line2d_54\">\n    <path clip-path=\"url(#p769424f9a4)\" d=\"M 284.628125 32.201761 \nL 284.628125 32.201761 \n\" style=\"fill:none;stroke:#000000;stroke-linecap:square;\"/>\n   </g>\n   <g id=\"line2d_55\">\n    <path clip-path=\"url(#p769424f9a4)\" d=\"M 284.628125 32.201761 \nL 284.628125 32.201761 \n\" style=\"fill:none;stroke:#000000;stroke-linecap:square;\"/>\n   </g>\n   <g id=\"line2d_56\">\n    <path clip-path=\"url(#p769424f9a4)\" d=\"M 279.978125 32.201761 \nL 289.278125 32.201761 \n\" style=\"fill:none;stroke:#000000;stroke-linecap:square;\"/>\n   </g>\n   <g id=\"line2d_57\">\n    <path clip-path=\"url(#p769424f9a4)\" d=\"M 279.978125 32.201761 \nL 289.278125 32.201761 \n\" style=\"fill:none;stroke:#000000;stroke-linecap:square;\"/>\n   </g>\n   <g id=\"line2d_58\">\n    <g clip-path=\"url(#p769424f9a4)\">\n     <use style=\"fill-opacity:0;stroke:#000000;\" x=\"284.628125\" xlink:href=\"#m80109b515a\" y=\"131.038125\"/>\n    </g>\n   </g>\n   <g id=\"line2d_59\">\n    <path clip-path=\"url(#p769424f9a4)\" d=\"M 312.528125 32.201761 \nL 331.128125 32.201761 \nL 331.128125 32.201761 \nL 312.528125 32.201761 \nL 312.528125 32.201761 \n\" style=\"fill:none;stroke:#000000;stroke-linecap:square;\"/>\n   </g>\n   <g id=\"line2d_60\">\n    <path clip-path=\"url(#p769424f9a4)\" d=\"M 321.828125 32.201761 \nL 321.828125 32.201761 \n\" style=\"fill:none;stroke:#000000;stroke-linecap:square;\"/>\n   </g>\n   <g id=\"line2d_61\">\n    <path clip-path=\"url(#p769424f9a4)\" d=\"M 321.828125 32.201761 \nL 321.828125 32.201761 \n\" style=\"fill:none;stroke:#000000;stroke-linecap:square;\"/>\n   </g>\n   <g id=\"line2d_62\">\n    <path clip-path=\"url(#p769424f9a4)\" d=\"M 317.178125 32.201761 \nL 326.478125 32.201761 \n\" style=\"fill:none;stroke:#000000;stroke-linecap:square;\"/>\n   </g>\n   <g id=\"line2d_63\">\n    <path clip-path=\"url(#p769424f9a4)\" d=\"M 317.178125 32.201761 \nL 326.478125 32.201761 \n\" style=\"fill:none;stroke:#000000;stroke-linecap:square;\"/>\n   </g>\n   <g id=\"line2d_64\">\n    <g clip-path=\"url(#p769424f9a4)\">\n     <use style=\"fill-opacity:0;stroke:#000000;\" x=\"321.828125\" xlink:href=\"#m80109b515a\" y=\"131.038125\"/>\n     <use style=\"fill-opacity:0;stroke:#000000;\" x=\"321.828125\" xlink:href=\"#m80109b515a\" y=\"229.874489\"/>\n    </g>\n   </g>\n   <g id=\"line2d_65\">\n    <path clip-path=\"url(#p769424f9a4)\" d=\"M 349.728125 106.329034 \nL 368.328125 106.329034 \nL 368.328125 32.201761 \nL 349.728125 32.201761 \nL 349.728125 106.329034 \n\" style=\"fill:none;stroke:#000000;stroke-linecap:square;\"/>\n   </g>\n   <g id=\"line2d_66\">\n    <path clip-path=\"url(#p769424f9a4)\" d=\"M 359.028125 106.329034 \nL 359.028125 131.038125 \n\" style=\"fill:none;stroke:#000000;stroke-linecap:square;\"/>\n   </g>\n   <g id=\"line2d_67\">\n    <path clip-path=\"url(#p769424f9a4)\" d=\"M 359.028125 32.201761 \nL 359.028125 32.201761 \n\" style=\"fill:none;stroke:#000000;stroke-linecap:square;\"/>\n   </g>\n   <g id=\"line2d_68\">\n    <path clip-path=\"url(#p769424f9a4)\" d=\"M 354.378125 131.038125 \nL 363.678125 131.038125 \n\" style=\"fill:none;stroke:#000000;stroke-linecap:square;\"/>\n   </g>\n   <g id=\"line2d_69\">\n    <path clip-path=\"url(#p769424f9a4)\" d=\"M 354.378125 32.201761 \nL 363.678125 32.201761 \n\" style=\"fill:none;stroke:#000000;stroke-linecap:square;\"/>\n   </g>\n   <g id=\"line2d_70\"/>\n   <g id=\"line2d_71\">\n    <path clip-path=\"url(#p769424f9a4)\" d=\"M 52.128125 32.201761 \nL 70.728125 32.201761 \n\" style=\"fill:none;stroke:#ff7f0e;stroke-linecap:square;\"/>\n   </g>\n   <g id=\"line2d_72\">\n    <path clip-path=\"url(#p769424f9a4)\" d=\"M 89.328125 32.201761 \nL 107.928125 32.201761 \n\" style=\"fill:none;stroke:#ff7f0e;stroke-linecap:square;\"/>\n   </g>\n   <g id=\"line2d_73\">\n    <path clip-path=\"url(#p769424f9a4)\" d=\"M 126.528125 32.201761 \nL 145.128125 32.201761 \n\" style=\"fill:none;stroke:#ff7f0e;stroke-linecap:square;\"/>\n   </g>\n   <g id=\"line2d_74\">\n    <path clip-path=\"url(#p769424f9a4)\" d=\"M 163.728125 32.201761 \nL 182.328125 32.201761 \n\" style=\"fill:none;stroke:#ff7f0e;stroke-linecap:square;\"/>\n   </g>\n   <g id=\"line2d_75\">\n    <path clip-path=\"url(#p769424f9a4)\" d=\"M 200.928125 32.201761 \nL 219.528125 32.201761 \n\" style=\"fill:none;stroke:#ff7f0e;stroke-linecap:square;\"/>\n   </g>\n   <g id=\"line2d_76\">\n    <path clip-path=\"url(#p769424f9a4)\" d=\"M 238.128125 32.201761 \nL 256.728125 32.201761 \n\" style=\"fill:none;stroke:#ff7f0e;stroke-linecap:square;\"/>\n   </g>\n   <g id=\"line2d_77\">\n    <path clip-path=\"url(#p769424f9a4)\" d=\"M 275.328125 32.201761 \nL 293.928125 32.201761 \n\" style=\"fill:none;stroke:#ff7f0e;stroke-linecap:square;\"/>\n   </g>\n   <g id=\"line2d_78\">\n    <path clip-path=\"url(#p769424f9a4)\" d=\"M 312.528125 32.201761 \nL 331.128125 32.201761 \n\" style=\"fill:none;stroke:#ff7f0e;stroke-linecap:square;\"/>\n   </g>\n   <g id=\"line2d_79\">\n    <path clip-path=\"url(#p769424f9a4)\" d=\"M 349.728125 32.201761 \nL 368.328125 32.201761 \n\" style=\"fill:none;stroke:#ff7f0e;stroke-linecap:square;\"/>\n   </g>\n   <g id=\"patch_3\">\n    <path d=\"M 42.828125 239.758125 \nL 42.828125 22.318125 \n\" style=\"fill:none;stroke:#000000;stroke-linecap:square;stroke-linejoin:miter;stroke-width:0.8;\"/>\n   </g>\n   <g id=\"patch_4\">\n    <path d=\"M 377.628125 239.758125 \nL 377.628125 22.318125 \n\" style=\"fill:none;stroke:#000000;stroke-linecap:square;stroke-linejoin:miter;stroke-width:0.8;\"/>\n   </g>\n   <g id=\"patch_5\">\n    <path d=\"M 42.828125 239.758125 \nL 377.628125 239.758125 \n\" style=\"fill:none;stroke:#000000;stroke-linecap:square;stroke-linejoin:miter;stroke-width:0.8;\"/>\n   </g>\n   <g id=\"patch_6\">\n    <path d=\"M 42.828125 22.318125 \nL 377.628125 22.318125 \n\" style=\"fill:none;stroke:#000000;stroke-linecap:square;stroke-linejoin:miter;stroke-width:0.8;\"/>\n   </g>\n   <g id=\"text_17\">\n    <!-- Perbandingan Algoritma -->\n    <g transform=\"translate(137.64875 16.318125)scale(0.12 -0.12)\">\n     <defs>\n      <path d=\"M 56.203125 29.59375 \nL 56.203125 25.203125 \nL 14.890625 25.203125 \nQ 15.484375 15.921875 20.484375 11.0625 \nQ 25.484375 6.203125 34.421875 6.203125 \nQ 39.59375 6.203125 44.453125 7.46875 \nQ 49.3125 8.734375 54.109375 11.28125 \nL 54.109375 2.78125 \nQ 49.265625 0.734375 44.1875 -0.34375 \nQ 39.109375 -1.421875 33.890625 -1.421875 \nQ 20.796875 -1.421875 13.15625 6.1875 \nQ 5.515625 13.8125 5.515625 26.8125 \nQ 5.515625 40.234375 12.765625 48.109375 \nQ 20.015625 56 32.328125 56 \nQ 43.359375 56 49.78125 48.890625 \nQ 56.203125 41.796875 56.203125 29.59375 \nz\nM 47.21875 32.234375 \nQ 47.125 39.59375 43.09375 43.984375 \nQ 39.0625 48.390625 32.421875 48.390625 \nQ 24.90625 48.390625 20.390625 44.140625 \nQ 15.875 39.890625 15.1875 32.171875 \nz\n\" id=\"DejaVuSans-101\"/>\n      <path d=\"M 41.109375 46.296875 \nQ 39.59375 47.171875 37.8125 47.578125 \nQ 36.03125 48 33.890625 48 \nQ 26.265625 48 22.1875 43.046875 \nQ 18.109375 38.09375 18.109375 28.8125 \nL 18.109375 0 \nL 9.078125 0 \nL 9.078125 54.6875 \nL 18.109375 54.6875 \nL 18.109375 46.1875 \nQ 20.953125 51.171875 25.484375 53.578125 \nQ 30.03125 56 36.53125 56 \nQ 37.453125 56 38.578125 55.875 \nQ 39.703125 55.765625 41.0625 55.515625 \nz\n\" id=\"DejaVuSans-114\"/>\n      <path d=\"M 48.6875 27.296875 \nQ 48.6875 37.203125 44.609375 42.84375 \nQ 40.53125 48.484375 33.40625 48.484375 \nQ 26.265625 48.484375 22.1875 42.84375 \nQ 18.109375 37.203125 18.109375 27.296875 \nQ 18.109375 17.390625 22.1875 11.75 \nQ 26.265625 6.109375 33.40625 6.109375 \nQ 40.53125 6.109375 44.609375 11.75 \nQ 48.6875 17.390625 48.6875 27.296875 \nz\nM 18.109375 46.390625 \nQ 20.953125 51.265625 25.265625 53.625 \nQ 29.59375 56 35.59375 56 \nQ 45.5625 56 51.78125 48.09375 \nQ 58.015625 40.1875 58.015625 27.296875 \nQ 58.015625 14.40625 51.78125 6.484375 \nQ 45.5625 -1.421875 35.59375 -1.421875 \nQ 29.59375 -1.421875 25.265625 0.953125 \nQ 20.953125 3.328125 18.109375 8.203125 \nL 18.109375 0 \nL 9.078125 0 \nL 9.078125 75.984375 \nL 18.109375 75.984375 \nz\n\" id=\"DejaVuSans-98\"/>\n      <path d=\"M 34.28125 27.484375 \nQ 23.390625 27.484375 19.1875 25 \nQ 14.984375 22.515625 14.984375 16.5 \nQ 14.984375 11.71875 18.140625 8.90625 \nQ 21.296875 6.109375 26.703125 6.109375 \nQ 34.1875 6.109375 38.703125 11.40625 \nQ 43.21875 16.703125 43.21875 25.484375 \nL 43.21875 27.484375 \nz\nM 52.203125 31.203125 \nL 52.203125 0 \nL 43.21875 0 \nL 43.21875 8.296875 \nQ 40.140625 3.328125 35.546875 0.953125 \nQ 30.953125 -1.421875 24.3125 -1.421875 \nQ 15.921875 -1.421875 10.953125 3.296875 \nQ 6 8.015625 6 15.921875 \nQ 6 25.140625 12.171875 29.828125 \nQ 18.359375 34.515625 30.609375 34.515625 \nL 43.21875 34.515625 \nL 43.21875 35.40625 \nQ 43.21875 41.609375 39.140625 45 \nQ 35.0625 48.390625 27.6875 48.390625 \nQ 23 48.390625 18.546875 47.265625 \nQ 14.109375 46.140625 10.015625 43.890625 \nL 10.015625 52.203125 \nQ 14.9375 54.109375 19.578125 55.046875 \nQ 24.21875 56 28.609375 56 \nQ 40.484375 56 46.34375 49.84375 \nQ 52.203125 43.703125 52.203125 31.203125 \nz\n\" id=\"DejaVuSans-97\"/>\n      <path d=\"M 54.890625 33.015625 \nL 54.890625 0 \nL 45.90625 0 \nL 45.90625 32.71875 \nQ 45.90625 40.484375 42.875 44.328125 \nQ 39.84375 48.1875 33.796875 48.1875 \nQ 26.515625 48.1875 22.3125 43.546875 \nQ 18.109375 38.921875 18.109375 30.90625 \nL 18.109375 0 \nL 9.078125 0 \nL 9.078125 54.6875 \nL 18.109375 54.6875 \nL 18.109375 46.1875 \nQ 21.34375 51.125 25.703125 53.5625 \nQ 30.078125 56 35.796875 56 \nQ 45.21875 56 50.046875 50.171875 \nQ 54.890625 44.34375 54.890625 33.015625 \nz\n\" id=\"DejaVuSans-110\"/>\n      <path d=\"M 45.40625 46.390625 \nL 45.40625 75.984375 \nL 54.390625 75.984375 \nL 54.390625 0 \nL 45.40625 0 \nL 45.40625 8.203125 \nQ 42.578125 3.328125 38.25 0.953125 \nQ 33.9375 -1.421875 27.875 -1.421875 \nQ 17.96875 -1.421875 11.734375 6.484375 \nQ 5.515625 14.40625 5.515625 27.296875 \nQ 5.515625 40.1875 11.734375 48.09375 \nQ 17.96875 56 27.875 56 \nQ 33.9375 56 38.25 53.625 \nQ 42.578125 51.265625 45.40625 46.390625 \nz\nM 14.796875 27.296875 \nQ 14.796875 17.390625 18.875 11.75 \nQ 22.953125 6.109375 30.078125 6.109375 \nQ 37.203125 6.109375 41.296875 11.75 \nQ 45.40625 17.390625 45.40625 27.296875 \nQ 45.40625 37.203125 41.296875 42.84375 \nQ 37.203125 48.484375 30.078125 48.484375 \nQ 22.953125 48.484375 18.875 42.84375 \nQ 14.796875 37.203125 14.796875 27.296875 \nz\n\" id=\"DejaVuSans-100\"/>\n      <path d=\"M 9.421875 54.6875 \nL 18.40625 54.6875 \nL 18.40625 0 \nL 9.421875 0 \nz\nM 9.421875 75.984375 \nL 18.40625 75.984375 \nL 18.40625 64.59375 \nL 9.421875 64.59375 \nz\n\" id=\"DejaVuSans-105\"/>\n      <path d=\"M 45.40625 27.984375 \nQ 45.40625 37.75 41.375 43.109375 \nQ 37.359375 48.484375 30.078125 48.484375 \nQ 22.859375 48.484375 18.828125 43.109375 \nQ 14.796875 37.75 14.796875 27.984375 \nQ 14.796875 18.265625 18.828125 12.890625 \nQ 22.859375 7.515625 30.078125 7.515625 \nQ 37.359375 7.515625 41.375 12.890625 \nQ 45.40625 18.265625 45.40625 27.984375 \nz\nM 54.390625 6.78125 \nQ 54.390625 -7.171875 48.1875 -13.984375 \nQ 42 -20.796875 29.203125 -20.796875 \nQ 24.46875 -20.796875 20.265625 -20.09375 \nQ 16.0625 -19.390625 12.109375 -17.921875 \nL 12.109375 -9.1875 \nQ 16.0625 -11.328125 19.921875 -12.34375 \nQ 23.78125 -13.375 27.78125 -13.375 \nQ 36.625 -13.375 41.015625 -8.765625 \nQ 45.40625 -4.15625 45.40625 5.171875 \nL 45.40625 9.625 \nQ 42.625 4.78125 38.28125 2.390625 \nQ 33.9375 0 27.875 0 \nQ 17.828125 0 11.671875 7.65625 \nQ 5.515625 15.328125 5.515625 27.984375 \nQ 5.515625 40.671875 11.671875 48.328125 \nQ 17.828125 56 27.875 56 \nQ 33.9375 56 38.28125 53.609375 \nQ 42.625 51.21875 45.40625 46.390625 \nL 45.40625 54.6875 \nL 54.390625 54.6875 \nz\n\" id=\"DejaVuSans-103\"/>\n      <path id=\"DejaVuSans-32\"/>\n      <path d=\"M 9.421875 75.984375 \nL 18.40625 75.984375 \nL 18.40625 0 \nL 9.421875 0 \nz\n\" id=\"DejaVuSans-108\"/>\n      <path d=\"M 30.609375 48.390625 \nQ 23.390625 48.390625 19.1875 42.75 \nQ 14.984375 37.109375 14.984375 27.296875 \nQ 14.984375 17.484375 19.15625 11.84375 \nQ 23.34375 6.203125 30.609375 6.203125 \nQ 37.796875 6.203125 41.984375 11.859375 \nQ 46.1875 17.53125 46.1875 27.296875 \nQ 46.1875 37.015625 41.984375 42.703125 \nQ 37.796875 48.390625 30.609375 48.390625 \nz\nM 30.609375 56 \nQ 42.328125 56 49.015625 48.375 \nQ 55.71875 40.765625 55.71875 27.296875 \nQ 55.71875 13.875 49.015625 6.21875 \nQ 42.328125 -1.421875 30.609375 -1.421875 \nQ 18.84375 -1.421875 12.171875 6.21875 \nQ 5.515625 13.875 5.515625 27.296875 \nQ 5.515625 40.765625 12.171875 48.375 \nQ 18.84375 56 30.609375 56 \nz\n\" id=\"DejaVuSans-111\"/>\n      <path d=\"M 18.3125 70.21875 \nL 18.3125 54.6875 \nL 36.8125 54.6875 \nL 36.8125 47.703125 \nL 18.3125 47.703125 \nL 18.3125 18.015625 \nQ 18.3125 11.328125 20.140625 9.421875 \nQ 21.96875 7.515625 27.59375 7.515625 \nL 36.8125 7.515625 \nL 36.8125 0 \nL 27.59375 0 \nQ 17.1875 0 13.234375 3.875 \nQ 9.28125 7.765625 9.28125 18.015625 \nL 9.28125 47.703125 \nL 2.6875 47.703125 \nL 2.6875 54.6875 \nL 9.28125 54.6875 \nL 9.28125 70.21875 \nz\n\" id=\"DejaVuSans-116\"/>\n      <path d=\"M 52 44.1875 \nQ 55.375 50.25 60.0625 53.125 \nQ 64.75 56 71.09375 56 \nQ 79.640625 56 84.28125 50.015625 \nQ 88.921875 44.046875 88.921875 33.015625 \nL 88.921875 0 \nL 79.890625 0 \nL 79.890625 32.71875 \nQ 79.890625 40.578125 77.09375 44.375 \nQ 74.3125 48.1875 68.609375 48.1875 \nQ 61.625 48.1875 57.5625 43.546875 \nQ 53.515625 38.921875 53.515625 30.90625 \nL 53.515625 0 \nL 44.484375 0 \nL 44.484375 32.71875 \nQ 44.484375 40.625 41.703125 44.40625 \nQ 38.921875 48.1875 33.109375 48.1875 \nQ 26.21875 48.1875 22.15625 43.53125 \nQ 18.109375 38.875 18.109375 30.90625 \nL 18.109375 0 \nL 9.078125 0 \nL 9.078125 54.6875 \nL 18.109375 54.6875 \nL 18.109375 46.1875 \nQ 21.1875 51.21875 25.484375 53.609375 \nQ 29.78125 56 35.6875 56 \nQ 41.65625 56 45.828125 52.96875 \nQ 50 49.953125 52 44.1875 \nz\n\" id=\"DejaVuSans-109\"/>\n     </defs>\n     <use xlink:href=\"#DejaVuSans-80\"/>\n     <use x=\"56.677734\" xlink:href=\"#DejaVuSans-101\"/>\n     <use x=\"118.201172\" xlink:href=\"#DejaVuSans-114\"/>\n     <use x=\"159.314453\" xlink:href=\"#DejaVuSans-98\"/>\n     <use x=\"222.791016\" xlink:href=\"#DejaVuSans-97\"/>\n     <use x=\"284.070312\" xlink:href=\"#DejaVuSans-110\"/>\n     <use x=\"347.449219\" xlink:href=\"#DejaVuSans-100\"/>\n     <use x=\"410.925781\" xlink:href=\"#DejaVuSans-105\"/>\n     <use x=\"438.708984\" xlink:href=\"#DejaVuSans-110\"/>\n     <use x=\"502.087891\" xlink:href=\"#DejaVuSans-103\"/>\n     <use x=\"565.564453\" xlink:href=\"#DejaVuSans-97\"/>\n     <use x=\"626.84375\" xlink:href=\"#DejaVuSans-110\"/>\n     <use x=\"690.222656\" xlink:href=\"#DejaVuSans-32\"/>\n     <use x=\"722.009766\" xlink:href=\"#DejaVuSans-65\"/>\n     <use x=\"790.417969\" xlink:href=\"#DejaVuSans-108\"/>\n     <use x=\"818.201172\" xlink:href=\"#DejaVuSans-103\"/>\n     <use x=\"881.677734\" xlink:href=\"#DejaVuSans-111\"/>\n     <use x=\"942.859375\" xlink:href=\"#DejaVuSans-114\"/>\n     <use x=\"983.972656\" xlink:href=\"#DejaVuSans-105\"/>\n     <use x=\"1011.755859\" xlink:href=\"#DejaVuSans-116\"/>\n     <use x=\"1050.964844\" xlink:href=\"#DejaVuSans-109\"/>\n     <use x=\"1148.376953\" xlink:href=\"#DejaVuSans-97\"/>\n    </g>\n   </g>\n  </g>\n </g>\n <defs>\n  <clipPath id=\"p769424f9a4\">\n   <rect height=\"217.44\" width=\"334.8\" x=\"42.828125\" y=\"22.318125\"/>\n  </clipPath>\n </defs>\n</svg>\n",
      "image/png": "[encoded data removed]"
     },
     "metadata": {
      "needs_background": "light"
     }
    }
   ],
   "source": [
    "pyplot.boxplot(results, labels = names)\n",
    "pyplot.title('Perbandingan Algoritma')\n",
    "pyplot.show()"
   ]
  },
  {
   "cell_type": "code",
   "execution_count": null,
   "metadata": {},
   "outputs": [],
   "source": []
  }
 ]
}