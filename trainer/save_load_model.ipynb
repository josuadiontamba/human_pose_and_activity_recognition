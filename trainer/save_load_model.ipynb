{
 "metadata": {
  "language_info": {
   "codemirror_mode": {
    "name": "ipython",
    "version": 3
   },
   "file_extension": ".py",
   "mimetype": "text/x-python",
   "name": "python",
   "nbconvert_exporter": "python",
   "pygments_lexer": "ipython3",
   "version": "3.6.9-final"
  },
  "orig_nbformat": 2,
  "kernelspec": {
   "name": "python369jvsc74a57bd04cd7ab41f5fca4b9b44701077e38c5ffd31fe66a6cab21e0214b68d958d0e462",
   "display_name": "Python 3.6.9 64-bit"
  },
  "metadata": {
   "interpreter": {
    "hash": "4cd7ab41f5fca4b9b44701077e38c5ffd31fe66a6cab21e0214b68d958d0e462"
   }
  }
 },
 "nbformat": 4,
 "nbformat_minor": 2,
 "cells": [
  {
   "cell_type": "code",
   "execution_count": 1,
   "metadata": {},
   "outputs": [],
   "source": [
    "import pandas\n",
    "from sklearn import model_selection\n",
    "from sklearn.linear_model import LogisticRegression\n",
    "import pickle\n",
    "from sklearn.svm import SVC\n"
   ]
  },
  {
   "cell_type": "code",
   "execution_count": 2,
   "metadata": {},
   "outputs": [],
   "source": [
    "url = \"/home/jos/tf_lab/Ultralight-SimplePose/generator_dataset/dataset_file_5.csv\"\n",
    "data_title = ['0','1','2','3','4','5','6','7','8','9','10','11','12','13','14','15','16','res']\n",
    "\n",
    "dataset = pandas.read_csv(url, names=data_title)\n",
    "# Split-out validation dataset\n",
    "array = dataset.values\n",
    "\n",
    "X = array[:,[5,6,11,12,13,14,15,16]]\n",
    "y = array[:,len(data_title)-1]\n",
    "data_title = ['5','6','11','12','13','14','15','16','res']\n",
    "\n",
    "test_size= 0.20\n",
    "\n",
    "seed = 7\n",
    "# X_train, X_test, Y_train, Y_test = model_selection.train_test_split(X, y , test_size=test_size, random_state=seed)\n",
    "\n",
    "X_train, X_validation, Y_train, Y_validation = model_selection.train_test_split(X, y , train_size=0.9999)\n",
    "\n"
   ]
  },
  {
   "cell_type": "code",
   "execution_count": 3,
   "metadata": {},
   "outputs": [
    {
     "output_type": "stream",
     "name": "stdout",
     "text": [
      "[[0.456242 0.416457 0.561455 ... 0.432543 0.621492 0.648446]\n [0.560382 0.46915  0.326703 ... 0.459476 0.636262 0.636262]\n [0.59056  0.56264  0.107501 ... 0.454288 0.853824 0.853824]\n ...\n [0.608699 0.538848 0.317889 ... 0.367898 0.844572 0.804258]\n [0.616975 0.542511 0.085326 ... 0.361678 0.844088 0.823326]\n [0.571488 0.591407 0.098386 ... 0.462426 0.774452 0.862206]]\n"
     ]
    }
   ],
   "source": [
    "print(X_train)\n"
   ]
  },
  {
   "cell_type": "code",
   "execution_count": 4,
   "metadata": {},
   "outputs": [
    {
     "output_type": "stream",
     "name": "stdout",
     "text": [
      "[[0.515008 0.470203 0.316211 0.346432 0.482108 0.482108 0.629188 0.716906]]\n"
     ]
    }
   ],
   "source": [
    "print(X_validation)"
   ]
  },
  {
   "cell_type": "code",
   "execution_count": 5,
   "metadata": {},
   "outputs": [
    {
     "output_type": "stream",
     "name": "stdout",
     "text": [
      "[1. 1. 2. 2. 2. 2. 3. 2. 1. 1. 2. 1. 3. 1. 1. 2. 1. 3. 3. 1. 1. 1. 1. 2.\n 1. 3. 1. 2. 2. 2. 2. 3. 1. 3. 1. 1. 2. 1. 1. 1. 3. 3. 3. 2. 3. 1. 1. 1.\n 1. 2. 3. 1. 3. 1. 2. 2. 2. 1. 1. 1. 1. 1. 2. 1. 1. 1. 1. 2. 3. 2. 2. 3.\n 2. 2. 1. 2. 2. 1. 2. 1. 1. 2. 1. 1. 2. 1. 1. 1. 2. 1. 3. 3. 2. 2. 2. 3.\n 3. 1. 1. 2. 2. 1. 1. 1. 2. 1. 1. 2. 2. 1. 2. 3. 1. 3. 2. 1. 2. 2. 2. 2.\n 1. 2. 1. 1. 1. 3. 1. 1. 2. 2. 2. 1. 2. 2. 2. 1. 2. 1. 1. 2. 3. 2. 1. 2.\n 3. 2. 1. 1. 2. 2. 1. 2. 3. 3. 3. 2. 2. 2. 2. 3. 3. 1. 2. 1. 3. 2. 1. 2.\n 2. 2. 1. 3. 1. 2. 2. 1. 1. 3. 2. 1. 1. 2. 3. 2. 1. 2. 1. 1. 1. 3. 1. 1.\n 2. 1. 3. 2. 1. 3. 3. 1. 2. 1. 3. 3. 2. 2. 1. 2. 3. 1. 2. 2. 2. 2. 3. 2.\n 2. 1. 1. 3. 1. 2. 3. 3. 3. 2. 2. 2. 2. 2. 1. 2. 3. 3. 1. 1. 3. 3. 1. 1.\n 1. 2. 1. 2. 2. 2. 3. 1. 3. 3. 1. 3. 2. 1. 1. 2. 1. 1. 3. 3. 2. 2. 2. 3.\n 1. 2. 3. 3. 2. 2. 3. 2. 2. 1. 3. 1. 2. 1. 1. 1. 1. 2. 2. 1. 1. 2. 3. 2.\n 2. 2. 2. 3. 3. 1. 3. 3. 1. 2. 3. 2. 3. 3. 2. 2. 3. 3. 2. 2. 1. 1. 3. 2.\n 3. 1. 3. 1. 1. 2. 1. 1. 1. 2. 1. 1. 2. 2. 2. 3. 2. 3. 1. 2. 1. 3. 1. 3.\n 3. 3. 2. 1. 3. 1. 1. 2. 1. 3. 3. 1. 1. 1. 2. 2. 2. 3. 1. 3. 1. 1. 2. 1.\n 1. 1. 3. 2. 3. 3. 3. 2. 1. 3. 1. 3. 3. 1. 2. 3. 2. 1. 2. 1. 2. 2. 2. 2.\n 1. 2. 2. 2. 3. 1. 1. 3. 2. 2. 3. 2. 1. 3. 2. 2. 1. 1. 3. 2. 2. 3. 1. 1.\n 1. 2. 2. 2. 2. 1. 3. 2. 1. 2. 1. 3. 1. 2. 2. 2. 2. 3. 1. 2. 1. 3. 3. 1.\n 3. 1. 1. 1. 1. 1. 1. 1. 3. 1. 2. 2. 3. 3. 2. 1. 2. 2. 1. 1. 1. 1. 3. 2.\n 2. 1. 1. 2. 2. 2. 1. 1. 2. 2. 1. 2. 1. 3. 1. 1. 1. 2. 1. 3. 1. 1. 2. 2.\n 2. 3. 3. 1. 2. 2. 1. 3. 1. 2. 3. 3. 2. 1. 2. 2. 2. 2. 3. 3. 2. 2. 3. 3.\n 1. 2. 1. 2. 3. 1. 3. 1. 3. 3. 1. 2. 1. 2. 3. 1. 3. 2. 3. 2. 2. 1. 2. 1.\n 1. 2. 2. 1. 3. 2. 2. 3. 3. 2. 1. 3. 2. 3. 2. 3. 2. 3. 1. 2. 1. 2. 2. 2.\n 1. 1. 1. 1. 3. 3. 1. 1. 3. 1. 2. 2. 1. 1. 1. 1. 2. 1. 1. 2. 1. 1. 1. 2.\n 2. 3. 1. 2. 1. 3. 2. 2. 2. 2. 3. 2. 2. 3. 2. 1. 2. 1. 1. 3. 2. 1. 2. 1.\n 1. 2. 1. 2. 2. 1. 2. 2. 3. 2. 2. 3. 1. 3. 1. 3. 1. 1. 2. 2. 3. 3. 3. 3.\n 2. 1. 3. 2. 3. 2. 1. 1. 2. 3. 2. 3. 3. 2. 3. 2. 2. 2. 1. 3. 3. 1. 2. 1.\n 2. 2. 2. 3. 1. 3. 2. 1. 1. 2. 2. 1. 3. 1. 1. 2. 3. 2. 3. 2. 1. 1. 2. 1.\n 3. 2. 1. 2. 1. 1. 1. 1. 1. 1. 2. 2. 1. 3. 2. 1. 3. 1. 2. 2. 1. 2. 2. 1.\n 2. 1. 3. 1. 2. 3. 1. 1. 2. 2. 3. 1. 3. 1. 3. 1. 1. 3. 2. 1. 2. 3. 1. 1.\n 3. 2. 1. 3. 2. 2. 2. 1. 2. 3. 2. 3. 2. 1. 3. 1. 3. 2. 2. 3. 2. 1. 2. 3.\n 1. 2. 3. 1. 1. 3. 2. 2. 2. 2. 1. 3. 3. 1. 2. 2. 3. 1. 2. 2. 2. 2. 1. 3.\n 3. 2. 2. 3. 2. 2. 2. 1. 1. 3. 1. 3. 3. 2. 2. 2. 2. 3. 1. 2. 3. 3. 3. 1.\n 3. 2. 1. 3. 1. 1. 3. 2. 1. 1. 3. 1. 2. 1. 3. 1. 3. 2. 2.]\n"
     ]
    }
   ],
   "source": [
    "print(Y_train)"
   ]
  },
  {
   "cell_type": "code",
   "execution_count": 6,
   "metadata": {},
   "outputs": [
    {
     "output_type": "stream",
     "name": "stdout",
     "text": [
      "[1.]\n"
     ]
    }
   ],
   "source": [
    "print(Y_validation)"
   ]
  },
  {
   "source": [
    "### SVC"
   ],
   "cell_type": "markdown",
   "metadata": {}
  },
  {
   "cell_type": "code",
   "execution_count": 7,
   "metadata": {},
   "outputs": [
    {
     "output_type": "execute_result",
     "data": {
      "text/plain": [
       "SVC(gamma='auto')"
      ]
     },
     "metadata": {},
     "execution_count": 7
    }
   ],
   "source": [
    "model = SVC(gamma='auto')\n",
    "model.fit(X_train, Y_train)\n",
    "filename = 'SVM_model.sav'\n",
    "pickle.dump(model, open(filename, 'wb'))"
   ]
  },
  {
   "source": [
    "### Try Load the model from disk"
   ],
   "cell_type": "markdown",
   "metadata": {}
  },
  {
   "cell_type": "code",
   "execution_count": 11,
   "metadata": {},
   "outputs": [],
   "source": [
    "# loaded_model = pickle.load(open(filename, 'rb'))\n",
    "# result = loaded_model.score(X_test, Y_test)\n",
    "# print(result)"
   ]
  },
  {
   "cell_type": "code",
   "execution_count": 14,
   "metadata": {},
   "outputs": [],
   "source": [
    "# pred = [[114.4793,123.9108,30.7718,17.9075,146.0256,105.2013,178.1867,182.9834]]\n",
    "\n",
    "# print(loaded_model.predict(pred))"
   ]
  },
  {
   "source": [
    "### AdaBoost"
   ],
   "cell_type": "markdown",
   "metadata": {}
  },
  {
   "cell_type": "code",
   "execution_count": 15,
   "metadata": {},
   "outputs": [],
   "source": [
    "from sklearn.ensemble import AdaBoostClassifier\n",
    "model = AdaBoostClassifier()\n",
    "model.fit(X_train, Y_train)\n",
    "filename = 'AB_model_2.sav'\n",
    "pickle.dump(model, open(filename, 'wb'))\n"
   ]
  },
  {
   "source": [
    "### SGD"
   ],
   "cell_type": "markdown",
   "metadata": {}
  },
  {
   "cell_type": "code",
   "execution_count": 16,
   "metadata": {},
   "outputs": [],
   "source": [
    "from sklearn.linear_model import SGDClassifier\n",
    "model = SGDClassifier()\n",
    "model.fit(X_train, Y_train)\n",
    "filename = 'SGD_model.sav'\n",
    "pickle.dump(model, open(filename, 'wb'))\n"
   ]
  },
  {
   "cell_type": "code",
   "execution_count": null,
   "metadata": {},
   "outputs": [],
   "source": []
  }
 ]
}